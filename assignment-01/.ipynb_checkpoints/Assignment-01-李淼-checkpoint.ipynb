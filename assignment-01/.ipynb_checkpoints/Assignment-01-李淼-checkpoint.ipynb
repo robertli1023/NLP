{
 "cells": [
  {
   "cell_type": "markdown",
   "metadata": {},
   "source": [
    "## Lesson-01 Assignment"
   ]
  },
  {
   "cell_type": "markdown",
   "metadata": {},
   "source": [
    ">"
   ]
  },
  {
   "cell_type": "markdown",
   "metadata": {},
   "source": [
    "`各位同学大家好，欢迎各位开始学习我们的人工智能课程。这门课程假设大家不具备机器学习和人工智能的知识，但是希望大家具备初级的Python编程能力。根据往期同学的实际反馈，我们课程的完结之后 能力能够超过80%的计算机人工智能/深度学习方向的硕士生的能力。`"
   ]
  },
  {
   "cell_type": "markdown",
   "metadata": {},
   "source": [
    "## 本次作业的内容"
   ]
  },
  {
   "cell_type": "markdown",
   "metadata": {},
   "source": [
    "#### 1. 复现课堂代码\n",
    "\n",
    "在本部分，你需要参照我们给大家的GitHub地址里边的课堂代码，结合课堂内容，复现内容。"
   ]
  },
  {
   "cell_type": "markdown",
   "metadata": {},
   "source": [
    "#### 2. 请回答以下问题\n",
    "\n",
    "回答以下问题，并将问题发送至 mqgao@kaikeba.com中：\n",
    "```\n",
    "    2.1. what do you want to acquire in this course？\n",
    "    2.2. what problems do you want to solve？\n",
    "    2.3. what’s the advantages you have to finish you goal?\n",
    "    2.4. what’s the disadvantages you need to overcome to finish you goal?\n",
    "    2.5. How will you plan to study in this course period?\n",
    "```"
   ]
  },
  {
   "cell_type": "markdown",
   "metadata": {},
   "source": [
    "#### 3. 如何提交\n",
    "代码 + 此 jupyter 相关，提交至自己的 github 中(**所以请务必把GitHub按照班主任要求录入在Trello中**)；\n",
    "第2问，请提交至mqgao@kaikeba.com邮箱。\n",
    "#### 4. 作业截止时间\n",
    "此次作业截止时间为 2019.7.6日"
   ]
  },
  {
   "cell_type": "markdown",
   "metadata": {},
   "source": [
    "#### 5. 完成以下问答和编程练习"
   ]
  },
  {
   "cell_type": "markdown",
   "metadata": {},
   "source": [
    ">"
   ]
  },
  {
   "cell_type": "markdown",
   "metadata": {},
   "source": [
    "## 基础理论部分"
   ]
  },
  {
   "cell_type": "markdown",
   "metadata": {},
   "source": [
    "#### 0. Can you come up out 3 sceneraies which use AI methods? "
   ]
  },
  {
   "cell_type": "markdown",
   "metadata": {},
   "source": [
    "Ans: {Chatbox; Alpha Go; Automatic Driving}"
   ]
  },
  {
   "cell_type": "markdown",
   "metadata": {},
   "source": [
    "#### 1. How do we use Github; Why do we use Jupyter and Pycharm;"
   ]
  },
  {
   "cell_type": "markdown",
   "metadata": {},
   "source": [
    "How do we use Github?\n",
    "1. register accout in github.com, install git tools in your computer OS.\n",
    "2. create repository either in github.com or your local computer, then mapping them.\n",
    "3. do your work locally, then push your modification to the remote github server.\n",
    "4. Also we may have diffrent branch for a repository, we handle different problems in those branchs and finnaly we can merge those branches if needed.\n",
    "5. we can also use github for revert work, put tags  and make comments in each commit, etc.\n",
    "\n",
    "Why do we use Jupyter and Pycharm?\n",
    "\n",
    "Juypter and Pycharm both are very good develop tools for python development.\n",
    "In Jupyter, we use browser as the interface to run python statements, and users could see the result for each statements in a freindly way.\n",
    "Pycharm also could run python statments, and it provides a debug environment and run faster than Jupyter, "
   ]
  },
  {
   "cell_type": "markdown",
   "metadata": {},
   "source": [
    "#### 2. What's the Probability Model?"
   ]
  },
  {
   "cell_type": "markdown",
   "metadata": {},
   "source": [
    "Ans: Probability Model is the Model based on probability theory and mathematical statistics, some process could not be deduced by theoretical analysis method, but the functional relationship among variables can be obtained by experimental data and mathematical statistics method, that is called probability model."
   ]
  },
  {
   "cell_type": "markdown",
   "metadata": {},
   "source": [
    "#### 3. Can you came up with some sceneraies at which we could use Probability Model?"
   ]
  },
  {
   "cell_type": "markdown",
   "metadata": {},
   "source": [
    "Ans: bet on horses; weather forecast; field goal."
   ]
  },
  {
   "cell_type": "markdown",
   "metadata": {},
   "source": [
    "#### 4. Why do we use probability and what's the difficult points for programming based on parsing and pattern match?"
   ]
  },
  {
   "cell_type": "markdown",
   "metadata": {},
   "source": [
    "Ans: we use probalility model for Forecast, information extraction and Description of stochastic structures\n",
    "The difficult points of programming based on parsing and pattern match is that the computing resources is limited, if the parsing and pattern match is too complecated, we could not get the result in a disarable time."
   ]
  },
  {
   "cell_type": "markdown",
   "metadata": {},
   "source": [
    "#### 5. What's the Language Model;"
   ]
  },
  {
   "cell_type": "markdown",
   "metadata": {},
   "source": [
    "Ans: Language Model is a model used to calculate the probability of a sentence appearing."
   ]
  },
  {
   "cell_type": "markdown",
   "metadata": {},
   "source": [
    "#### 6. Can you came up with some sceneraies at which we could use Language Model?\n"
   ]
  },
  {
   "cell_type": "markdown",
   "metadata": {},
   "source": [
    "Ans:speech recognition; machine tranlation; "
   ]
  },
  {
   "cell_type": "markdown",
   "metadata": {},
   "source": [
    "#### 7. What's the 1-gram language model;"
   ]
  },
  {
   "cell_type": "markdown",
   "metadata": {},
   "source": [
    "Ans: Each word is independent, P(w1w2w3) = p(w1) * p(w2) * p(w3)"
   ]
  },
  {
   "cell_type": "markdown",
   "metadata": {},
   "source": [
    "#### 8. What's the disadvantages and advantages of 1-gram language model;"
   ]
  },
  {
   "cell_type": "markdown",
   "metadata": {},
   "source": [
    "Ans: \n",
    "disadvantages:\n",
    "cannot reveal the intrinsic connection between word, inaccurate\n",
    "advantages:\n",
    "easy to computing "
   ]
  },
  {
   "cell_type": "markdown",
   "metadata": {},
   "source": [
    "#### 9. What't the 2-gram models;"
   ]
  },
  {
   "cell_type": "markdown",
   "metadata": {},
   "source": [
    "Ans: it is a language model that the current word probablites only  releated to previous word probabilty. P(w1w2w3)= p(w1|w0)* p(w2|w1) * p(w3|w2)"
   ]
  },
  {
   "cell_type": "markdown",
   "metadata": {},
   "source": [
    "## 编程实践部分"
   ]
  },
  {
   "cell_type": "markdown",
   "metadata": {},
   "source": [
    "#### 1. 设计你自己的句子生成器"
   ]
  },
  {
   "cell_type": "markdown",
   "metadata": {},
   "source": [
    "如何生成句子是一个很经典的问题，从1940s开始，图灵提出机器智能的时候，就使用的是人类能不能流畅和计算机进行对话。和计算机对话的一个前提是，计算机能够生成语言。\n",
    "\n",
    "计算机如何能生成语言是一个经典但是又很复杂的问题。 我们课程上为大家介绍的是一种基于规则（Rule Based）的生成方法。该方法虽然提出的时间早，但是现在依然在很多地方能够大显身手。值得说明的是，现在很多很实用的算法，都是很久之前提出的，例如，二分查找提出与1940s, Dijstra算法提出于1960s 等等。"
   ]
  },
  {
   "cell_type": "markdown",
   "metadata": {},
   "source": [
    "在著名的电视剧，电影《西部世界》中，这些机器人们语言生成的方法就是使用的SyntaxTree生成语言的方法。\n",
    "\n",
    "> \n",
    ">\n",
    "\n",
    "![WstWorld](https://timgsa.baidu.com/timg?image&quality=80&size=b10000_10000&sec=1561818705&di=95ca9ff2ff37fcb88ae47b82c7079feb&src=http://s7.sinaimg.cn/mw690/006BKUGwzy75VK46FMi66&690)\n",
    "\n",
    "> \n",
    ">"
   ]
  },
  {
   "cell_type": "markdown",
   "metadata": {},
   "source": [
    "在这一部分，需要各位同学首先定义自己的语言。 大家可以先想一个应用场景，然后在这个场景下，定义语法。例如：\n",
    "\n",
    "在西部世界里，一个”人类“的语言可以定义为：\n",
    "``` \n",
    "human = \"\"\"\n",
    "human = 自己 寻找 活动\n",
    "自己 = 我 | 俺 | 我们 \n",
    "寻找 = 看看 | 找找 | 想找点\n",
    "活动 = 乐子 | 玩的\n",
    "\"\"\"\n",
    "```\n",
    "\n",
    "一个“接待员”的语言可以定义为\n",
    "```\n",
    "host = \"\"\"\n",
    "host = 寒暄 报数 询问 业务相关 结尾 \n",
    "报数 = 我是 数字 号 ,\n",
    "数字 = 单个数字 | 数字 单个数字 \n",
    "单个数字 = 1 | 2 | 3 | 4 | 5 | 6 | 7 | 8 | 9 \n",
    "寒暄 = 称谓 打招呼 | 打招呼\n",
    "称谓 = 人称 ,\n",
    "人称 = 先生 | 女士 | 小朋友\n",
    "打招呼 = 你好 | 您好 \n",
    "询问 = 请问你要 | 您需要\n",
    "业务相关 = 玩玩 具体业务\n",
    "玩玩 = 耍一耍 | 玩一玩\n",
    "具体业务 = 喝酒 | 打牌 | 打猎 | 赌博\n",
    "结尾 = 吗？\"\"\"\n",
    "\n",
    "```\n",
    "\n",
    "\n"
   ]
  },
  {
   "cell_type": "markdown",
   "metadata": {},
   "source": [
    "请定义你自己的语法: "
   ]
  },
  {
   "cell_type": "markdown",
   "metadata": {},
   "source": [
    "第一个语法："
   ]
  },
  {
   "cell_type": "code",
   "execution_count": null,
   "metadata": {},
   "outputs": [],
   "source": [
    "self_intro = \"\"\"\n",
    "intro = 寒暄 关于我 关于工作 工作之外\n",
    "寒暄 = 大家好 | 各位好 | 各位同学老师好\n",
    "关于我 = 我是 名字 ， \n",
    "关于工作 = 目前 状况 ，\n",
    "名字 = Alice | Bob | Eve\n",
    "状况 = 在 地点 事情\n",
    "地点 = 北京 | 上海 | 石河子\n",
    "事情 = 上班 | 上学\n",
    "工作之外 = 平时喜欢 活动\n",
    "活动 = 打篮球 | 旅游 | 看书 活动\n",
    "\"\"\""
   ]
  },
  {
   "cell_type": "markdown",
   "metadata": {},
   "source": [
    "第二个语法："
   ]
  },
  {
   "cell_type": "code",
   "execution_count": null,
   "metadata": {},
   "outputs": [],
   "source": [
    "simple_grammar = '''\n",
    "sentence => noun_phrase verb_phrase\n",
    "noun_phrase => Article Adj* noun\n",
    "Adj* => null | Adj Adj*\n",
    "verb_phrase => verb noun_phrase\n",
    "Article =>  一个 | 一群 | 一堆\n",
    "noun =>   程序员 |  测试 | 单身狗 | PM\n",
    "verb => 看着   |  坐在 |  听着 | 看见\n",
    "Adj =>  苦逼的 | 秃顶的 | 加班的\n",
    "'''"
   ]
  },
  {
   "cell_type": "code",
   "execution_count": null,
   "metadata": {},
   "outputs": [],
   "source": [
    "def create_grammar(grammar_str, split='=>', linesplit='\\n'):\n",
    "    grammar = {}\n",
    "    for line in grammar_str.split(linesplit):\n",
    "        if not line.strip(): continue             # if line empty,continue\n",
    "        exp, stmt = line.split(split)\n",
    "        grammar[exp.strip()] = [s.split() for s in stmt.split('|')]\n",
    "    return grammar"
   ]
  },
  {
   "cell_type": "code",
   "execution_count": null,
   "metadata": {},
   "outputs": [],
   "source": [
    "def generate(gram, target):\n",
    "    if target not in gram: return target # target is terminal expression\n",
    "    \n",
    "    expand = [generate(gram, t) for t in random.choice(gram[target]) ]\n",
    "    return ''.join([e if e !='/n' else '\\n' for e in expand if e != 'null'])"
   ]
  },
  {
   "cell_type": "code",
   "execution_count": null,
   "metadata": {},
   "outputs": [],
   "source": [
    "import random\n"
   ]
  },
  {
   "cell_type": "code",
   "execution_count": 389,
   "metadata": {},
   "outputs": [],
   "source": [
    "gram=create_grammar(self_intro, split='=')\n"
   ]
  },
  {
   "cell_type": "code",
   "execution_count": null,
   "metadata": {},
   "outputs": [],
   "source": [
    "intro = generate(gram, 'intro')\n",
    "intro"
   ]
  },
  {
   "cell_type": "markdown",
   "metadata": {},
   "source": [
    "TODO: 然后，定义一个函数，generate_n，将generate扩展，使其能够生成n个句子:"
   ]
  },
  {
   "cell_type": "code",
   "execution_count": null,
   "metadata": {},
   "outputs": [],
   "source": [
    "def generate_n(grammar, intro, n=10):\n",
    "    for i in range(n):\n",
    "        print(generate(grammar,intro))"
   ]
  },
  {
   "cell_type": "code",
   "execution_count": null,
   "metadata": {},
   "outputs": [],
   "source": [
    "generate_n(gram,'intro',n=10)"
   ]
  },
  {
   "cell_type": "markdown",
   "metadata": {},
   "source": [
    "#### 2. 使用新数据源完成语言模型的训练"
   ]
  },
  {
   "cell_type": "markdown",
   "metadata": {},
   "source": [
    "按照我们上文中定义的`prob_2`函数，我们更换一个文本数据源，获得新的Language Model:\n",
    "\n",
    "1. 下载文本数据集（你可以在以下数据集中任选一个，也可以两个都使用）\n",
    "    + 可选数据集1，保险行业问询对话集： https://github.com/Computing-Intelligence/insuranceqa-corpus-zh/raw/release/corpus/pool/train.txt.gz\n",
    "    + 可选数据集2：豆瓣评论数据集：https://github.com/Computing-Intelligence/datasource/raw/master/movie_comments.csv\n",
    "2. 修改代码，获得新的**2-gram**语言模型\n",
    "    + 进行文本清洗，获得所有的纯文本\n",
    "    + 将这些文本进行切词\n",
    "    + 送入之前定义的语言模型中，判断文本的合理程度"
   ]
  },
  {
   "cell_type": "code",
   "execution_count": null,
   "metadata": {},
   "outputs": [],
   "source": [
    "import jieba\n",
    "def cut(string): return list(jieba.cut(string))"
   ]
  },
  {
   "cell_type": "code",
   "execution_count": 364,
   "metadata": {},
   "outputs": [],
   "source": [
    "import re\n",
    "def token(string):\n",
    "    return re.sub('\\W+',\"\",string)"
   ]
  },
  {
   "cell_type": "code",
   "execution_count": 366,
   "metadata": {},
   "outputs": [
    {
     "data": {
      "text/plain": [
       "'helloworld'"
      ]
     },
     "execution_count": 366,
     "metadata": {},
     "output_type": "execute_result"
    }
   ],
   "source": [
    "token(\"+-* hello world\")"
   ]
  },
  {
   "cell_type": "code",
   "execution_count": null,
   "metadata": {},
   "outputs": [],
   "source": [
    "import pandas as pd\n",
    "import csv"
   ]
  },
  {
   "cell_type": "code",
   "execution_count": null,
   "metadata": {},
   "outputs": [],
   "source": [
    "fname = \"movie_comments.csv\"\n",
    "content = pd.read_csv(fname, encoding='utf-8')    #return DataFrame type"
   ]
  },
  {
   "cell_type": "code",
   "execution_count": null,
   "metadata": {},
   "outputs": [],
   "source": [
    "comments = content['comment'].tolist()"
   ]
  },
  {
   "cell_type": "code",
   "execution_count": 360,
   "metadata": {},
   "outputs": [
    {
     "data": {
      "text/plain": [
       "261497"
      ]
     },
     "execution_count": 360,
     "metadata": {},
     "output_type": "execute_result"
    }
   ],
   "source": [
    "len(comments)"
   ]
  },
  {
   "cell_type": "code",
   "execution_count": 367,
   "metadata": {},
   "outputs": [
    {
     "data": {
      "text/plain": [
       "'wtf???我为啥要看这个'"
      ]
     },
     "execution_count": 367,
     "metadata": {},
     "output_type": "execute_result"
    }
   ],
   "source": [
    "comments[100]"
   ]
  },
  {
   "cell_type": "code",
   "execution_count": 369,
   "metadata": {},
   "outputs": [
    {
     "name": "stdout",
     "output_type": "stream",
     "text": [
      "0\n",
      "10000\n",
      "20000\n",
      "30000\n",
      "40000\n",
      "50000\n",
      "60000\n",
      "70000\n",
      "80000\n",
      "90000\n",
      "100000\n",
      "110000\n",
      "120000\n",
      "130000\n",
      "140000\n",
      "150000\n",
      "160000\n",
      "170000\n",
      "180000\n",
      "190000\n",
      "200000\n",
      "210000\n",
      "220000\n",
      "230000\n",
      "240000\n",
      "250000\n",
      "260000\n"
     ]
    }
   ],
   "source": [
    "TOKEN = []\n",
    "for i,comment in enumerate(comments):\n",
    "    if i%10000 == 0:  print(i)\n",
    "    TOKEN += jieba.cut(token(str(comment)))"
   ]
  },
  {
   "cell_type": "code",
   "execution_count": null,
   "metadata": {},
   "outputs": [],
   "source": [
    "#token(\"0 ++$++ disability-insurance ++$++ 法律要求残疾保险吗？ ++$++ Is  Disability  Insurance  Required  By  Law?\")"
   ]
  },
  {
   "cell_type": "code",
   "execution_count": null,
   "metadata": {
    "scrolled": true
   },
   "outputs": [],
   "source": [
    "\"\"\"\n",
    "TOKEN = []\n",
    "for i, line in enumerate(open(\"train.txt\",encoding='utf-8')):\n",
    "    if i%1000 == 0: print(i)\n",
    "    if i > 20000: break\n",
    "    for string in token(line):\n",
    "        TOKEN += jieba.cut(string)\n",
    "\"\"\"   "
   ]
  },
  {
   "cell_type": "code",
   "execution_count": null,
   "metadata": {},
   "outputs": [],
   "source": [
    "from collections import Counter"
   ]
  },
  {
   "cell_type": "code",
   "execution_count": 370,
   "metadata": {},
   "outputs": [
    {
     "data": {
      "text/plain": [
       "4490313"
      ]
     },
     "execution_count": 370,
     "metadata": {},
     "output_type": "execute_result"
    }
   ],
   "source": [
    "len(TOKEN)"
   ]
  },
  {
   "cell_type": "code",
   "execution_count": 372,
   "metadata": {},
   "outputs": [
    {
     "data": {
      "text/plain": [
       "['吴京',\n",
       " '意淫',\n",
       " '到',\n",
       " '了',\n",
       " '脑残',\n",
       " '的',\n",
       " '地步',\n",
       " '看',\n",
       " '了',\n",
       " '恶心',\n",
       " '想',\n",
       " '吐',\n",
       " '首映礼',\n",
       " '看',\n",
       " '的',\n",
       " '太',\n",
       " '恐怖',\n",
       " '了',\n",
       " '这个',\n",
       " '电影',\n",
       " '不讲道理',\n",
       " '的',\n",
       " '完全',\n",
       " '就是',\n",
       " '吴京',\n",
       " '在',\n",
       " '实现',\n",
       " '他',\n",
       " '这个',\n",
       " '小',\n",
       " '粉红',\n",
       " '的',\n",
       " '英雄',\n",
       " '梦',\n",
       " '各种',\n",
       " '装备',\n",
       " '轮番',\n",
       " '上场',\n",
       " '视',\n",
       " '物理',\n",
       " '逻辑',\n",
       " '于',\n",
       " '不顾',\n",
       " '不得不',\n",
       " '说',\n",
       " '有钱',\n",
       " '真',\n",
       " '好',\n",
       " '随意',\n",
       " '胡闹',\n",
       " '吴京',\n",
       " '的',\n",
       " '炒作',\n",
       " '水平',\n",
       " '不输',\n",
       " '冯小刚',\n",
       " '但小刚',\n",
       " '至少',\n",
       " '不会',\n",
       " '用',\n",
       " '主旋律',\n",
       " '来',\n",
       " '炒作',\n",
       " '吴京',\n",
       " '让',\n",
       " '人',\n",
       " '看',\n",
       " '了',\n",
       " '不',\n",
       " '舒服',\n",
       " '为了',\n",
       " '主旋律',\n",
       " '而',\n",
       " '主旋律',\n",
       " '为了',\n",
       " '煽情',\n",
       " '而',\n",
       " '煽情',\n",
       " '让',\n",
       " '人',\n",
       " '觉得',\n",
       " '他',\n",
       " '是',\n",
       " '个',\n",
       " '大',\n",
       " '做作',\n",
       " '大',\n",
       " '谎言',\n",
       " '家',\n",
       " '729',\n",
       " '更新',\n",
       " '片子',\n",
       " '整体',\n",
       " '不如',\n",
       " '湄公河',\n",
       " '行动',\n",
       " '1',\n",
       " '整体',\n",
       " '不够',\n",
       " '流畅']"
      ]
     },
     "execution_count": 372,
     "metadata": {},
     "output_type": "execute_result"
    }
   ],
   "source": [
    "TOKEN[:100]"
   ]
  },
  {
   "cell_type": "code",
   "execution_count": 373,
   "metadata": {},
   "outputs": [],
   "source": [
    "words_count = Counter(TOKEN)"
   ]
  },
  {
   "cell_type": "code",
   "execution_count": 374,
   "metadata": {},
   "outputs": [
    {
     "data": {
      "text/plain": [
       "[('的', 328262),\n",
       " ('了', 102420),\n",
       " ('是', 73106),\n",
       " ('我', 50338),\n",
       " ('都', 36255),\n",
       " ('很', 34712),\n",
       " ('看', 34022),\n",
       " ('电影', 33675),\n",
       " ('也', 32065),\n",
       " ('和', 31290),\n",
       " ('在', 31245),\n",
       " ('不', 28435),\n",
       " ('有', 27939),\n",
       " ('就', 25685),\n",
       " ('人', 23909),\n",
       " ('好', 22858),\n",
       " ('啊', 20803),\n",
       " ('这', 17484),\n",
       " ('还', 17449),\n",
       " ('一个', 17343),\n",
       " ('你', 17282),\n",
       " ('还是', 16425),\n",
       " ('但', 15578),\n",
       " ('故事', 15010),\n",
       " ('没有', 14343),\n",
       " ('就是', 14007),\n",
       " ('喜欢', 13566),\n",
       " ('让', 13304),\n",
       " ('太', 12676),\n",
       " ('又', 11566),\n",
       " ('剧情', 11359),\n",
       " ('没', 10858),\n",
       " ('说', 10764),\n",
       " ('吧', 10747),\n",
       " ('他', 10675),\n",
       " ('不错', 10416),\n",
       " ('得', 10349),\n",
       " ('到', 10341),\n",
       " ('给', 10300),\n",
       " ('这个', 10058),\n",
       " ('上', 10054),\n",
       " ('被', 9939),\n",
       " ('对', 9824),\n",
       " ('最后', 9694),\n",
       " ('一部', 9693),\n",
       " ('片子', 9590),\n",
       " ('什么', 9571),\n",
       " ('能', 9532),\n",
       " ('与', 9168),\n",
       " ('多', 8977),\n",
       " ('可以', 8972),\n",
       " ('不是', 8811),\n",
       " ('最', 8669),\n",
       " ('觉得', 8626),\n",
       " ('中', 8446),\n",
       " ('导演', 8390),\n",
       " ('自己', 8354),\n",
       " ('拍', 8172),\n",
       " ('好看', 8085),\n",
       " ('要', 8081),\n",
       " ('真的', 7908),\n",
       " ('感觉', 7828),\n",
       " ('但是', 7723),\n",
       " ('里', 7655),\n",
       " ('那', 7503),\n",
       " ('有点', 7479),\n",
       " ('想', 7442),\n",
       " ('这部', 7433),\n",
       " ('会', 7429),\n",
       " ('去', 7295),\n",
       " ('把', 7151),\n",
       " ('着', 7058),\n",
       " ('这么', 6784),\n",
       " ('小', 6626),\n",
       " ('个', 6546),\n",
       " ('而', 6507),\n",
       " ('这样', 6471),\n",
       " ('真是', 6449),\n",
       " ('那么', 6431),\n",
       " ('这种', 6377),\n",
       " ('片', 6333),\n",
       " ('不过', 6292),\n",
       " ('挺', 6244),\n",
       " ('时候', 6216),\n",
       " ('更', 6143),\n",
       " ('比', 6094),\n",
       " ('却', 5990),\n",
       " ('爱', 5909),\n",
       " ('我们', 5875),\n",
       " ('大', 5773),\n",
       " ('像', 5704),\n",
       " ('虽然', 5633),\n",
       " ('演技', 5631),\n",
       " ('其实', 5573),\n",
       " ('看到', 5450),\n",
       " ('知道', 5384),\n",
       " ('再', 5352),\n",
       " ('演员', 5328),\n",
       " ('那个', 5123),\n",
       " ('真', 5119)]"
      ]
     },
     "execution_count": 374,
     "metadata": {},
     "output_type": "execute_result"
    }
   ],
   "source": [
    "words_count.most_common(100)"
   ]
  },
  {
   "cell_type": "code",
   "execution_count": 375,
   "metadata": {},
   "outputs": [],
   "source": [
    "TOKEN = [str(t) for t in TOKEN]"
   ]
  },
  {
   "cell_type": "code",
   "execution_count": 376,
   "metadata": {},
   "outputs": [],
   "source": [
    "TOKEN_2_GRAM = [''.join(TOKEN[i:i+2]) for i in range(len(TOKEN[:-2]))] "
   ]
  },
  {
   "cell_type": "code",
   "execution_count": 377,
   "metadata": {},
   "outputs": [
    {
     "data": {
      "text/plain": [
       "['吴京意淫',\n",
       " '意淫到',\n",
       " '到了',\n",
       " '了脑残',\n",
       " '脑残的',\n",
       " '的地步',\n",
       " '地步看',\n",
       " '看了',\n",
       " '了恶心',\n",
       " '恶心想',\n",
       " '想吐',\n",
       " '吐首映礼',\n",
       " '首映礼看',\n",
       " '看的',\n",
       " '的太',\n",
       " '太恐怖',\n",
       " '恐怖了',\n",
       " '了这个',\n",
       " '这个电影',\n",
       " '电影不讲道理',\n",
       " '不讲道理的',\n",
       " '的完全',\n",
       " '完全就是',\n",
       " '就是吴京',\n",
       " '吴京在',\n",
       " '在实现',\n",
       " '实现他',\n",
       " '他这个',\n",
       " '这个小',\n",
       " '小粉红',\n",
       " '粉红的',\n",
       " '的英雄',\n",
       " '英雄梦',\n",
       " '梦各种',\n",
       " '各种装备',\n",
       " '装备轮番',\n",
       " '轮番上场',\n",
       " '上场视',\n",
       " '视物理',\n",
       " '物理逻辑',\n",
       " '逻辑于',\n",
       " '于不顾',\n",
       " '不顾不得不',\n",
       " '不得不说',\n",
       " '说有钱',\n",
       " '有钱真',\n",
       " '真好',\n",
       " '好随意',\n",
       " '随意胡闹',\n",
       " '胡闹吴京',\n",
       " '吴京的',\n",
       " '的炒作',\n",
       " '炒作水平',\n",
       " '水平不输',\n",
       " '不输冯小刚',\n",
       " '冯小刚但小刚',\n",
       " '但小刚至少',\n",
       " '至少不会',\n",
       " '不会用',\n",
       " '用主旋律',\n",
       " '主旋律来',\n",
       " '来炒作',\n",
       " '炒作吴京',\n",
       " '吴京让',\n",
       " '让人',\n",
       " '人看',\n",
       " '看了',\n",
       " '了不',\n",
       " '不舒服',\n",
       " '舒服为了',\n",
       " '为了主旋律',\n",
       " '主旋律而',\n",
       " '而主旋律',\n",
       " '主旋律为了',\n",
       " '为了煽情',\n",
       " '煽情而',\n",
       " '而煽情',\n",
       " '煽情让',\n",
       " '让人',\n",
       " '人觉得',\n",
       " '觉得他',\n",
       " '他是',\n",
       " '是个',\n",
       " '个大',\n",
       " '大做作',\n",
       " '做作大',\n",
       " '大谎言',\n",
       " '谎言家',\n",
       " '家729',\n",
       " '729更新',\n",
       " '更新片子',\n",
       " '片子整体',\n",
       " '整体不如',\n",
       " '不如湄公河',\n",
       " '湄公河行动',\n",
       " '行动1',\n",
       " '1整体',\n",
       " '整体不够',\n",
       " '不够流畅',\n",
       " '流畅编剧']"
      ]
     },
     "execution_count": 377,
     "metadata": {},
     "output_type": "execute_result"
    }
   ],
   "source": [
    "TOKEN_2_GRAM[:100]"
   ]
  },
  {
   "cell_type": "code",
   "execution_count": 378,
   "metadata": {},
   "outputs": [],
   "source": [
    "words_count_2 = Counter(TOKEN_2_GRAM)"
   ]
  },
  {
   "cell_type": "code",
   "execution_count": 379,
   "metadata": {},
   "outputs": [],
   "source": [
    "def prob_2(word1, word2):\n",
    "    if word1 + word2 in words_count_2: return words_count_2[word1 + word2] / len(TOKEN_2_GRAM)\n",
    "    return 1 / len(TOKEN_2_GRAM)"
   ]
  },
  {
   "cell_type": "code",
   "execution_count": 380,
   "metadata": {},
   "outputs": [
    {
     "data": {
      "text/plain": [
       "2.961932926249429e-05"
      ]
     },
     "execution_count": 380,
     "metadata": {},
     "output_type": "execute_result"
    }
   ],
   "source": [
    "prob_2('我','可以')"
   ]
  },
  {
   "cell_type": "code",
   "execution_count": 381,
   "metadata": {
    "scrolled": true
   },
   "outputs": [
    {
     "data": {
      "text/plain": [
       "2.2270172377815255e-07"
      ]
     },
     "execution_count": 381,
     "metadata": {},
     "output_type": "execute_result"
    }
   ],
   "source": [
    "prob_2('吴京','湄公河')"
   ]
  },
  {
   "cell_type": "code",
   "execution_count": 382,
   "metadata": {},
   "outputs": [],
   "source": [
    "def get_probablity(sentence):\n",
    "    words = cut(sentence)\n",
    "    \n",
    "    sentence_pro = 1\n",
    "    \n",
    "    for i, word in enumerate(words[:-1]):\n",
    "        next_ = words[i+1]\n",
    "        \n",
    "        probability = prob_2(word, next_)\n",
    "        \n",
    "        sentence_pro *= probability\n",
    "    \n",
    "    return sentence_pro"
   ]
  },
  {
   "cell_type": "code",
   "execution_count": 383,
   "metadata": {},
   "outputs": [
    {
     "data": {
      "text/plain": [
       "1.9336846038214177e-18"
      ]
     },
     "execution_count": 383,
     "metadata": {},
     "output_type": "execute_result"
    }
   ],
   "source": [
    "get_probablity('战狼二这部电影还可以')"
   ]
  },
  {
   "cell_type": "code",
   "execution_count": 384,
   "metadata": {},
   "outputs": [
    {
     "data": {
      "text/plain": [
       "2.871733165292503e-19"
      ]
     },
     "execution_count": 384,
     "metadata": {},
     "output_type": "execute_result"
    }
   ],
   "source": [
    "get_probablity('武松打虎，打不过')"
   ]
  },
  {
   "cell_type": "code",
   "execution_count": 392,
   "metadata": {},
   "outputs": [
    {
     "data": {
      "text/plain": [
       "3.563227580450441e-06"
      ]
     },
     "execution_count": 392,
     "metadata": {},
     "output_type": "execute_result"
    }
   ],
   "source": [
    "get_probablity('湄公河行动')"
   ]
  },
  {
   "cell_type": "markdown",
   "metadata": {},
   "source": [
    "#### 3. 获得最优质的的语言"
   ]
  },
  {
   "cell_type": "markdown",
   "metadata": {},
   "source": [
    "当我们能够生成随机的语言并且能判断之后，我们就可以生成更加合理的语言了。请定义 generate_best 函数，该函数输入一个语法 + 语言模型，能够生成**n**个句子，并能选择一个最合理的句子: \n",
    "\n"
   ]
  },
  {
   "cell_type": "markdown",
   "metadata": {},
   "source": [
    "提示，要实现这个函数，你需要Python的sorted函数"
   ]
  },
  {
   "cell_type": "code",
   "execution_count": null,
   "metadata": {},
   "outputs": [],
   "source": [
    "sorted([1, 3, 5, 2])"
   ]
  },
  {
   "cell_type": "markdown",
   "metadata": {},
   "source": [
    "这个函数接受一个参数key，这个参数接受一个函数作为输入，例如"
   ]
  },
  {
   "cell_type": "code",
   "execution_count": null,
   "metadata": {},
   "outputs": [],
   "source": [
    "sorted([(2, 5), (1, 4), (5, 0), (4, 4)], key=lambda x: x[0])"
   ]
  },
  {
   "cell_type": "markdown",
   "metadata": {},
   "source": [
    "能够让list按照第0个元素进行排序."
   ]
  },
  {
   "cell_type": "code",
   "execution_count": null,
   "metadata": {},
   "outputs": [],
   "source": [
    "sorted([(2, 5), (1, 4), (5, 0), (4, 4)], key=lambda x: x[1])"
   ]
  },
  {
   "cell_type": "markdown",
   "metadata": {},
   "source": [
    "能够让list按照第1个元素进行排序."
   ]
  },
  {
   "cell_type": "code",
   "execution_count": null,
   "metadata": {},
   "outputs": [],
   "source": [
    "sorted([(2, 5), (1, 4), (5, 0), (4, 4)], key=lambda x: x[1], reverse=True)"
   ]
  },
  {
   "cell_type": "markdown",
   "metadata": {},
   "source": [
    "能够让list按照第1个元素进行排序, 但是是递减的顺序。"
   ]
  },
  {
   "cell_type": "markdown",
   "metadata": {},
   "source": [
    ">"
   ]
  },
  {
   "cell_type": "code",
   "execution_count": 406,
   "metadata": {},
   "outputs": [
    {
     "data": {
      "text/plain": [
       "[('的', 328262),\n",
       " ('了', 102420),\n",
       " ('是', 73106),\n",
       " ('我', 50338),\n",
       " ('都', 36255),\n",
       " ('很', 34712),\n",
       " ('看', 34022),\n",
       " ('电影', 33675),\n",
       " ('也', 32065),\n",
       " ('和', 31290),\n",
       " ('在', 31245),\n",
       " ('不', 28435),\n",
       " ('有', 27939),\n",
       " ('就', 25685),\n",
       " ('人', 23909),\n",
       " ('好', 22858),\n",
       " ('啊', 20803),\n",
       " ('这', 17484),\n",
       " ('还', 17449),\n",
       " ('一个', 17343),\n",
       " ('你', 17282),\n",
       " ('还是', 16425),\n",
       " ('但', 15578),\n",
       " ('故事', 15010),\n",
       " ('没有', 14343),\n",
       " ('就是', 14007),\n",
       " ('喜欢', 13566),\n",
       " ('让', 13304),\n",
       " ('太', 12676),\n",
       " ('又', 11566),\n",
       " ('剧情', 11359),\n",
       " ('没', 10858),\n",
       " ('说', 10764),\n",
       " ('吧', 10747),\n",
       " ('他', 10675),\n",
       " ('不错', 10416),\n",
       " ('得', 10349),\n",
       " ('到', 10341),\n",
       " ('给', 10300),\n",
       " ('这个', 10058),\n",
       " ('上', 10054),\n",
       " ('被', 9939),\n",
       " ('对', 9824),\n",
       " ('最后', 9694),\n",
       " ('一部', 9693),\n",
       " ('片子', 9590),\n",
       " ('什么', 9571),\n",
       " ('能', 9532),\n",
       " ('与', 9168),\n",
       " ('多', 8977),\n",
       " ('可以', 8972),\n",
       " ('不是', 8811),\n",
       " ('最', 8669),\n",
       " ('觉得', 8626),\n",
       " ('中', 8446),\n",
       " ('导演', 8390),\n",
       " ('自己', 8354),\n",
       " ('拍', 8172),\n",
       " ('好看', 8085),\n",
       " ('要', 8081),\n",
       " ('真的', 7908),\n",
       " ('感觉', 7828),\n",
       " ('但是', 7723),\n",
       " ('里', 7655),\n",
       " ('那', 7503),\n",
       " ('有点', 7479),\n",
       " ('想', 7442),\n",
       " ('这部', 7433),\n",
       " ('会', 7429),\n",
       " ('去', 7295),\n",
       " ('把', 7151),\n",
       " ('着', 7058),\n",
       " ('这么', 6784),\n",
       " ('小', 6626),\n",
       " ('个', 6546),\n",
       " ('而', 6507),\n",
       " ('这样', 6471),\n",
       " ('真是', 6449),\n",
       " ('那么', 6431),\n",
       " ('这种', 6377),\n",
       " ('片', 6333),\n",
       " ('不过', 6292),\n",
       " ('挺', 6244),\n",
       " ('时候', 6216),\n",
       " ('更', 6143),\n",
       " ('比', 6094),\n",
       " ('却', 5990),\n",
       " ('爱', 5909),\n",
       " ('我们', 5875),\n",
       " ('大', 5773),\n",
       " ('像', 5704),\n",
       " ('虽然', 5633),\n",
       " ('演技', 5631),\n",
       " ('其实', 5573),\n",
       " ('看到', 5450),\n",
       " ('知道', 5384),\n",
       " ('再', 5352),\n",
       " ('演员', 5328),\n",
       " ('那个', 5123),\n",
       " ('真', 5119)]"
      ]
     },
     "execution_count": 406,
     "metadata": {},
     "output_type": "execute_result"
    }
   ],
   "source": [
    "words_count.most_common(100)"
   ]
  },
  {
   "cell_type": "code",
   "execution_count": 451,
   "metadata": {},
   "outputs": [],
   "source": [
    "simple_grammar = \"\"\"\n",
    "sentence => stc1 , stc2\n",
    "stc1 => Article classfiers Adj* noun1\n",
    "stc2 => noun2 verb Adj\n",
    "noun_phrase => Article Adj* noun\n",
    "Adj* => null | Adj Adj*\n",
    "Article => 这 | 这个 | 那个 是\n",
    "classfiers => 一个 | 一部\n",
    "noun1 => 电影 | 片子 | 故事 \n",
    "noun2 => 故事 | 剧情 | 导演 \n",
    "verb => 感觉 | 其实 | 挺 | 还\n",
    "Adj => 不错的 | 好的 | 烂的 | 真实的 | 好看的\n",
    "\"\"\""
   ]
  },
  {
   "cell_type": "code",
   "execution_count": 452,
   "metadata": {},
   "outputs": [],
   "source": [
    "gram = create_grammar(simple_grammar)"
   ]
  },
  {
   "cell_type": "code",
   "execution_count": 484,
   "metadata": {},
   "outputs": [],
   "source": [
    "#f = get_probability()\n",
    "def generate_best(gram, f, n=100): # you code here\n",
    "    gramlist = []\n",
    "    for i in range(n):\n",
    "        intro = generate(gram, 'sentence')\n",
    "        gramlist.append((intro,f(intro)))\n",
    "    return sorted(gramlist, key = lambda x: x[-1], reverse = True)"
   ]
  },
  {
   "cell_type": "code",
   "execution_count": 490,
   "metadata": {},
   "outputs": [
    {
     "name": "stdout",
     "output_type": "stream",
     "text": [
      "The best comment is：\n"
     ]
    },
    {
     "data": {
      "text/plain": [
       "('这一部片子,剧情还好的', 2.286349266881024e-33)"
      ]
     },
     "execution_count": 490,
     "metadata": {},
     "output_type": "execute_result"
    }
   ],
   "source": [
    "print(\"The best comment is：\")\n",
    "generate_best(gram,f = get_probablity ) [0] "
   ]
  },
  {
   "cell_type": "code",
   "execution_count": null,
   "metadata": {},
   "outputs": [],
   "source": []
  },
  {
   "cell_type": "markdown",
   "metadata": {},
   "source": [
    "好了，现在我们实现了自己的第一个AI模型，这个模型能够生成比较接近于人类的语言。"
   ]
  },
  {
   "cell_type": "markdown",
   "metadata": {},
   "source": [
    ">"
   ]
  },
  {
   "cell_type": "markdown",
   "metadata": {},
   "source": [
    "Q: 这个模型有什么问题？ 你准备如何提升？ "
   ]
  },
  {
   "cell_type": "markdown",
   "metadata": {},
   "source": [
    "Ans:\n",
    "这个模型输入输出还不够智能，后续希望能够直接输入 语法定义，如 grammar = \"\"\"  \"\"\" ，以及训练文本所在位置，就能直接进行运算，需要抽象出更多函数来使用"
   ]
  },
  {
   "cell_type": "markdown",
   "metadata": {},
   "source": [
    ">"
   ]
  },
  {
   "cell_type": "markdown",
   "metadata": {},
   "source": [
    "##### 以下内容为可选部分，对于绝大多数同学，能完成以上的项目已经很优秀了，下边的内容如果你还有精力可以试试，但不是必须的。"
   ]
  },
  {
   "cell_type": "markdown",
   "metadata": {},
   "source": [
    "#### 4. (Optional) 完成基于Pattern Match的语句问答\n",
    "> 我们的GitHub仓库中，有一个assignment-01-optional-pattern-match，这个难度较大，感兴趣的同学可以挑战一下。"
   ]
  },
  {
   "cell_type": "markdown",
   "metadata": {},
   "source": [
    "\n",
    "#### 5. (Optional) 完成阿兰图灵机器智能原始论文的阅读\n",
    "1. 请阅读阿兰图灵关于机器智能的原始论文：https://github.com/Computing-Intelligence/References/blob/master/AI%20%26%20Machine%20Learning/Computer%20Machinery%20and%20Intelligence.pdf \n",
    "2. 并按照GitHub仓库中的论文阅读模板，填写完毕后发送给我: mqgao@kaikeba.com 谢谢"
   ]
  },
  {
   "cell_type": "markdown",
   "metadata": {},
   "source": [
    "> "
   ]
  },
  {
   "cell_type": "markdown",
   "metadata": {},
   "source": [
    "各位同学，我们已经完成了自己的第一个AI模型，大家对人工智能可能已经有了一些感觉，人工智能的核心就是，我们如何设计一个模型、程序，在外部的输入变化的时候，我们的程序不变，依然能够解决问题。人工智能是一个很大的领域，目前大家所熟知的深度学习只是其中一小部分，之后也肯定会有更多的方法提出来，但是大家知道人工智能的目标，就知道了之后进步的方向。"
   ]
  },
  {
   "cell_type": "markdown",
   "metadata": {},
   "source": [
    "然后，希望大家对AI不要有恐惧感，这个并不难，大家加油！"
   ]
  },
  {
   "cell_type": "markdown",
   "metadata": {},
   "source": [
    ">"
   ]
  },
  {
   "cell_type": "markdown",
   "metadata": {},
   "source": [
    "![](https://timgsa.baidu.com/timg?image&quality=80&size=b9999_10000&sec=1561828422005&di=48d19c16afb6acc9180183a6116088ac&imgtype=0&src=http%3A%2F%2Fb-ssl.duitang.com%2Fuploads%2Fitem%2F201807%2F28%2F20180728150843_BECNF.thumb.224_0.jpeg)"
   ]
  }
 ],
 "metadata": {
  "kernelspec": {
   "display_name": "Python 3",
   "language": "python",
   "name": "python3"
  },
  "language_info": {
   "codemirror_mode": {
    "name": "ipython",
    "version": 3
   },
   "file_extension": ".py",
   "mimetype": "text/x-python",
   "name": "python",
   "nbconvert_exporter": "python",
   "pygments_lexer": "ipython3",
   "version": "3.7.3"
  }
 },
 "nbformat": 4,
 "nbformat_minor": 2
}
