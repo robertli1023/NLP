{
 "cells": [
  {
   "cell_type": "code",
   "execution_count": null,
   "metadata": {},
   "outputs": [],
   "source": [
    "import jieba"
   ]
  },
  {
   "cell_type": "code",
   "execution_count": null,
   "metadata": {},
   "outputs": [],
   "source": [
    "def count_consec(string):\n",
    "    count = 0\n",
    "    for w in string:\n",
    "        if w != '?': count += 1\n",
    "        else: break\n",
    "    return count"
   ]
  },
  {
   "cell_type": "code",
   "execution_count": null,
   "metadata": {},
   "outputs": [],
   "source": [
    "def cut(string):\n",
    "    result = []\n",
    "    i = 0\n",
    "    while True:\n",
    "        if i == len(string):\n",
    "            break\n",
    "        if string[i] == '?' and string[i+1] == '*' and string[i+2].isalpha():\n",
    "            result += [string[0:3]]\n",
    "            i += 3\n",
    "        else:\n",
    "            count = count_consec(string[i:])\n",
    "            if count > 0:\n",
    "                result += [x for x in jieba.cut(string[i:i+count])]\n",
    "                i += count\n",
    "            else:\n",
    "                i += 1\n",
    "    return result\n",
    "        "
   ]
  },
  {
   "cell_type": "code",
   "execution_count": null,
   "metadata": {},
   "outputs": [],
   "source": [
    "str1 = ['?*x I want ?*y','?*x我记得?*y','?*xAI?*y']"
   ]
  },
  {
   "cell_type": "code",
   "execution_count": null,
   "metadata": {},
   "outputs": [],
   "source": [
    "cut('?*x I want ?*y')"
   ]
  },
  {
   "cell_type": "code",
   "execution_count": 76,
   "metadata": {},
   "outputs": [],
   "source": [
    "str2 = ['wanthim','你觉得我记得你吗','请问AI是什么']"
   ]
  },
  {
   "cell_type": "code",
   "execution_count": 77,
   "metadata": {},
   "outputs": [
    {
     "name": "stdout",
     "output_type": "stream",
     "text": [
      "wanthim\n"
     ]
    }
   ],
   "source": [
    "for item in jieba.cut(str2[0]):\n",
    "    print(item)\n",
    "\n"
   ]
  },
  {
   "cell_type": "code",
   "execution_count": null,
   "metadata": {},
   "outputs": [],
   "source": [
    "def pat_match_with_seg(pattern, saying):\n",
    "    "
   ]
  }
 ],
 "metadata": {
  "kernelspec": {
   "display_name": "Python 3",
   "language": "python",
   "name": "python3"
  },
  "language_info": {
   "codemirror_mode": {
    "name": "ipython",
    "version": 3
   },
   "file_extension": ".py",
   "mimetype": "text/x-python",
   "name": "python",
   "nbconvert_exporter": "python",
   "pygments_lexer": "ipython3",
   "version": "3.7.3"
  }
 },
 "nbformat": 4,
 "nbformat_minor": 2
}
