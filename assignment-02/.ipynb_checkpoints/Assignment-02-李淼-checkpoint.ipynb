{
 "cells": [
  {
   "cell_type": "markdown",
   "metadata": {},
   "source": [
    "## Assignments for Week-02"
   ]
  },
  {
   "cell_type": "markdown",
   "metadata": {},
   "source": [
    "In this course, we learnt what's the search problem and what's the machine leanring. In this assignment, we need you do some more practice."
   ]
  },
  {
   "cell_type": "markdown",
   "metadata": {},
   "source": [
    "### 1. Re-code the house price machine learning\n",
    "\n",
    "###### 1. Random Choose Method to get optimal *k* and *b*\n",
    "###### 2.Supervised Direction to get optimal *k* and *b*\n",
    "###### 3.Gradient Descent to get optimal *k* and *b*\n",
    "###### 4. Try different Loss function and learning rate. \n",
    "\n",
    "For example, you can change the loss function: $Loss = \\frac{1}{n} sum({y_i - \\hat{y_i}})^2$ to $Loss = \\frac{1}{n} sum(|{y_i - \\hat{y_i}}|)$\n",
    "\n",
    "And you can change the learning rate and observe the performance."
   ]
  },
  {
   "cell_type": "markdown",
   "metadata": {},
   "source": [
    "![](https://timgsa.baidu.com/timg?image&quality=80&size=b9999_10000&sec=1562414412237&di=8377c38d7b50c6f8d45b92ccc78dc1e7&imgtype=0&src=http%3A%2F%2Fmmbiz.qpic.cn%2Fmmbiz_jpg%2FlSyiavfm6wPgQDuDYa42IMgSkLOcPJU91RbkMibGy7VHLrhhNVLibTYk1iaLcmXKTdHc4icTDVia59QFXwqpW8cLflaw%2F640%3Fwx_fmt%3Djpeg)"
   ]
  },
  {
   "cell_type": "code",
   "execution_count": null,
   "metadata": {},
   "outputs": [],
   "source": [
    "from sklearn.datasets import load_boston"
   ]
  },
  {
   "cell_type": "code",
   "execution_count": null,
   "metadata": {},
   "outputs": [],
   "source": [
    "data = load_boston()"
   ]
  },
  {
   "cell_type": "code",
   "execution_count": null,
   "metadata": {},
   "outputs": [],
   "source": [
    "X, y = data['data'], data['target']"
   ]
  },
  {
   "cell_type": "code",
   "execution_count": null,
   "metadata": {},
   "outputs": [],
   "source": [
    "%matplotlib inline\n",
    "import matplotlib.pyplot as plt"
   ]
  },
  {
   "cell_type": "code",
   "execution_count": null,
   "metadata": {},
   "outputs": [],
   "source": [
    "def draw_rm_and_price():\n",
    "    plt.scatter(X[:, 5], y)"
   ]
  },
  {
   "cell_type": "code",
   "execution_count": null,
   "metadata": {},
   "outputs": [],
   "source": [
    "draw_rm_and_price()"
   ]
  },
  {
   "cell_type": "code",
   "execution_count": null,
   "metadata": {},
   "outputs": [],
   "source": [
    "import random"
   ]
  },
  {
   "cell_type": "code",
   "execution_count": null,
   "metadata": {},
   "outputs": [],
   "source": [
    "def price(rm, k, b):\n",
    "    return rm * k + b"
   ]
  },
  {
   "cell_type": "code",
   "execution_count": null,
   "metadata": {},
   "outputs": [],
   "source": [
    "def loss(y, y_hat): # to evaluate the performance \n",
    "    return sum((y_i - y_hat_i)**2 for y_i, y_hat_i in zip(list(y), list(y_hat))) / len(list(y))"
   ]
  },
  {
   "cell_type": "markdown",
   "metadata": {},
   "source": [
    "###### 1. Random Choose Method to get optimal *k* and *b*"
   ]
  },
  {
   "cell_type": "code",
   "execution_count": null,
   "metadata": {},
   "outputs": [],
   "source": [
    "X_rm = X[:,5]"
   ]
  },
  {
   "cell_type": "code",
   "execution_count": null,
   "metadata": {},
   "outputs": [],
   "source": [
    "trying_times = 2000\n",
    "\n",
    "min_loss = float('inf')\n",
    "best_k, best_b = None, None\n",
    "\n",
    "for i in range(trying_times):\n",
    "    k = random.random() * 200 - 100\n",
    "    b = random.random() * 200 - 100\n",
    "    price_by_random_k_and_b = [price(r, k, b) for r in X_rm]\n",
    "\n",
    "    current_loss = loss(y, price_by_random_k_and_b)\n",
    "    \n",
    "    if current_loss < min_loss:\n",
    "        min_loss = current_loss\n",
    "        best_k, best_b = k, b\n",
    "        print('When time is : {}, get best_k: {} best_b: {}, and the loss is: {}'.format(i, best_k, best_b, min_loss))"
   ]
  },
  {
   "cell_type": "markdown",
   "metadata": {},
   "source": [
    "###### 2.Supervised Direction to get optimal *k* and *b*"
   ]
  },
  {
   "cell_type": "code",
   "execution_count": null,
   "metadata": {},
   "outputs": [],
   "source": [
    "trying_times = 2000\n",
    "\n",
    "min_loss = float('inf')\n",
    "\n",
    "best_k = random.random() * 200 - 100\n",
    "best_b = random.random() * 200 - 100\n",
    "\n",
    "direction = [\n",
    "    (+1, -1),  # first element: k's change direction, second element: b's change direction\n",
    "    (+1, +1), \n",
    "    (-1, -1), \n",
    "    (-1, +1),\n",
    "]\n",
    "\n",
    "next_direction = random.choice(direction)\n",
    "\n",
    "scalar = 1\n",
    "\n",
    "for i in range(trying_times):\n",
    "    \n",
    "    k_direction, b_direction = next_direction\n",
    "    \n",
    "    current_k, current_b = best_k + k_direction * scalar, best_b + b_direction * scalar\n",
    "    \n",
    "    price_by_k_and_b = [price(r, current_k, current_b) for r in X_rm]\n",
    "\n",
    "    current_loss = loss(y, price_by_k_and_b)\n",
    "    \n",
    "    if current_loss < min_loss:  # performance became better\n",
    "        min_loss = current_loss\n",
    "        best_k, best_b = current_k, current_b\n",
    "        \n",
    "        next_direction = next_direction\n",
    "        print('When time is : {}, get best_k: {} best_b: {}, and the loss is: {}'.format(i, best_k, best_b, min_loss))\n",
    "    else:\n",
    "        #print(i)\n",
    "        next_direction = random.choice(direction)"
   ]
  },
  {
   "cell_type": "code",
   "execution_count": null,
   "metadata": {},
   "outputs": [],
   "source": []
  },
  {
   "cell_type": "markdown",
   "metadata": {},
   "source": [
    "## 2. Answer following questions:\n",
    "\n",
    "\n",
    "###### 1. Why do we need machine learning methods instead of creating a complicated formula?\n"
   ]
  },
  {
   "cell_type": "markdown",
   "metadata": {},
   "source": [
    "Ans: a complicated formula is hard to design and also not easy for maintainence, but machine learning are self adjusting and much easier for people to get a approximate accurete result."
   ]
  },
  {
   "cell_type": "markdown",
   "metadata": {},
   "source": [
    "###### 2.  Wha't's the disadvantages of `the 1st Random Choosen` methods in our course? "
   ]
  },
  {
   "cell_type": "markdown",
   "metadata": {},
   "source": [
    "Ans: this method is not time-efficient"
   ]
  },
  {
   "cell_type": "markdown",
   "metadata": {},
   "source": [
    "###### 3. Is the `2nd method supervised direction` better than 1st one?  What's the disadvantages of `the 2nd supversied directin` method? "
   ]
  },
  {
   "cell_type": "markdown",
   "metadata": {},
   "source": [
    "Ans:"
   ]
  },
  {
   "cell_type": "markdown",
   "metadata": {},
   "source": [
    "###### 4. Why do we use `Derivative / Gredient` to fit a target function? "
   ]
  },
  {
   "cell_type": "markdown",
   "metadata": {},
   "source": [
    "Ans:"
   ]
  },
  {
   "cell_type": "markdown",
   "metadata": {},
   "source": [
    "###### 5. In the words 'Gredient Descent', what's the `Gredient` and what's the `Descent`?"
   ]
  },
  {
   "cell_type": "markdown",
   "metadata": {},
   "source": [
    "Ans:"
   ]
  },
  {
   "cell_type": "markdown",
   "metadata": {},
   "source": [
    "###### 6. What's the advantages of `the 3rd gradient descent method` compared to the previous methods?"
   ]
  },
  {
   "cell_type": "markdown",
   "metadata": {},
   "source": [
    "Ans:"
   ]
  },
  {
   "cell_type": "markdown",
   "metadata": {},
   "source": [
    "###### 7. Using the simple words to describe: What's the machine leanring."
   ]
  },
  {
   "cell_type": "markdown",
   "metadata": {},
   "source": [
    "Ans:"
   ]
  },
  {
   "cell_type": "markdown",
   "metadata": {},
   "source": [
    "## 3. Finish the search problem"
   ]
  },
  {
   "cell_type": "markdown",
   "metadata": {},
   "source": [
    "Please using the search policy to implement an agent. This agent receives two input, one is @param start station and the other is @param destination. Your agent should give the optimal route based on Beijing Subway system. "
   ]
  },
  {
   "cell_type": "markdown",
   "metadata": {},
   "source": [
    "> Deadline: 2019-July-13\n",
    "\n",
    ">Submit: Submit the source code and result to github. \n",
    "\n"
   ]
  },
  {
   "cell_type": "markdown",
   "metadata": {},
   "source": [
    "![](https://timgsa.baidu.com/timg?image&quality=80&size=b9999_10000&sec=1562414356407&di=b57814aafd215bb8b8d9d8cd37c573d6&imgtype=0&src=http%3A%2F%2Fcli.clewm.net%2Ffile%2F2015%2F03%2F24%2F174ed60082b8422ac0636cfd3efb9e7f.jpg)"
   ]
  },
  {
   "cell_type": "markdown",
   "metadata": {},
   "source": [
    "#### Dataflow: "
   ]
  },
  {
   "cell_type": "markdown",
   "metadata": {},
   "source": [
    "##### 1.\tGet data from web page.\n",
    "\n",
    "> a.\tGet web page source from: https://baike.baidu.com/item/%E5%8C%97%E4%BA%AC%E5%9C%B0%E9%93%81/408485\n",
    "\n",
    "> b.\tYou may need @package **requests**[https://2.python-requests.org/en/master/] page to get the response via url\n",
    "\n",
    "> c.\tYou may need save the page source to file system.\n",
    "\n",
    "> d.\tThe target of this step is to get station information of all the subway lines;\n",
    "\n",
    "> e.\tYou may need install @package beautiful soup[https://www.crummy.com/software/BeautifulSoup/bs4/doc/]  to get the url information, or just use > Regular Expression to get the url.  Our recommendation is that using the Regular Expression and BeautiflSoup both. \n",
    "\n",
    "> f.\tYou may need BFS to get all the related page url from one url. \n",
    "Question: Why do we use BFS to traverse web page (or someone said, build a web spider)?  Can DFS do this job? which is better? "
   ]
  },
  {
   "cell_type": "code",
   "execution_count": 401,
   "metadata": {},
   "outputs": [],
   "source": [
    "import re"
   ]
  },
  {
   "cell_type": "code",
   "execution_count": 402,
   "metadata": {},
   "outputs": [],
   "source": [
    "import requests\n",
    "headers = {\"User-Agent\" : \"User-Agent:Mozilla/5.0 (compatible; MSIE 9.0; Windows NT 6.1; Trident/5.0;\"}"
   ]
  },
  {
   "cell_type": "code",
   "execution_count": 403,
   "metadata": {},
   "outputs": [],
   "source": [
    "url = \"https://baike.baidu.com/item/北京地铁/408485\""
   ]
  },
  {
   "cell_type": "code",
   "execution_count": 404,
   "metadata": {},
   "outputs": [],
   "source": [
    "html = requests.get(url, headers=headers).content.decode('utf8')"
   ]
  },
  {
   "cell_type": "code",
   "execution_count": 405,
   "metadata": {},
   "outputs": [],
   "source": [
    "from bs4 import BeautifulSoup as BS"
   ]
  },
  {
   "cell_type": "code",
   "execution_count": 406,
   "metadata": {},
   "outputs": [],
   "source": [
    "soup = BS(html)"
   ]
  },
  {
   "cell_type": "code",
   "execution_count": 407,
   "metadata": {},
   "outputs": [],
   "source": [
    "xianlu = str(soup.find_all('table', attrs={\"log-set-param\":\"table_view\",\"data-sort\":\"sortDisabled\"})[2])"
   ]
  },
  {
   "cell_type": "code",
   "execution_count": 408,
   "metadata": {},
   "outputs": [
    {
     "data": {
      "text/plain": [
       "'<table data-sort=\"sortDisabled\" log-set-param=\"table_view\"><tr><th width=\"172\">线路</th><th width=\"113\">起止点</th><th width=\"136\">首班</th><th>末班</th></tr><tr><td align=\"center\" colspan=\"1\" rowspan=\"2\" valign=\"middle\" width=\"204\"><a href=\"/item/%E5%8C%97%E4%BA%AC%E5%9C%B0%E9%93%811%E5%8F%B7%E7%BA%BF\" target=\"_blank\">北京地铁1号线</a></td><td align=\"center\" valign=\"middle\" width=\"203\">苹果园</td><td align=\"center\" valign=\"middle\" width=\"115\"><div class=\"para\" label-module=\"para\">苹果园：5:10</div>\\n<div class=\"para\" label-module=\"para\">古城：4:58</div>\\n</td><td align=\"center\" valign=\"middle\" width=\"93\">23:30</td></tr><tr><td align=\"center\" colspan=\"1\" rowspan=\"1\" valign=\"middle\" width=\"204\">四惠东</td><td align=\"center\" colspan=\"1\" rowspan=\"1\" valign=\"middle\" width=\"203\"><div class=\"para\" label-module=\"para\">四惠：4:57</div>\\n<div class=\"para\" label-module=\"para\">四惠东：5:05</div>\\n</td><td align=\"center\" colspan=\"1\" rowspan=\"1\" valign=\"middle\" width=\"115\">23:30</td></tr><tr><td align=\"center\" colspan=\"1\" rowspan=\"2\" valign=\"middle\" width=\"204\"><a href=\"/item/%E5%8C%97%E4%BA%AC%E5%9C%B0%E9%93%812%E5%8F%B7%E7%BA%BF\" target=\"_blank\">北京地铁2号线</a></td><td align=\"center\" colspan=\"1\" rowspan=\"1\" valign=\"middle\" width=\"203\">内环</td><td align=\"center\" colspan=\"1\" rowspan=\"1\" valign=\"middle\" width=\"115\"><div class=\"para\" label-module=\"para\">积水潭：5:04</div>\\n</td><td align=\"center\" colspan=\"1\" rowspan=\"1\" valign=\"middle\" width=\"93\"><div class=\"para\" label-module=\"para\">积水潭：22:15</div>\\n<div class=\"para\" label-module=\"para\">终点西直门：</div>\\n<div class=\"para\" label-module=\"para\">23:03</div>\\n</td></tr><tr><td align=\"center\" colspan=\"1\" rowspan=\"1\" valign=\"middle\" width=\"204\">外环</td><td align=\"center\" colspan=\"1\" rowspan=\"1\" valign=\"middle\" width=\"203\"><div class=\"para\" label-module=\"para\">西直门：5:10</div>\\n<div class=\"para\" label-module=\"para\">北京站：5:15</div>\\n</td><td align=\"center\" colspan=\"1\" rowspan=\"1\" valign=\"middle\" width=\"115\"><div class=\"para\" label-module=\"para\">西直门：22:15</div>\\n<div class=\"para\" label-module=\"para\">终点积水潭：</div>\\n<div class=\"para\" label-module=\"para\">23:00</div>\\n</td></tr><tr><td align=\"center\" colspan=\"1\" rowspan=\"2\" valign=\"middle\" width=\"204\"><a href=\"/item/%E5%8C%97%E4%BA%AC%E5%9C%B0%E9%93%814%E5%8F%B7%E7%BA%BF\" target=\"_blank\">北京地铁4号线</a></td><td align=\"center\" colspan=\"1\" rowspan=\"1\" valign=\"middle\" width=\"203\">天宫院</td><td align=\"center\" colspan=\"1\" rowspan=\"1\" valign=\"middle\" width=\"115\">5:30</td><td align=\"center\" colspan=\"1\" rowspan=\"1\" valign=\"middle\" width=\"93\">22:38</td></tr><tr><td align=\"center\" colspan=\"1\" rowspan=\"1\" valign=\"middle\" width=\"204\">安河桥北</td><td align=\"center\" colspan=\"1\" rowspan=\"1\" valign=\"middle\" width=\"203\">5:00</td><td align=\"center\" colspan=\"1\" rowspan=\"1\" valign=\"middle\" width=\"115\"><div class=\"para\" label-module=\"para\">全程：22:20</div>\\n<div class=\"para\" label-module=\"para\">终点公益西桥：22:45</div>\\n</td></tr><tr><td align=\"center\" colspan=\"1\" rowspan=\"2\" valign=\"middle\" width=\"204\"><a href=\"/item/%E5%8C%97%E4%BA%AC%E5%9C%B0%E9%93%815%E5%8F%B7%E7%BA%BF\" target=\"_blank\">北京地铁5号线</a></td><td align=\"center\" colspan=\"1\" rowspan=\"1\" valign=\"middle\" width=\"203\">宋家庄</td><td align=\"center\" colspan=\"1\" rowspan=\"1\" valign=\"middle\" width=\"115\">5:20</td><td align=\"center\" colspan=\"1\" rowspan=\"1\" valign=\"middle\" width=\"93\">23:11</td></tr><tr><td align=\"center\" colspan=\"1\" rowspan=\"1\" valign=\"middle\" width=\"204\">天通苑北</td><td align=\"center\" colspan=\"1\" rowspan=\"1\" valign=\"middle\" width=\"203\">5:00</td><td align=\"center\" colspan=\"1\" rowspan=\"1\" valign=\"middle\" width=\"115\">22:48</td></tr><tr><td align=\"center\" colspan=\"1\" rowspan=\"2\" valign=\"middle\" width=\"204\"><a href=\"/item/%E5%8C%97%E4%BA%AC%E5%9C%B0%E9%93%816%E5%8F%B7%E7%BA%BF\" target=\"_blank\">北京地铁6号线</a></td><td align=\"center\" colspan=\"1\" rowspan=\"1\" valign=\"middle\" width=\"203\">金安桥</td><td align=\"center\" colspan=\"1\" rowspan=\"1\" valign=\"middle\" width=\"115\"><div class=\"para\" label-module=\"para\">5:08</div>\\n</td><td align=\"center\" colspan=\"1\" rowspan=\"1\" valign=\"middle\" width=\"93\"><div class=\"para\" label-module=\"para\">全程：22:25</div>\\n<div class=\"para\" label-module=\"para\">终点草房：</div>\\n<div class=\"para\" label-module=\"para\">23:36</div>\\n</td></tr><tr><td align=\"center\" colspan=\"1\" rowspan=\"1\" valign=\"middle\" width=\"204\">潞城</td><td align=\"center\" colspan=\"1\" rowspan=\"1\" valign=\"middle\" width=\"203\"><div class=\"para\" label-module=\"para\">草房：4:57</div>\\n<div class=\"para\" label-module=\"para\">潞城：4:52</div>\\n</td><td align=\"center\" colspan=\"1\" rowspan=\"1\" valign=\"middle\" width=\"115\">22:49</td></tr><tr><td align=\"center\" colspan=\"1\" rowspan=\"2\" valign=\"middle\" width=\"204\"><a href=\"/item/%E5%8C%97%E4%BA%AC%E5%9C%B0%E9%93%817%E5%8F%B7%E7%BA%BF\" target=\"_blank\">北京地铁7号线</a></td><td align=\"center\" colspan=\"1\" rowspan=\"1\" valign=\"middle\" width=\"203\">北京西站</td><td align=\"center\" colspan=\"1\" rowspan=\"1\" valign=\"middle\" width=\"115\">5:30</td><td align=\"center\" colspan=\"1\" rowspan=\"1\" valign=\"middle\" width=\"93\">23:15</td></tr><tr><td align=\"center\" colspan=\"1\" rowspan=\"1\" valign=\"middle\" width=\"204\">焦化厂</td><td align=\"center\" colspan=\"1\" rowspan=\"1\" valign=\"middle\" width=\"203\">5:10</td><td align=\"center\" colspan=\"1\" rowspan=\"1\" valign=\"middle\" width=\"115\">22:25</td></tr><tr><td align=\"center\" colspan=\"1\" rowspan=\"2\" valign=\"middle\" width=\"204\"><a data-lemmaid=\"897830\" href=\"/item/%E5%8C%97%E4%BA%AC%E5%9C%B0%E9%93%818%E5%8F%B7%E7%BA%BF/897830\" target=\"_blank\">北京地铁8号线</a>（北段）</td><td align=\"center\" colspan=\"1\" rowspan=\"1\" valign=\"middle\" width=\"203\">朱辛庄</td><td align=\"center\" colspan=\"1\" rowspan=\"1\" valign=\"middle\" width=\"115\"><div class=\"para\" label-module=\"para\">朱辛庄：5:10</div>\\n<div class=\"para\" label-module=\"para\">回龙观东大街：4:40</div>\\n</td><td align=\"center\" colspan=\"1\" rowspan=\"1\" valign=\"middle\" width=\"93\">22:05</td></tr><tr><td align=\"center\" colspan=\"1\" rowspan=\"1\" valign=\"middle\" width=\"204\">中国美术馆</td><td align=\"center\" colspan=\"1\" rowspan=\"1\" valign=\"middle\" width=\"203\">5:27</td><td align=\"center\" colspan=\"1\" rowspan=\"1\" valign=\"middle\" width=\"115\">23:05</td></tr><tr><td align=\"center\" colspan=\"1\" rowspan=\"2\" valign=\"middle\" width=\"204\"><a data-lemmaid=\"897830\" href=\"/item/%E5%8C%97%E4%BA%AC%E5%9C%B0%E9%93%818%E5%8F%B7%E7%BA%BF/897830\" target=\"_blank\">北京地铁8号线</a>（南段）</td><td align=\"center\" colspan=\"1\" rowspan=\"1\" valign=\"middle\" width=\"203\">瀛海</td><td align=\"center\" colspan=\"1\" rowspan=\"1\" valign=\"middle\" width=\"115\">5:15</td><td align=\"center\" colspan=\"1\" rowspan=\"1\" valign=\"middle\" width=\"93\">23:00</td></tr><tr><td align=\"center\" colspan=\"1\" rowspan=\"1\" valign=\"middle\" width=\"204\">珠市口</td><td align=\"center\" colspan=\"1\" rowspan=\"1\" valign=\"middle\" width=\"203\">5:50</td><td align=\"center\" colspan=\"1\" rowspan=\"1\" valign=\"middle\" width=\"115\">23:35</td></tr><tr><td align=\"center\" colspan=\"1\" rowspan=\"2\" valign=\"middle\" width=\"204\"><a href=\"/item/%E5%8C%97%E4%BA%AC%E5%9C%B0%E9%93%819%E5%8F%B7%E7%BA%BF\" target=\"_blank\">北京地铁9号线</a></td><td align=\"center\" colspan=\"1\" rowspan=\"1\" valign=\"middle\" width=\"203\">郭公庄</td><td align=\"center\" colspan=\"1\" rowspan=\"1\" valign=\"middle\" width=\"115\">5:20</td><td align=\"center\" colspan=\"1\" rowspan=\"1\" valign=\"middle\" width=\"93\"><div class=\"para\" label-module=\"para\">20:32</div>\\n<div class=\"para\" label-module=\"para\">终点六里桥：</div>\\n<div class=\"para\" label-module=\"para\">22:40（临时提前收车）</div>\\n</td></tr><tr><td align=\"center\" colspan=\"1\" rowspan=\"1\" valign=\"middle\" width=\"204\">国家图书馆</td><td align=\"center\" colspan=\"1\" rowspan=\"1\" valign=\"middle\" width=\"203\">5:59</td><td align=\"center\" colspan=\"1\" rowspan=\"1\" valign=\"middle\" width=\"115\">21:10（临时提前收车）</td></tr><tr><td align=\"center\" colspan=\"1\" rowspan=\"2\" valign=\"middle\" width=\"204\"><a href=\"/item/%E5%8C%97%E4%BA%AC%E5%9C%B0%E9%93%8110%E5%8F%B7%E7%BA%BF\" target=\"_blank\">北京地铁10号线</a></td><td align=\"center\" colspan=\"1\" rowspan=\"1\" valign=\"middle\" width=\"203\"><div class=\"para\" label-module=\"para\">内环</div>\\n<div class=\"para\" label-module=\"para\">（巴沟-国贸-宋家庄）</div>\\n</td><td align=\"center\" colspan=\"1\" rowspan=\"1\" valign=\"middle\" width=\"115\">车道沟全程：4:47</td><td align=\"center\" colspan=\"1\" rowspan=\"1\" valign=\"middle\" width=\"93\"><div class=\"para\" label-module=\"para\">苏州街全程：</div>\\n<div class=\"para\" label-module=\"para\">20:48</div>\\n<div class=\"para\" label-module=\"para\">苏州街发车终点巴沟：</div>\\n<div class=\"para\" label-module=\"para\">22:34</div>\\n<div class=\"para\" label-module=\"para\">宋家庄发车终点慈寿寺：</div>\\n<div class=\"para\" label-module=\"para\">22:08</div>\\n</td></tr><tr><td align=\"center\" colspan=\"1\" rowspan=\"1\" valign=\"middle\" width=\"204\"><div class=\"para\" label-module=\"para\">外环</div>\\n<div class=\"para\" label-module=\"para\">（巴沟-宋家庄-国贸）</div>\\n</td><td align=\"center\" colspan=\"1\" rowspan=\"1\" valign=\"middle\" width=\"203\"><div class=\"para\" label-module=\"para\">巴沟全程：</div>\\n<div class=\"para\" label-module=\"para\">4:49</div>\\n</td><td align=\"center\" colspan=\"1\" rowspan=\"1\" valign=\"middle\" width=\"115\"><div class=\"para\" label-module=\"para\">慈寿寺全程：</div>\\n<div class=\"para\" label-module=\"para\">20:59</div>\\n<div class=\"para\" label-module=\"para\">慈寿寺发车终点站车道沟：</div>\\n<div class=\"para\" label-module=\"para\">22:44</div>\\n</td></tr><tr><td align=\"center\" colspan=\"1\" rowspan=\"2\" valign=\"middle\" width=\"204\"><a href=\"/item/%E5%8C%97%E4%BA%AC%E5%9C%B0%E9%93%8113%E5%8F%B7%E7%BA%BF\" target=\"_blank\">北京地铁13号线</a></td><td align=\"center\" colspan=\"1\" rowspan=\"1\" valign=\"middle\" width=\"203\">西直门</td><td align=\"center\" colspan=\"1\" rowspan=\"1\" valign=\"middle\" width=\"115\">5:35</td><td align=\"center\" colspan=\"1\" rowspan=\"1\" valign=\"middle\" width=\"93\">22:42（半程：23:45）</td></tr><tr><td align=\"center\" colspan=\"1\" rowspan=\"1\" valign=\"middle\" width=\"204\">东直门</td><td align=\"center\" colspan=\"1\" rowspan=\"1\" valign=\"middle\" width=\"203\">5:35</td><td align=\"center\" colspan=\"1\" rowspan=\"1\" valign=\"middle\" width=\"115\">22:42（半程：23:45）</td></tr><tr><td align=\"center\" colspan=\"1\" rowspan=\"2\" valign=\"middle\" width=\"204\"><a href=\"/item/%E5%8C%97%E4%BA%AC%E5%9C%B0%E9%93%8114%E5%8F%B7%E7%BA%BF\" target=\"_blank\">北京地铁14号线</a>（西段）</td><td align=\"center\" colspan=\"1\" rowspan=\"1\" valign=\"middle\" width=\"203\">张郭庄</td><td align=\"center\" colspan=\"1\" rowspan=\"1\" valign=\"middle\" width=\"115\">5:30</td><td align=\"center\" colspan=\"1\" rowspan=\"1\" valign=\"middle\" width=\"93\">22:10</td></tr><tr><td align=\"center\" colspan=\"1\" rowspan=\"1\" valign=\"middle\" width=\"204\">西局</td><td align=\"center\" colspan=\"1\" rowspan=\"1\" valign=\"middle\" width=\"203\">5:45</td><td align=\"center\" colspan=\"1\" rowspan=\"1\" valign=\"middle\" width=\"115\">22:10（半程：22:30）</td></tr><tr><td align=\"center\" colspan=\"1\" rowspan=\"2\" valign=\"middle\" width=\"204\"><a href=\"/item/%E5%8C%97%E4%BA%AC%E5%9C%B0%E9%93%8114%E5%8F%B7%E7%BA%BF\" target=\"_blank\">北京地铁14号线</a>（东段）</td><td align=\"center\" colspan=\"1\" rowspan=\"1\" valign=\"middle\" width=\"203\">北京南站</td><td align=\"center\" colspan=\"1\" rowspan=\"1\" valign=\"middle\" width=\"115\">5:30</td><td align=\"center\" colspan=\"1\" rowspan=\"1\" valign=\"middle\" width=\"93\">22:40</td></tr><tr><td align=\"center\" colspan=\"1\" rowspan=\"1\" valign=\"middle\" width=\"204\">善各庄</td><td align=\"center\" colspan=\"1\" rowspan=\"1\" valign=\"middle\" width=\"203\">5:00</td><td align=\"center\" colspan=\"1\" rowspan=\"1\" valign=\"middle\" width=\"115\">22:30</td></tr><tr><td align=\"center\" colspan=\"1\" rowspan=\"2\" valign=\"middle\" width=\"204\"><a href=\"/item/%E5%8C%97%E4%BA%AC%E5%9C%B0%E9%93%8115%E5%8F%B7%E7%BA%BF\" target=\"_blank\">北京地铁15号线</a></td><td align=\"center\" colspan=\"1\" rowspan=\"1\" valign=\"middle\" width=\"203\">俸伯</td><td align=\"center\" colspan=\"1\" rowspan=\"1\" valign=\"middle\" width=\"115\">5:30</td><td align=\"center\" colspan=\"1\" rowspan=\"1\" valign=\"middle\" width=\"93\">22:11（半程：23:18）</td></tr><tr><td align=\"center\" colspan=\"1\" rowspan=\"1\" valign=\"middle\" width=\"204\">清华东路西口</td><td align=\"center\" colspan=\"1\" rowspan=\"1\" valign=\"middle\" width=\"203\">5:42</td><td align=\"center\" colspan=\"1\" rowspan=\"1\" valign=\"middle\" width=\"115\">23:15</td></tr><tr><td align=\"center\" colspan=\"1\" rowspan=\"2\" valign=\"middle\" width=\"204\"><a href=\"/item/%E5%8C%97%E4%BA%AC%E5%9C%B0%E9%93%8116%E5%8F%B7%E7%BA%BF\" target=\"_blank\">北京地铁16号线</a></td><td align=\"center\" colspan=\"1\" rowspan=\"1\" valign=\"middle\" width=\"203\">西苑</td><td align=\"center\" colspan=\"1\" rowspan=\"1\" valign=\"middle\" width=\"115\">6:00</td><td align=\"center\" colspan=\"1\" rowspan=\"1\" valign=\"middle\" width=\"93\">22:55</td></tr><tr><td align=\"center\" colspan=\"1\" rowspan=\"1\" valign=\"middle\" width=\"204\">北安河</td><td align=\"center\" colspan=\"1\" rowspan=\"1\" valign=\"middle\" width=\"203\">5:25</td><td align=\"center\" colspan=\"1\" rowspan=\"1\" valign=\"middle\" width=\"115\">22:30</td></tr><tr><td align=\"center\" colspan=\"1\" rowspan=\"2\" valign=\"middle\" width=\"204\"><a href=\"/item/%E5%8C%97%E4%BA%AC%E5%9C%B0%E9%93%81%E5%85%AB%E9%80%9A%E7%BA%BF\" target=\"_blank\">北京地铁八通线</a></td><td align=\"center\" colspan=\"1\" rowspan=\"1\" valign=\"middle\" width=\"203\">四惠</td><td align=\"center\" colspan=\"1\" rowspan=\"1\" valign=\"middle\" width=\"115\">6:00</td><td align=\"center\" colspan=\"1\" rowspan=\"1\" valign=\"middle\" width=\"93\">23:40</td></tr><tr><td align=\"center\" colspan=\"1\" rowspan=\"1\" valign=\"middle\" width=\"204\">土桥</td><td align=\"center\" colspan=\"1\" rowspan=\"1\" valign=\"middle\" width=\"203\">5:20</td><td align=\"center\" colspan=\"1\" rowspan=\"1\" valign=\"middle\" width=\"115\">23:00</td></tr><tr><td align=\"center\" colspan=\"1\" rowspan=\"2\" valign=\"middle\" width=\"204\"><a href=\"/item/%E5%8C%97%E4%BA%AC%E5%9C%B0%E9%93%81%E6%98%8C%E5%B9%B3%E7%BA%BF\" target=\"_blank\">北京地铁昌平线</a></td><td align=\"center\" colspan=\"1\" rowspan=\"1\" valign=\"middle\" width=\"203\">昌平西山口</td><td align=\"center\" colspan=\"1\" rowspan=\"1\" valign=\"middle\" width=\"115\">5:45</td><td align=\"center\" colspan=\"1\" rowspan=\"1\" valign=\"middle\" width=\"93\">22:50（半程：23:35）</td></tr><tr><td align=\"center\" colspan=\"1\" rowspan=\"1\" valign=\"middle\" width=\"204\">西二旗</td><td align=\"center\" colspan=\"1\" rowspan=\"1\" valign=\"middle\" width=\"203\">5:50</td><td align=\"center\" colspan=\"1\" rowspan=\"1\" valign=\"middle\" width=\"115\">23:35</td></tr><tr><td align=\"center\" colspan=\"1\" rowspan=\"2\" valign=\"middle\" width=\"204\"><a href=\"/item/%E5%8C%97%E4%BA%AC%E5%9C%B0%E9%93%81%E4%BA%A6%E5%BA%84%E7%BA%BF\" target=\"_blank\">北京地铁亦庄线</a></td><td align=\"center\" colspan=\"1\" rowspan=\"1\" valign=\"middle\" width=\"203\">宋家庄</td><td align=\"center\" colspan=\"1\" rowspan=\"1\" valign=\"middle\" width=\"115\">6:00</td><td align=\"center\" colspan=\"1\" rowspan=\"1\" valign=\"middle\" width=\"93\">23:20</td></tr><tr><td align=\"center\" colspan=\"1\" rowspan=\"1\" valign=\"middle\" width=\"204\">亦庄火车站</td><td align=\"center\" colspan=\"1\" rowspan=\"1\" valign=\"middle\" width=\"203\">5:20</td><td align=\"center\" colspan=\"1\" rowspan=\"1\" valign=\"middle\" width=\"115\">22:40</td></tr><tr><td align=\"center\" colspan=\"1\" rowspan=\"2\" valign=\"middle\" width=\"204\"><a href=\"/item/%E5%8C%97%E4%BA%AC%E5%9C%B0%E9%93%81%E6%88%BF%E5%B1%B1%E7%BA%BF\" target=\"_blank\">北京地铁房山线</a></td><td align=\"center\" colspan=\"1\" rowspan=\"1\" valign=\"middle\" width=\"203\">郭公庄</td><td align=\"center\" colspan=\"1\" rowspan=\"1\" valign=\"middle\" width=\"115\">5:58</td><td align=\"center\" colspan=\"1\" rowspan=\"1\" valign=\"middle\" width=\"93\">23:25</td></tr><tr><td align=\"center\" colspan=\"1\" rowspan=\"1\" valign=\"middle\" width=\"204\">阎村东</td><td align=\"center\" colspan=\"1\" rowspan=\"1\" valign=\"middle\" width=\"203\">5:11</td><td align=\"center\" colspan=\"1\" rowspan=\"1\" valign=\"middle\" width=\"115\">22:20</td></tr><tr><td align=\"center\" colspan=\"1\" rowspan=\"2\" valign=\"middle\" width=\"204\"><a href=\"/item/%E5%8C%97%E4%BA%AC%E5%9C%B0%E9%93%81S1%E7%BA%BF\" target=\"_blank\">北京地铁S1线</a></td><td align=\"center\" colspan=\"1\" rowspan=\"1\" valign=\"middle\" width=\"203\">金安桥</td><td align=\"center\" colspan=\"1\" rowspan=\"1\" valign=\"middle\" width=\"115\">6:25</td><td align=\"center\" colspan=\"1\" rowspan=\"1\" valign=\"middle\" width=\"93\">21:00</td></tr><tr><td align=\"center\" colspan=\"1\" rowspan=\"1\" valign=\"middle\" width=\"204\">石厂</td><td align=\"center\" colspan=\"1\" rowspan=\"1\" valign=\"middle\" width=\"203\">6:00</td><td align=\"center\" colspan=\"1\" rowspan=\"1\" valign=\"middle\" width=\"115\">20:35</td></tr><tr><td align=\"center\" colspan=\"1\" rowspan=\"2\" valign=\"middle\" width=\"204\"><a href=\"/item/%E5%8C%97%E4%BA%AC%E5%9C%B0%E9%93%81%E7%87%95%E6%88%BF%E7%BA%BF\" target=\"_blank\">北京地铁燕房线</a></td><td align=\"center\" colspan=\"1\" rowspan=\"1\" valign=\"middle\" width=\"203\">阎村东</td><td align=\"center\" colspan=\"1\" rowspan=\"1\" valign=\"middle\" width=\"115\">5:05</td><td align=\"center\" colspan=\"1\" rowspan=\"1\" valign=\"middle\" width=\"93\">22:30</td></tr><tr><td align=\"center\" colspan=\"1\" rowspan=\"1\" valign=\"middle\" width=\"204\">燕山</td><td align=\"center\" colspan=\"1\" rowspan=\"1\" valign=\"middle\" width=\"203\">5:30</td><td align=\"center\" colspan=\"1\" rowspan=\"1\" valign=\"middle\" width=\"115\">22:55</td></tr><tr><td colspan=\"4\" rowspan=\"1\" valign=\"top\" width=\"204\">参考资料：<sup class=\"sup--normal\" data-ctrmap=\":65,\" data-sup=\"65\">\\n[65]</sup><a class=\"sup-anchor\" name=\"ref_[65]_14765801\">\\xa0</a>\\n</td></tr></table>'"
      ]
     },
     "execution_count": 408,
     "metadata": {},
     "output_type": "execute_result"
    }
   ],
   "source": [
    "xianlu"
   ]
  },
  {
   "cell_type": "code",
   "execution_count": null,
   "metadata": {},
   "outputs": [],
   "source": [
    "#simple_soup = str(soup.find_all('table',attrs={\"log-set-param\":\"table_view\"})[4])"
   ]
  },
  {
   "cell_type": "code",
   "execution_count": 409,
   "metadata": {},
   "outputs": [],
   "source": [
    "what_we_want = r'href=\"(/item/[%/\\w]+)\"\\starget=\"\\_blank\">(\\w+线)</a>'\n",
    "pattern = re.compile(what_we_want)"
   ]
  },
  {
   "cell_type": "code",
   "execution_count": 410,
   "metadata": {},
   "outputs": [],
   "source": [
    "lines = pattern.findall(xianlu)"
   ]
  },
  {
   "cell_type": "code",
   "execution_count": 411,
   "metadata": {},
   "outputs": [],
   "source": [
    "lines = list(set(lines))"
   ]
  },
  {
   "cell_type": "code",
   "execution_count": 412,
   "metadata": {},
   "outputs": [
    {
     "data": {
      "text/plain": [
       "[('/item/%E5%8C%97%E4%BA%AC%E5%9C%B0%E9%93%816%E5%8F%B7%E7%BA%BF', '北京地铁6号线'),\n",
       " ('/item/%E5%8C%97%E4%BA%AC%E5%9C%B0%E9%93%818%E5%8F%B7%E7%BA%BF/897830',\n",
       "  '北京地铁8号线'),\n",
       " ('/item/%E5%8C%97%E4%BA%AC%E5%9C%B0%E9%93%8110%E5%8F%B7%E7%BA%BF',\n",
       "  '北京地铁10号线'),\n",
       " ('/item/%E5%8C%97%E4%BA%AC%E5%9C%B0%E9%93%8115%E5%8F%B7%E7%BA%BF',\n",
       "  '北京地铁15号线'),\n",
       " ('/item/%E5%8C%97%E4%BA%AC%E5%9C%B0%E9%93%811%E5%8F%B7%E7%BA%BF', '北京地铁1号线'),\n",
       " ('/item/%E5%8C%97%E4%BA%AC%E5%9C%B0%E9%93%8116%E5%8F%B7%E7%BA%BF',\n",
       "  '北京地铁16号线'),\n",
       " ('/item/%E5%8C%97%E4%BA%AC%E5%9C%B0%E9%93%81%E4%BA%A6%E5%BA%84%E7%BA%BF',\n",
       "  '北京地铁亦庄线'),\n",
       " ('/item/%E5%8C%97%E4%BA%AC%E5%9C%B0%E9%93%8113%E5%8F%B7%E7%BA%BF',\n",
       "  '北京地铁13号线'),\n",
       " ('/item/%E5%8C%97%E4%BA%AC%E5%9C%B0%E9%93%8114%E5%8F%B7%E7%BA%BF',\n",
       "  '北京地铁14号线'),\n",
       " ('/item/%E5%8C%97%E4%BA%AC%E5%9C%B0%E9%93%817%E5%8F%B7%E7%BA%BF', '北京地铁7号线'),\n",
       " ('/item/%E5%8C%97%E4%BA%AC%E5%9C%B0%E9%93%812%E5%8F%B7%E7%BA%BF', '北京地铁2号线'),\n",
       " ('/item/%E5%8C%97%E4%BA%AC%E5%9C%B0%E9%93%81%E7%87%95%E6%88%BF%E7%BA%BF',\n",
       "  '北京地铁燕房线'),\n",
       " ('/item/%E5%8C%97%E4%BA%AC%E5%9C%B0%E9%93%814%E5%8F%B7%E7%BA%BF', '北京地铁4号线'),\n",
       " ('/item/%E5%8C%97%E4%BA%AC%E5%9C%B0%E9%93%81%E6%88%BF%E5%B1%B1%E7%BA%BF',\n",
       "  '北京地铁房山线'),\n",
       " ('/item/%E5%8C%97%E4%BA%AC%E5%9C%B0%E9%93%81S1%E7%BA%BF', '北京地铁S1线'),\n",
       " ('/item/%E5%8C%97%E4%BA%AC%E5%9C%B0%E9%93%815%E5%8F%B7%E7%BA%BF', '北京地铁5号线'),\n",
       " ('/item/%E5%8C%97%E4%BA%AC%E5%9C%B0%E9%93%81%E6%98%8C%E5%B9%B3%E7%BA%BF',\n",
       "  '北京地铁昌平线'),\n",
       " ('/item/%E5%8C%97%E4%BA%AC%E5%9C%B0%E9%93%81%E5%85%AB%E9%80%9A%E7%BA%BF',\n",
       "  '北京地铁八通线'),\n",
       " ('/item/%E5%8C%97%E4%BA%AC%E5%9C%B0%E9%93%819%E5%8F%B7%E7%BA%BF', '北京地铁9号线')]"
      ]
     },
     "execution_count": 412,
     "metadata": {},
     "output_type": "execute_result"
    }
   ],
   "source": [
    "lines"
   ]
  },
  {
   "cell_type": "code",
   "execution_count": null,
   "metadata": {},
   "outputs": [],
   "source": [
    "url = \"https://baike.baidu.com/item/%E5%8C%97%E4%BA%AC%E5%9C%B0%E9%93%812%E5%8F%B7%E7%BA%BF\"\n",
    "html = requests.get(url, headers=headers).content.decode('utf8')"
   ]
  },
  {
   "cell_type": "code",
   "execution_count": null,
   "metadata": {},
   "outputs": [],
   "source": [
    "soup = BS(html)\n",
    "print(soup)\n",
    " "
   ]
  },
  {
   "cell_type": "code",
   "execution_count": null,
   "metadata": {},
   "outputs": [],
   "source": [
    "what_we_want1 = r'td\\salign=\"center\"\\scolspan=\"1\"\\srowspan=\"1\"\\svalign=\"middle\">(\\w+)</td>'\n",
    "pattern1 = re.compile(what_we_want1)\n",
    "pattern1.findall(selected_table)"
   ]
  },
  {
   "cell_type": "code",
   "execution_count": null,
   "metadata": {},
   "outputs": [],
   "source": [
    "what_we_want1 = r'<a target=_blank\\s+href=\"/item/[/%\\w]+\"(?:\\s+\\w+\\-\\w+=\"\\d+\")>\\w+站</a>'\n",
    "pattern1 = re.compile(what_we_want1)\n",
    "pattern1.findall(html)"
   ]
  },
  {
   "cell_type": "code",
   "execution_count": 413,
   "metadata": {},
   "outputs": [
    {
     "data": {
      "text/plain": [
       "[('/item/%E5%8C%97%E4%BA%AC%E5%9C%B0%E9%93%816%E5%8F%B7%E7%BA%BF', '北京地铁6号线'),\n",
       " ('/item/%E5%8C%97%E4%BA%AC%E5%9C%B0%E9%93%818%E5%8F%B7%E7%BA%BF/897830',\n",
       "  '北京地铁8号线'),\n",
       " ('/item/%E5%8C%97%E4%BA%AC%E5%9C%B0%E9%93%8110%E5%8F%B7%E7%BA%BF',\n",
       "  '北京地铁10号线'),\n",
       " ('/item/%E5%8C%97%E4%BA%AC%E5%9C%B0%E9%93%8115%E5%8F%B7%E7%BA%BF',\n",
       "  '北京地铁15号线'),\n",
       " ('/item/%E5%8C%97%E4%BA%AC%E5%9C%B0%E9%93%811%E5%8F%B7%E7%BA%BF', '北京地铁1号线'),\n",
       " ('/item/%E5%8C%97%E4%BA%AC%E5%9C%B0%E9%93%8116%E5%8F%B7%E7%BA%BF',\n",
       "  '北京地铁16号线'),\n",
       " ('/item/%E5%8C%97%E4%BA%AC%E5%9C%B0%E9%93%81%E4%BA%A6%E5%BA%84%E7%BA%BF',\n",
       "  '北京地铁亦庄线'),\n",
       " ('/item/%E5%8C%97%E4%BA%AC%E5%9C%B0%E9%93%8113%E5%8F%B7%E7%BA%BF',\n",
       "  '北京地铁13号线'),\n",
       " ('/item/%E5%8C%97%E4%BA%AC%E5%9C%B0%E9%93%8114%E5%8F%B7%E7%BA%BF',\n",
       "  '北京地铁14号线'),\n",
       " ('/item/%E5%8C%97%E4%BA%AC%E5%9C%B0%E9%93%817%E5%8F%B7%E7%BA%BF', '北京地铁7号线'),\n",
       " ('/item/%E5%8C%97%E4%BA%AC%E5%9C%B0%E9%93%812%E5%8F%B7%E7%BA%BF', '北京地铁2号线'),\n",
       " ('/item/%E5%8C%97%E4%BA%AC%E5%9C%B0%E9%93%81%E7%87%95%E6%88%BF%E7%BA%BF',\n",
       "  '北京地铁燕房线'),\n",
       " ('/item/%E5%8C%97%E4%BA%AC%E5%9C%B0%E9%93%814%E5%8F%B7%E7%BA%BF', '北京地铁4号线'),\n",
       " ('/item/%E5%8C%97%E4%BA%AC%E5%9C%B0%E9%93%81%E6%88%BF%E5%B1%B1%E7%BA%BF',\n",
       "  '北京地铁房山线'),\n",
       " ('/item/%E5%8C%97%E4%BA%AC%E5%9C%B0%E9%93%81S1%E7%BA%BF', '北京地铁S1线'),\n",
       " ('/item/%E5%8C%97%E4%BA%AC%E5%9C%B0%E9%93%815%E5%8F%B7%E7%BA%BF', '北京地铁5号线'),\n",
       " ('/item/%E5%8C%97%E4%BA%AC%E5%9C%B0%E9%93%81%E6%98%8C%E5%B9%B3%E7%BA%BF',\n",
       "  '北京地铁昌平线'),\n",
       " ('/item/%E5%8C%97%E4%BA%AC%E5%9C%B0%E9%93%81%E5%85%AB%E9%80%9A%E7%BA%BF',\n",
       "  '北京地铁八通线'),\n",
       " ('/item/%E5%8C%97%E4%BA%AC%E5%9C%B0%E9%93%819%E5%8F%B7%E7%BA%BF', '北京地铁9号线')]"
      ]
     },
     "execution_count": 413,
     "metadata": {},
     "output_type": "execute_result"
    }
   ],
   "source": [
    "lines"
   ]
  },
  {
   "cell_type": "code",
   "execution_count": 415,
   "metadata": {},
   "outputs": [],
   "source": [
    "url_head = \"https://baike.baidu.com\"\n",
    "what_we_want1 = r'<a target=_blank\\s+href=\"/item/[/%\\w]+\"(?:\\s+\\w+\\-\\w+=\"\\d+\")*>(\\w+站)</a>'\n",
    "pattern1 = re.compile(what_we_want1)\n",
    "lines_stations = {}\n",
    "for url, name in lines:\n",
    "    url = url_head + url\n",
    "    html = requests.get(url, headers=headers).content.decode('utf8')\n",
    "    stations = pattern1.findall(html)\n",
    "    stations = list(set(stations))\n",
    "    lines_stations[name] = stations"
   ]
  },
  {
   "cell_type": "code",
   "execution_count": 416,
   "metadata": {},
   "outputs": [
    {
     "data": {
      "text/plain": [
       "{'北京地铁6号线': ['潞城站',\n",
       "  '呼家楼站',\n",
       "  '廖公庄站',\n",
       "  '车公庄西站',\n",
       "  '二里沟站',\n",
       "  '十里堡站',\n",
       "  '花园桥站',\n",
       "  '白石桥南站',\n",
       "  '北海北站',\n",
       "  '田村站',\n",
       "  '褡裢坡站',\n",
       "  '苹果园南路站',\n",
       "  '草房站',\n",
       "  '苹果园站',\n",
       "  '常营站',\n",
       "  '物资学院路站',\n",
       "  '北运河东站',\n",
       "  '通运门站',\n",
       "  '郝家府站',\n",
       "  '东大桥站',\n",
       "  '南锣鼓巷站',\n",
       "  '东四站',\n",
       "  '慈寿寺站',\n",
       "  '北运河西站',\n",
       "  '黄渠站',\n",
       "  '平安里站',\n",
       "  '金安桥站',\n",
       "  '杨庄站',\n",
       "  '通州北关站',\n",
       "  '金台路站',\n",
       "  '东夏园站',\n",
       "  '青年路站',\n",
       "  '西黄村站',\n",
       "  '车公庄站',\n",
       "  '朝阳门站',\n",
       "  '海淀五路居站'],\n",
       " '北京地铁8号线': ['德茂站',\n",
       "  '六营门站',\n",
       "  '大红门站',\n",
       "  '森林公园南门站',\n",
       "  '平西府站',\n",
       "  '木樨园站',\n",
       "  '西二旗站',\n",
       "  '奥林匹克公园站',\n",
       "  '火箭万源站',\n",
       "  '育新站',\n",
       "  '五福堂站',\n",
       "  '安德里北街站',\n",
       "  '奥体中心站',\n",
       "  '东高地站',\n",
       "  '大红门南站',\n",
       "  '海户屯站',\n",
       "  '霍营站',\n",
       "  '什刹海站',\n",
       "  '王府井站',\n",
       "  '中国美术馆站',\n",
       "  '育知路站',\n",
       "  '瀛海站',\n",
       "  '南锣鼓巷站',\n",
       "  '前门站',\n",
       "  '珠市口站',\n",
       "  '和义站',\n",
       "  '西小口站',\n",
       "  '永定门外站',\n",
       "  '金鱼胡同站',\n",
       "  '朱辛庄站',\n",
       "  '北土城站',\n",
       "  '林萃桥站',\n",
       "  '回龙观东大街站',\n",
       "  '天桥站',\n",
       "  '安华桥站',\n",
       "  '鼓楼大街站',\n",
       "  '永泰庄站'],\n",
       " '北京地铁10号线': ['潘家园站',\n",
       "  '芍药居站',\n",
       "  '泥洼站',\n",
       "  '火器营站',\n",
       "  '草桥站',\n",
       "  '国贸站',\n",
       "  '呼家楼站',\n",
       "  '角门东站',\n",
       "  '大红门站',\n",
       "  '健德门站',\n",
       "  '劲松站',\n",
       "  '角门西站',\n",
       "  '公主坟站',\n",
       "  '西钓鱼台站',\n",
       "  '十里河站',\n",
       "  '安贞门站',\n",
       "  '牡丹园站',\n",
       "  '莲花桥站',\n",
       "  '海淀黄庄站',\n",
       "  '车道沟站',\n",
       "  '知春路站',\n",
       "  '宋家庄站',\n",
       "  '长春桥站',\n",
       "  '惠新西街南口站',\n",
       "  '亮马桥站',\n",
       "  '纪家庙站',\n",
       "  '三元桥站',\n",
       "  '丰台站',\n",
       "  '首经贸站',\n",
       "  '西土城站',\n",
       "  '太阳宫站',\n",
       "  '双井站',\n",
       "  '金台夕照站',\n",
       "  '慈寿寺站',\n",
       "  '成寿寺站',\n",
       "  '团结湖站',\n",
       "  '六里桥站',\n",
       "  '北土城站',\n",
       "  '西局站',\n",
       "  '分钟寺站',\n",
       "  '苏州街站',\n",
       "  '巴沟站',\n",
       "  '知春里站',\n",
       "  '农业展览馆站',\n",
       "  '石榴庄站'],\n",
       " '北京地铁15号线': ['马泉营站',\n",
       "  '后沙峪站',\n",
       "  '顺义站',\n",
       "  '北沙滩站',\n",
       "  '俸伯站',\n",
       "  '清华东路西口站',\n",
       "  '奥林匹克公园站',\n",
       "  '崔各庄站',\n",
       "  '安立路站',\n",
       "  '西苑站',\n",
       "  '望京站',\n",
       "  '圆明园站',\n",
       "  '望京东站',\n",
       "  '望京西站',\n",
       "  '南法信站',\n",
       "  '六道口站',\n",
       "  '花梨坎站',\n",
       "  '石门站',\n",
       "  '关庄站',\n",
       "  '孙河站',\n",
       "  '国展站',\n",
       "  '大屯路东站'],\n",
       " '北京地铁1号线': ['万寿路站',\n",
       "  '雍和宫站',\n",
       "  '八角游乐园站',\n",
       "  '国贸站',\n",
       "  '古城站',\n",
       "  '长椿街站',\n",
       "  '西单站',\n",
       "  '五棵松站',\n",
       "  '公主坟站',\n",
       "  '军事博物馆站',\n",
       "  '苹果园站',\n",
       "  '四惠站',\n",
       "  '传媒大学站',\n",
       "  '梨园站',\n",
       "  '衙门口站',\n",
       "  '积水潭站',\n",
       "  '东单站',\n",
       "  '南礼士路站',\n",
       "  '管庄站',\n",
       "  '天安门西站',\n",
       "  '临河里站',\n",
       "  '复兴门站',\n",
       "  '终点站',\n",
       "  '通州北苑站',\n",
       "  '八里桥站',\n",
       "  '黑石头站',\n",
       "  '安定门站',\n",
       "  '王府井站',\n",
       "  '花庄站',\n",
       "  '高井站',\n",
       "  '果园站',\n",
       "  '东直门站',\n",
       "  '土桥站',\n",
       "  '西直门站',\n",
       "  '天安门东站',\n",
       "  '木樨地站',\n",
       "  '八宝山站',\n",
       "  '北京站',\n",
       "  '永安里站',\n",
       "  '四惠东站',\n",
       "  '玉泉路站',\n",
       "  '建国门站',\n",
       "  '大望路站',\n",
       "  '九棵树站',\n",
       "  '北京军区站',\n",
       "  '高碑店站',\n",
       "  '鼓楼大街站',\n",
       "  '双桥站',\n",
       "  '福寿岭站'],\n",
       " '北京地铁16号线': ['玉渊潭东门站',\n",
       "  '稻香湖路站',\n",
       "  '二里沟站',\n",
       "  '西北旺站',\n",
       "  '农大南路站',\n",
       "  '苏州桥站',\n",
       "  '万泉河桥站',\n",
       "  '西苑站',\n",
       "  '宛平站',\n",
       "  '丰益桥南站',\n",
       "  '丰台站',\n",
       "  '宛平城站',\n",
       "  '看丹站',\n",
       "  '永丰站',\n",
       "  '永丰南站',\n",
       "  '木樨地站',\n",
       "  '达官营站',\n",
       "  '榆树庄站',\n",
       "  '甘家口站',\n",
       "  '国家图书馆站',\n",
       "  '温阳路站',\n",
       "  '北安河站',\n",
       "  '富丰桥站',\n",
       "  '丽泽商务区站',\n",
       "  '丰台南路站',\n",
       "  '万寿寺站',\n",
       "  '屯佃站',\n",
       "  '苏州街站',\n",
       "  '红莲南里站',\n",
       "  '马连洼站'],\n",
       " '北京地铁亦庄线': ['小红门站',\n",
       "  '次渠南站',\n",
       "  '车站',\n",
       "  '肖村站',\n",
       "  '旧宫站',\n",
       "  '亦庄火车站',\n",
       "  '荣昌东街站',\n",
       "  '亦庄文化园站',\n",
       "  '经海路站',\n",
       "  '次渠站',\n",
       "  '宋家庄站',\n",
       "  '同济南路站',\n",
       "  '万源街站',\n",
       "  '亦庄桥站',\n",
       "  '荣京东街站'],\n",
       " '北京地铁13号线': ['大钟寺站',\n",
       "  '芍药居站',\n",
       "  '柳芳站',\n",
       "  '西二旗站',\n",
       "  '东直门站',\n",
       "  '光熙门站',\n",
       "  '西直门站',\n",
       "  '上地站',\n",
       "  '望京西站',\n",
       "  '回龙观站',\n",
       "  '知春路站',\n",
       "  '立水桥站',\n",
       "  '北苑站',\n",
       "  '五道口站',\n",
       "  '霍营站',\n",
       "  '清华东路西口站',\n",
       "  '清华东站',\n",
       "  '龙泽站'],\n",
       " '北京地铁14号线': ['阜通站',\n",
       "  '善各庄站',\n",
       "  '七里庄站',\n",
       "  '望京南站',\n",
       "  '东湖渠站',\n",
       "  '方庄站',\n",
       "  '十里河站',\n",
       "  '园博园站',\n",
       "  '北工大西门站',\n",
       "  '大瓦窑站',\n",
       "  '西铁营站',\n",
       "  '东风北桥站',\n",
       "  '景风门站',\n",
       "  '将台站',\n",
       "  '陶然桥站',\n",
       "  '望京站',\n",
       "  '来广营站',\n",
       "  '景泰站',\n",
       "  '平乐园站',\n",
       "  '枣营站',\n",
       "  '蒲黄榆站',\n",
       "  '郭庄子站',\n",
       "  '菜户营站',\n",
       "  '大井站',\n",
       "  '永定门外站',\n",
       "  '北京站',\n",
       "  '九龙山站',\n",
       "  '东管头站',\n",
       "  '丽泽商务区站',\n",
       "  '高家园站',\n",
       "  '金台路站',\n",
       "  '大望路站',\n",
       "  '西局站',\n",
       "  '北京南站',\n",
       "  '朝阳公园站'],\n",
       " '北京地铁7号线': ['广渠门外站',\n",
       "  '欢乐谷景区站',\n",
       "  '环球影城站',\n",
       "  '豆各庄站',\n",
       "  '焦化厂站',\n",
       "  '化工站',\n",
       "  '磁器口站',\n",
       "  '大郊亭站',\n",
       "  '劲松站',\n",
       "  '西客站',\n",
       "  '云景东路站',\n",
       "  '湾子站',\n",
       "  '百子湾站',\n",
       "  '桥湾站',\n",
       "  '万盛南街西口站',\n",
       "  '高楼金站',\n",
       "  '双合站',\n",
       "  '广渠门内站',\n",
       "  '小马庄站',\n",
       "  '虎坊桥站',\n",
       "  '双井站',\n",
       "  '珠市口站',\n",
       "  '黑庄户站',\n",
       "  '达官营站',\n",
       "  '广安门内站',\n",
       "  '九龙山站',\n",
       "  '南楼梓庄站',\n",
       "  '黄厂村站',\n",
       "  '北京西站',\n",
       "  '垡头站',\n",
       "  '牛街站',\n",
       "  '菜市口站',\n",
       "  '广安门站'],\n",
       " '北京地铁2号线': ['雍和宫站',\n",
       "  '长椿街站',\n",
       "  '阜成门站',\n",
       "  '宣武门站',\n",
       "  '积水潭站',\n",
       "  '南礼士路站',\n",
       "  '复兴门站',\n",
       "  '崇文门站',\n",
       "  '安定门站',\n",
       "  '高井站',\n",
       "  '和平门站',\n",
       "  '东直门站',\n",
       "  '西直门站',\n",
       "  '前门站',\n",
       "  '东四十条站',\n",
       "  '北京站',\n",
       "  '建国门站',\n",
       "  '车公庄站',\n",
       "  '鼓楼大街站',\n",
       "  '朝阳门站'],\n",
       " '北京地铁燕房线': ['老城区站',\n",
       "  '房山城关站',\n",
       "  '阎村东站',\n",
       "  '星城站',\n",
       "  '饶乐府站',\n",
       "  '紫草坞站',\n",
       "  '燕山站',\n",
       "  '阎村站',\n",
       "  '马各庄站',\n",
       "  '大石河东站',\n",
       "  '顾册站'],\n",
       " '北京地铁4号线': ['西单站',\n",
       "  '角门西站',\n",
       "  '宣武门站',\n",
       "  '魏公村站',\n",
       "  '动物园站',\n",
       "  '北宫门站',\n",
       "  '海淀黄庄站',\n",
       "  '中关村站',\n",
       "  '西苑站',\n",
       "  '人民大学站',\n",
       "  '灵境胡同站',\n",
       "  '马家堡站',\n",
       "  '圆明园站',\n",
       "  '陶然亭站',\n",
       "  '西直门站',\n",
       "  '公益西桥站',\n",
       "  '国家图书馆站',\n",
       "  '平安里站',\n",
       "  '北京南站',\n",
       "  '新街口站',\n",
       "  '北京大学东门站',\n",
       "  '菜市口站',\n",
       "  '安河桥北站',\n",
       "  '西四站'],\n",
       " '北京地铁房山线': ['大葆台站',\n",
       "  '苏庄站',\n",
       "  '阎村东站',\n",
       "  '良乡大学城北站',\n",
       "  '篱笆房站',\n",
       "  '长阳站',\n",
       "  '首经贸站',\n",
       "  '良乡南关站',\n",
       "  '郭公庄站',\n",
       "  '稻田站',\n",
       "  '广阳城站',\n",
       "  '良乡大学城西站',\n",
       "  '新宫站',\n",
       "  '良乡大学城站',\n",
       "  '丰益桥南站'],\n",
       " '北京地铁S1线': ['苹果园站', '上岸站', '小园站', '桥户营站', '四道桥站', '栗园庄站', '石厂站', '金安桥站'],\n",
       " '北京地铁5号线': ['天坛东门站',\n",
       "  '天通苑北站',\n",
       "  '马坊站',\n",
       "  '北新桥站',\n",
       "  '雍和宫站',\n",
       "  '立水桥南站',\n",
       "  '惠新西街北口站',\n",
       "  '灯市口站',\n",
       "  '磁器口站',\n",
       "  '平坊站',\n",
       "  '刘家窑站',\n",
       "  '平西府站',\n",
       "  '天通苑站',\n",
       "  '东单站',\n",
       "  '崇文门站',\n",
       "  '北苑路北站',\n",
       "  '宋家庄站',\n",
       "  '惠新西街南口站',\n",
       "  '蒲黄榆站',\n",
       "  '东四站',\n",
       "  '立水桥站',\n",
       "  '和平西桥站',\n",
       "  '和平里北街站',\n",
       "  '大屯路东站',\n",
       "  '张自忠路站',\n",
       "  '天通苑南站'],\n",
       " '北京地铁昌平线': ['岛式车站',\n",
       "  '西二旗站',\n",
       "  '沙河站',\n",
       "  '朱辛庄站',\n",
       "  '昌平站',\n",
       "  '十三陵景区站',\n",
       "  '北邵洼站',\n",
       "  '巩华城站',\n",
       "  '南邵站',\n",
       "  '昌平东关站',\n",
       "  '沙河高教园站',\n",
       "  '昌平北站',\n",
       "  '生命科学园站',\n",
       "  '昌平西山口站'],\n",
       " '北京地铁八通线': ['四惠站',\n",
       "  '传媒大学站',\n",
       "  '梨园站',\n",
       "  '果园站',\n",
       "  '环球影城站',\n",
       "  '土桥站',\n",
       "  '四惠东站',\n",
       "  '九棵树站',\n",
       "  '高碑店站',\n",
       "  '管庄站',\n",
       "  '临河里站',\n",
       "  '通州北苑站',\n",
       "  '双桥站',\n",
       "  '八里桥站'],\n",
       " '北京地铁9号线': ['六里桥站',\n",
       "  '科怡路站',\n",
       "  '丰台南路站',\n",
       "  '丰台科技园站',\n",
       "  '七里庄站',\n",
       "  '北京西站',\n",
       "  '郭公庄站',\n",
       "  '军事博物馆站',\n",
       "  '白石桥南站',\n",
       "  '国家图书馆站',\n",
       "  '丰台东大街站',\n",
       "  '白堆子站',\n",
       "  '六里桥东站']}"
      ]
     },
     "execution_count": 416,
     "metadata": {},
     "output_type": "execute_result"
    }
   ],
   "source": [
    "lines_stations"
   ]
  },
  {
   "cell_type": "markdown",
   "metadata": {},
   "source": [
    "##### 2.\tPreprocessing data from page source.\n",
    "\n",
    "> a.\tBased on the page source gotten from url. You may need some more preprocessing of the page. \n",
    "\n",
    "> b.\tthe Regular Expression you may need to process the text information.\n",
    "\n",
    "> c.\tYou may need @package networkx, @package matplotlib to visualize data. \n",
    "\n",
    "> d.\tYou should build a dictionary or graph which could represent the connection information of Beijing subway routes. \n",
    "\n",
    "> e.\tYou may need the defaultdict, set data structures to implement this procedure. "
   ]
  },
  {
   "cell_type": "code",
   "execution_count": 417,
   "metadata": {},
   "outputs": [],
   "source": [
    "station_lines = {}\n",
    "for line, stations in lines_stations.items():\n",
    "    for station in stations:\n",
    "        if station in station_lines:\n",
    "            station_lines[station] += [line]\n",
    "        else:\n",
    "            station_lines[station] = [line]\n",
    "        "
   ]
  },
  {
   "cell_type": "code",
   "execution_count": 418,
   "metadata": {
    "scrolled": true
   },
   "outputs": [
    {
     "data": {
      "text/plain": [
       "{'潞城站': ['北京地铁6号线'],\n",
       " '呼家楼站': ['北京地铁6号线', '北京地铁10号线'],\n",
       " '廖公庄站': ['北京地铁6号线'],\n",
       " '车公庄西站': ['北京地铁6号线'],\n",
       " '二里沟站': ['北京地铁6号线', '北京地铁16号线'],\n",
       " '十里堡站': ['北京地铁6号线'],\n",
       " '花园桥站': ['北京地铁6号线'],\n",
       " '白石桥南站': ['北京地铁6号线', '北京地铁9号线'],\n",
       " '北海北站': ['北京地铁6号线'],\n",
       " '田村站': ['北京地铁6号线'],\n",
       " '褡裢坡站': ['北京地铁6号线'],\n",
       " '苹果园南路站': ['北京地铁6号线'],\n",
       " '草房站': ['北京地铁6号线'],\n",
       " '苹果园站': ['北京地铁6号线', '北京地铁1号线', '北京地铁S1线'],\n",
       " '常营站': ['北京地铁6号线'],\n",
       " '物资学院路站': ['北京地铁6号线'],\n",
       " '北运河东站': ['北京地铁6号线'],\n",
       " '通运门站': ['北京地铁6号线'],\n",
       " '郝家府站': ['北京地铁6号线'],\n",
       " '东大桥站': ['北京地铁6号线'],\n",
       " '南锣鼓巷站': ['北京地铁6号线', '北京地铁8号线'],\n",
       " '东四站': ['北京地铁6号线', '北京地铁5号线'],\n",
       " '慈寿寺站': ['北京地铁6号线', '北京地铁10号线'],\n",
       " '北运河西站': ['北京地铁6号线'],\n",
       " '黄渠站': ['北京地铁6号线'],\n",
       " '平安里站': ['北京地铁6号线', '北京地铁4号线'],\n",
       " '金安桥站': ['北京地铁6号线', '北京地铁S1线'],\n",
       " '杨庄站': ['北京地铁6号线'],\n",
       " '通州北关站': ['北京地铁6号线'],\n",
       " '金台路站': ['北京地铁6号线', '北京地铁14号线'],\n",
       " '东夏园站': ['北京地铁6号线'],\n",
       " '青年路站': ['北京地铁6号线'],\n",
       " '西黄村站': ['北京地铁6号线'],\n",
       " '车公庄站': ['北京地铁6号线', '北京地铁2号线'],\n",
       " '朝阳门站': ['北京地铁6号线', '北京地铁2号线'],\n",
       " '海淀五路居站': ['北京地铁6号线'],\n",
       " '德茂站': ['北京地铁8号线'],\n",
       " '六营门站': ['北京地铁8号线'],\n",
       " '大红门站': ['北京地铁8号线', '北京地铁10号线'],\n",
       " '森林公园南门站': ['北京地铁8号线'],\n",
       " '平西府站': ['北京地铁8号线', '北京地铁5号线'],\n",
       " '木樨园站': ['北京地铁8号线'],\n",
       " '西二旗站': ['北京地铁8号线', '北京地铁13号线', '北京地铁昌平线'],\n",
       " '奥林匹克公园站': ['北京地铁8号线', '北京地铁15号线'],\n",
       " '火箭万源站': ['北京地铁8号线'],\n",
       " '育新站': ['北京地铁8号线'],\n",
       " '五福堂站': ['北京地铁8号线'],\n",
       " '安德里北街站': ['北京地铁8号线'],\n",
       " '奥体中心站': ['北京地铁8号线'],\n",
       " '东高地站': ['北京地铁8号线'],\n",
       " '大红门南站': ['北京地铁8号线'],\n",
       " '海户屯站': ['北京地铁8号线'],\n",
       " '霍营站': ['北京地铁8号线', '北京地铁13号线'],\n",
       " '什刹海站': ['北京地铁8号线'],\n",
       " '王府井站': ['北京地铁8号线', '北京地铁1号线'],\n",
       " '中国美术馆站': ['北京地铁8号线'],\n",
       " '育知路站': ['北京地铁8号线'],\n",
       " '瀛海站': ['北京地铁8号线'],\n",
       " '前门站': ['北京地铁8号线', '北京地铁2号线'],\n",
       " '珠市口站': ['北京地铁8号线', '北京地铁7号线'],\n",
       " '和义站': ['北京地铁8号线'],\n",
       " '西小口站': ['北京地铁8号线'],\n",
       " '永定门外站': ['北京地铁8号线', '北京地铁14号线'],\n",
       " '金鱼胡同站': ['北京地铁8号线'],\n",
       " '朱辛庄站': ['北京地铁8号线', '北京地铁昌平线'],\n",
       " '北土城站': ['北京地铁8号线', '北京地铁10号线'],\n",
       " '林萃桥站': ['北京地铁8号线'],\n",
       " '回龙观东大街站': ['北京地铁8号线'],\n",
       " '天桥站': ['北京地铁8号线'],\n",
       " '安华桥站': ['北京地铁8号线'],\n",
       " '鼓楼大街站': ['北京地铁8号线', '北京地铁1号线', '北京地铁2号线'],\n",
       " '永泰庄站': ['北京地铁8号线'],\n",
       " '潘家园站': ['北京地铁10号线'],\n",
       " '芍药居站': ['北京地铁10号线', '北京地铁13号线'],\n",
       " '泥洼站': ['北京地铁10号线'],\n",
       " '火器营站': ['北京地铁10号线'],\n",
       " '草桥站': ['北京地铁10号线'],\n",
       " '国贸站': ['北京地铁10号线', '北京地铁1号线'],\n",
       " '角门东站': ['北京地铁10号线'],\n",
       " '健德门站': ['北京地铁10号线'],\n",
       " '劲松站': ['北京地铁10号线', '北京地铁7号线'],\n",
       " '角门西站': ['北京地铁10号线', '北京地铁4号线'],\n",
       " '公主坟站': ['北京地铁10号线', '北京地铁1号线'],\n",
       " '西钓鱼台站': ['北京地铁10号线'],\n",
       " '十里河站': ['北京地铁10号线', '北京地铁14号线'],\n",
       " '安贞门站': ['北京地铁10号线'],\n",
       " '牡丹园站': ['北京地铁10号线'],\n",
       " '莲花桥站': ['北京地铁10号线'],\n",
       " '海淀黄庄站': ['北京地铁10号线', '北京地铁4号线'],\n",
       " '车道沟站': ['北京地铁10号线'],\n",
       " '知春路站': ['北京地铁10号线', '北京地铁13号线'],\n",
       " '宋家庄站': ['北京地铁10号线', '北京地铁亦庄线', '北京地铁5号线'],\n",
       " '长春桥站': ['北京地铁10号线'],\n",
       " '惠新西街南口站': ['北京地铁10号线', '北京地铁5号线'],\n",
       " '亮马桥站': ['北京地铁10号线'],\n",
       " '纪家庙站': ['北京地铁10号线'],\n",
       " '三元桥站': ['北京地铁10号线'],\n",
       " '丰台站': ['北京地铁10号线', '北京地铁16号线'],\n",
       " '首经贸站': ['北京地铁10号线', '北京地铁房山线'],\n",
       " '西土城站': ['北京地铁10号线'],\n",
       " '太阳宫站': ['北京地铁10号线'],\n",
       " '双井站': ['北京地铁10号线', '北京地铁7号线'],\n",
       " '金台夕照站': ['北京地铁10号线'],\n",
       " '成寿寺站': ['北京地铁10号线'],\n",
       " '团结湖站': ['北京地铁10号线'],\n",
       " '六里桥站': ['北京地铁10号线', '北京地铁9号线'],\n",
       " '西局站': ['北京地铁10号线', '北京地铁14号线'],\n",
       " '分钟寺站': ['北京地铁10号线'],\n",
       " '苏州街站': ['北京地铁10号线', '北京地铁16号线'],\n",
       " '巴沟站': ['北京地铁10号线'],\n",
       " '知春里站': ['北京地铁10号线'],\n",
       " '农业展览馆站': ['北京地铁10号线'],\n",
       " '石榴庄站': ['北京地铁10号线'],\n",
       " '马泉营站': ['北京地铁15号线'],\n",
       " '后沙峪站': ['北京地铁15号线'],\n",
       " '顺义站': ['北京地铁15号线'],\n",
       " '北沙滩站': ['北京地铁15号线'],\n",
       " '俸伯站': ['北京地铁15号线'],\n",
       " '清华东路西口站': ['北京地铁15号线', '北京地铁13号线'],\n",
       " '崔各庄站': ['北京地铁15号线'],\n",
       " '安立路站': ['北京地铁15号线'],\n",
       " '西苑站': ['北京地铁15号线', '北京地铁16号线', '北京地铁4号线'],\n",
       " '望京站': ['北京地铁15号线', '北京地铁14号线'],\n",
       " '圆明园站': ['北京地铁15号线', '北京地铁4号线'],\n",
       " '望京东站': ['北京地铁15号线'],\n",
       " '望京西站': ['北京地铁15号线', '北京地铁13号线'],\n",
       " '南法信站': ['北京地铁15号线'],\n",
       " '六道口站': ['北京地铁15号线'],\n",
       " '花梨坎站': ['北京地铁15号线'],\n",
       " '石门站': ['北京地铁15号线'],\n",
       " '关庄站': ['北京地铁15号线'],\n",
       " '孙河站': ['北京地铁15号线'],\n",
       " '国展站': ['北京地铁15号线'],\n",
       " '大屯路东站': ['北京地铁15号线', '北京地铁5号线'],\n",
       " '万寿路站': ['北京地铁1号线'],\n",
       " '雍和宫站': ['北京地铁1号线', '北京地铁2号线', '北京地铁5号线'],\n",
       " '八角游乐园站': ['北京地铁1号线'],\n",
       " '古城站': ['北京地铁1号线'],\n",
       " '长椿街站': ['北京地铁1号线', '北京地铁2号线'],\n",
       " '西单站': ['北京地铁1号线', '北京地铁4号线'],\n",
       " '五棵松站': ['北京地铁1号线'],\n",
       " '军事博物馆站': ['北京地铁1号线', '北京地铁9号线'],\n",
       " '四惠站': ['北京地铁1号线', '北京地铁八通线'],\n",
       " '传媒大学站': ['北京地铁1号线', '北京地铁八通线'],\n",
       " '梨园站': ['北京地铁1号线', '北京地铁八通线'],\n",
       " '衙门口站': ['北京地铁1号线'],\n",
       " '积水潭站': ['北京地铁1号线', '北京地铁2号线'],\n",
       " '东单站': ['北京地铁1号线', '北京地铁5号线'],\n",
       " '南礼士路站': ['北京地铁1号线', '北京地铁2号线'],\n",
       " '管庄站': ['北京地铁1号线', '北京地铁八通线'],\n",
       " '天安门西站': ['北京地铁1号线'],\n",
       " '临河里站': ['北京地铁1号线', '北京地铁八通线'],\n",
       " '复兴门站': ['北京地铁1号线', '北京地铁2号线'],\n",
       " '终点站': ['北京地铁1号线'],\n",
       " '通州北苑站': ['北京地铁1号线', '北京地铁八通线'],\n",
       " '八里桥站': ['北京地铁1号线', '北京地铁八通线'],\n",
       " '黑石头站': ['北京地铁1号线'],\n",
       " '安定门站': ['北京地铁1号线', '北京地铁2号线'],\n",
       " '花庄站': ['北京地铁1号线'],\n",
       " '高井站': ['北京地铁1号线', '北京地铁2号线'],\n",
       " '果园站': ['北京地铁1号线', '北京地铁八通线'],\n",
       " '东直门站': ['北京地铁1号线', '北京地铁13号线', '北京地铁2号线'],\n",
       " '土桥站': ['北京地铁1号线', '北京地铁八通线'],\n",
       " '西直门站': ['北京地铁1号线', '北京地铁13号线', '北京地铁2号线', '北京地铁4号线'],\n",
       " '天安门东站': ['北京地铁1号线'],\n",
       " '木樨地站': ['北京地铁1号线', '北京地铁16号线'],\n",
       " '八宝山站': ['北京地铁1号线'],\n",
       " '北京站': ['北京地铁1号线', '北京地铁14号线', '北京地铁2号线'],\n",
       " '永安里站': ['北京地铁1号线'],\n",
       " '四惠东站': ['北京地铁1号线', '北京地铁八通线'],\n",
       " '玉泉路站': ['北京地铁1号线'],\n",
       " '建国门站': ['北京地铁1号线', '北京地铁2号线'],\n",
       " '大望路站': ['北京地铁1号线', '北京地铁14号线'],\n",
       " '九棵树站': ['北京地铁1号线', '北京地铁八通线'],\n",
       " '北京军区站': ['北京地铁1号线'],\n",
       " '高碑店站': ['北京地铁1号线', '北京地铁八通线'],\n",
       " '双桥站': ['北京地铁1号线', '北京地铁八通线'],\n",
       " '福寿岭站': ['北京地铁1号线'],\n",
       " '玉渊潭东门站': ['北京地铁16号线'],\n",
       " '稻香湖路站': ['北京地铁16号线'],\n",
       " '西北旺站': ['北京地铁16号线'],\n",
       " '农大南路站': ['北京地铁16号线'],\n",
       " '苏州桥站': ['北京地铁16号线'],\n",
       " '万泉河桥站': ['北京地铁16号线'],\n",
       " '宛平站': ['北京地铁16号线'],\n",
       " '丰益桥南站': ['北京地铁16号线', '北京地铁房山线'],\n",
       " '宛平城站': ['北京地铁16号线'],\n",
       " '看丹站': ['北京地铁16号线'],\n",
       " '永丰站': ['北京地铁16号线'],\n",
       " '永丰南站': ['北京地铁16号线'],\n",
       " '达官营站': ['北京地铁16号线', '北京地铁7号线'],\n",
       " '榆树庄站': ['北京地铁16号线'],\n",
       " '甘家口站': ['北京地铁16号线'],\n",
       " '国家图书馆站': ['北京地铁16号线', '北京地铁4号线', '北京地铁9号线'],\n",
       " '温阳路站': ['北京地铁16号线'],\n",
       " '北安河站': ['北京地铁16号线'],\n",
       " '富丰桥站': ['北京地铁16号线'],\n",
       " '丽泽商务区站': ['北京地铁16号线', '北京地铁14号线'],\n",
       " '丰台南路站': ['北京地铁16号线', '北京地铁9号线'],\n",
       " '万寿寺站': ['北京地铁16号线'],\n",
       " '屯佃站': ['北京地铁16号线'],\n",
       " '红莲南里站': ['北京地铁16号线'],\n",
       " '马连洼站': ['北京地铁16号线'],\n",
       " '小红门站': ['北京地铁亦庄线'],\n",
       " '次渠南站': ['北京地铁亦庄线'],\n",
       " '车站': ['北京地铁亦庄线'],\n",
       " '肖村站': ['北京地铁亦庄线'],\n",
       " '旧宫站': ['北京地铁亦庄线'],\n",
       " '亦庄火车站': ['北京地铁亦庄线'],\n",
       " '荣昌东街站': ['北京地铁亦庄线'],\n",
       " '亦庄文化园站': ['北京地铁亦庄线'],\n",
       " '经海路站': ['北京地铁亦庄线'],\n",
       " '次渠站': ['北京地铁亦庄线'],\n",
       " '同济南路站': ['北京地铁亦庄线'],\n",
       " '万源街站': ['北京地铁亦庄线'],\n",
       " '亦庄桥站': ['北京地铁亦庄线'],\n",
       " '荣京东街站': ['北京地铁亦庄线'],\n",
       " '大钟寺站': ['北京地铁13号线'],\n",
       " '柳芳站': ['北京地铁13号线'],\n",
       " '光熙门站': ['北京地铁13号线'],\n",
       " '上地站': ['北京地铁13号线'],\n",
       " '回龙观站': ['北京地铁13号线'],\n",
       " '立水桥站': ['北京地铁13号线', '北京地铁5号线'],\n",
       " '北苑站': ['北京地铁13号线'],\n",
       " '五道口站': ['北京地铁13号线'],\n",
       " '清华东站': ['北京地铁13号线'],\n",
       " '龙泽站': ['北京地铁13号线'],\n",
       " '阜通站': ['北京地铁14号线'],\n",
       " '善各庄站': ['北京地铁14号线'],\n",
       " '七里庄站': ['北京地铁14号线', '北京地铁9号线'],\n",
       " '望京南站': ['北京地铁14号线'],\n",
       " '东湖渠站': ['北京地铁14号线'],\n",
       " '方庄站': ['北京地铁14号线'],\n",
       " '园博园站': ['北京地铁14号线'],\n",
       " '北工大西门站': ['北京地铁14号线'],\n",
       " '大瓦窑站': ['北京地铁14号线'],\n",
       " '西铁营站': ['北京地铁14号线'],\n",
       " '东风北桥站': ['北京地铁14号线'],\n",
       " '景风门站': ['北京地铁14号线'],\n",
       " '将台站': ['北京地铁14号线'],\n",
       " '陶然桥站': ['北京地铁14号线'],\n",
       " '来广营站': ['北京地铁14号线'],\n",
       " '景泰站': ['北京地铁14号线'],\n",
       " '平乐园站': ['北京地铁14号线'],\n",
       " '枣营站': ['北京地铁14号线'],\n",
       " '蒲黄榆站': ['北京地铁14号线', '北京地铁5号线'],\n",
       " '郭庄子站': ['北京地铁14号线'],\n",
       " '菜户营站': ['北京地铁14号线'],\n",
       " '大井站': ['北京地铁14号线'],\n",
       " '九龙山站': ['北京地铁14号线', '北京地铁7号线'],\n",
       " '东管头站': ['北京地铁14号线'],\n",
       " '高家园站': ['北京地铁14号线'],\n",
       " '北京南站': ['北京地铁14号线', '北京地铁4号线'],\n",
       " '朝阳公园站': ['北京地铁14号线'],\n",
       " '广渠门外站': ['北京地铁7号线'],\n",
       " '欢乐谷景区站': ['北京地铁7号线'],\n",
       " '环球影城站': ['北京地铁7号线', '北京地铁八通线'],\n",
       " '豆各庄站': ['北京地铁7号线'],\n",
       " '焦化厂站': ['北京地铁7号线'],\n",
       " '化工站': ['北京地铁7号线'],\n",
       " '磁器口站': ['北京地铁7号线', '北京地铁5号线'],\n",
       " '大郊亭站': ['北京地铁7号线'],\n",
       " '西客站': ['北京地铁7号线'],\n",
       " '云景东路站': ['北京地铁7号线'],\n",
       " '湾子站': ['北京地铁7号线'],\n",
       " '百子湾站': ['北京地铁7号线'],\n",
       " '桥湾站': ['北京地铁7号线'],\n",
       " '万盛南街西口站': ['北京地铁7号线'],\n",
       " '高楼金站': ['北京地铁7号线'],\n",
       " '双合站': ['北京地铁7号线'],\n",
       " '广渠门内站': ['北京地铁7号线'],\n",
       " '小马庄站': ['北京地铁7号线'],\n",
       " '虎坊桥站': ['北京地铁7号线'],\n",
       " '黑庄户站': ['北京地铁7号线'],\n",
       " '广安门内站': ['北京地铁7号线'],\n",
       " '南楼梓庄站': ['北京地铁7号线'],\n",
       " '黄厂村站': ['北京地铁7号线'],\n",
       " '北京西站': ['北京地铁7号线', '北京地铁9号线'],\n",
       " '垡头站': ['北京地铁7号线'],\n",
       " '牛街站': ['北京地铁7号线'],\n",
       " '菜市口站': ['北京地铁7号线', '北京地铁4号线'],\n",
       " '广安门站': ['北京地铁7号线'],\n",
       " '阜成门站': ['北京地铁2号线'],\n",
       " '宣武门站': ['北京地铁2号线', '北京地铁4号线'],\n",
       " '崇文门站': ['北京地铁2号线', '北京地铁5号线'],\n",
       " '和平门站': ['北京地铁2号线'],\n",
       " '东四十条站': ['北京地铁2号线'],\n",
       " '老城区站': ['北京地铁燕房线'],\n",
       " '房山城关站': ['北京地铁燕房线'],\n",
       " '阎村东站': ['北京地铁燕房线', '北京地铁房山线'],\n",
       " '星城站': ['北京地铁燕房线'],\n",
       " '饶乐府站': ['北京地铁燕房线'],\n",
       " '紫草坞站': ['北京地铁燕房线'],\n",
       " '燕山站': ['北京地铁燕房线'],\n",
       " '阎村站': ['北京地铁燕房线'],\n",
       " '马各庄站': ['北京地铁燕房线'],\n",
       " '大石河东站': ['北京地铁燕房线'],\n",
       " '顾册站': ['北京地铁燕房线'],\n",
       " '魏公村站': ['北京地铁4号线'],\n",
       " '动物园站': ['北京地铁4号线'],\n",
       " '北宫门站': ['北京地铁4号线'],\n",
       " '中关村站': ['北京地铁4号线'],\n",
       " '人民大学站': ['北京地铁4号线'],\n",
       " '灵境胡同站': ['北京地铁4号线'],\n",
       " '马家堡站': ['北京地铁4号线'],\n",
       " '陶然亭站': ['北京地铁4号线'],\n",
       " '公益西桥站': ['北京地铁4号线'],\n",
       " '新街口站': ['北京地铁4号线'],\n",
       " '北京大学东门站': ['北京地铁4号线'],\n",
       " '安河桥北站': ['北京地铁4号线'],\n",
       " '西四站': ['北京地铁4号线'],\n",
       " '大葆台站': ['北京地铁房山线'],\n",
       " '苏庄站': ['北京地铁房山线'],\n",
       " '良乡大学城北站': ['北京地铁房山线'],\n",
       " '篱笆房站': ['北京地铁房山线'],\n",
       " '长阳站': ['北京地铁房山线'],\n",
       " '良乡南关站': ['北京地铁房山线'],\n",
       " '郭公庄站': ['北京地铁房山线', '北京地铁9号线'],\n",
       " '稻田站': ['北京地铁房山线'],\n",
       " '广阳城站': ['北京地铁房山线'],\n",
       " '良乡大学城西站': ['北京地铁房山线'],\n",
       " '新宫站': ['北京地铁房山线'],\n",
       " '良乡大学城站': ['北京地铁房山线'],\n",
       " '上岸站': ['北京地铁S1线'],\n",
       " '小园站': ['北京地铁S1线'],\n",
       " '桥户营站': ['北京地铁S1线'],\n",
       " '四道桥站': ['北京地铁S1线'],\n",
       " '栗园庄站': ['北京地铁S1线'],\n",
       " '石厂站': ['北京地铁S1线'],\n",
       " '天坛东门站': ['北京地铁5号线'],\n",
       " '天通苑北站': ['北京地铁5号线'],\n",
       " '马坊站': ['北京地铁5号线'],\n",
       " '北新桥站': ['北京地铁5号线'],\n",
       " '立水桥南站': ['北京地铁5号线'],\n",
       " '惠新西街北口站': ['北京地铁5号线'],\n",
       " '灯市口站': ['北京地铁5号线'],\n",
       " '平坊站': ['北京地铁5号线'],\n",
       " '刘家窑站': ['北京地铁5号线'],\n",
       " '天通苑站': ['北京地铁5号线'],\n",
       " '北苑路北站': ['北京地铁5号线'],\n",
       " '和平西桥站': ['北京地铁5号线'],\n",
       " '和平里北街站': ['北京地铁5号线'],\n",
       " '张自忠路站': ['北京地铁5号线'],\n",
       " '天通苑南站': ['北京地铁5号线'],\n",
       " '岛式车站': ['北京地铁昌平线'],\n",
       " '沙河站': ['北京地铁昌平线'],\n",
       " '昌平站': ['北京地铁昌平线'],\n",
       " '十三陵景区站': ['北京地铁昌平线'],\n",
       " '北邵洼站': ['北京地铁昌平线'],\n",
       " '巩华城站': ['北京地铁昌平线'],\n",
       " '南邵站': ['北京地铁昌平线'],\n",
       " '昌平东关站': ['北京地铁昌平线'],\n",
       " '沙河高教园站': ['北京地铁昌平线'],\n",
       " '昌平北站': ['北京地铁昌平线'],\n",
       " '生命科学园站': ['北京地铁昌平线'],\n",
       " '昌平西山口站': ['北京地铁昌平线'],\n",
       " '科怡路站': ['北京地铁9号线'],\n",
       " '丰台科技园站': ['北京地铁9号线'],\n",
       " '丰台东大街站': ['北京地铁9号线'],\n",
       " '白堆子站': ['北京地铁9号线'],\n",
       " '六里桥东站': ['北京地铁9号线']}"
      ]
     },
     "execution_count": 418,
     "metadata": {},
     "output_type": "execute_result"
    }
   ],
   "source": [
    "station_lines"
   ]
  },
  {
   "cell_type": "code",
   "execution_count": 419,
   "metadata": {},
   "outputs": [],
   "source": [
    "station_stations = {}\n",
    "for station, lines in station_lines.items():\n",
    "    stations = []\n",
    "    for line in lines:\n",
    "        stations += lines_stations[line]\n",
    "    p = set(stations)\n",
    "    p.remove(station)\n",
    "    station_stations[station] = list(p)"
   ]
  },
  {
   "cell_type": "code",
   "execution_count": null,
   "metadata": {},
   "outputs": [],
   "source": [
    "station_lines['首经贸站'], lines_stations['北京地铁房山线'], lines_stations['北京地铁房山线']"
   ]
  },
  {
   "cell_type": "code",
   "execution_count": 420,
   "metadata": {},
   "outputs": [],
   "source": [
    "from collections import defaultdict\n",
    "station_connection = defaultdict(list)"
   ]
  },
  {
   "cell_type": "code",
   "execution_count": 421,
   "metadata": {},
   "outputs": [],
   "source": [
    "station_connection.update(station_stations)"
   ]
  },
  {
   "cell_type": "code",
   "execution_count": 422,
   "metadata": {},
   "outputs": [],
   "source": [
    "def search(start, destination, connection_grpah):\n",
    "    pathes = [[start]]\n",
    "    \n",
    "    visitied = set()\n",
    "    \n",
    "    while pathes: # if we find existing pathes\n",
    "        path = pathes.pop(0)\n",
    "        froninter = path[-1]\n",
    "        \n",
    "        if froninter in visitied: continue\n",
    "            \n",
    "        successors = connection_grpah[froninter]\n",
    "        \n",
    "        for city in successors:\n",
    "            if city in path: continue  # eliminate loop\n",
    "                \n",
    "            new_path = path + [city]\n",
    "            \n",
    "            pathes.append(new_path)\n",
    "            #print(new_path)\n",
    "            \n",
    "            if city == destination: return new_path\n",
    "        \n",
    "        visitied.add(froninter)\n",
    "        \n",
    "        #pathes = sort_candidate(pathes) # 我们可以加一个排序函数 对我们的搜索策略进行控制"
   ]
  },
  {
   "cell_type": "code",
   "execution_count": 423,
   "metadata": {},
   "outputs": [
    {
     "name": "stdout",
     "output_type": "stream",
     "text": [
      "['亦庄火车站', '宋家庄站', '首经贸站', '苏庄站']\n"
     ]
    }
   ],
   "source": [
    "print(search('亦庄火车站','苏庄站',station_connection))"
   ]
  },
  {
   "cell_type": "code",
   "execution_count": 424,
   "metadata": {},
   "outputs": [
    {
     "name": "stdout",
     "output_type": "stream",
     "text": [
      "['北沙滩站', '大屯路东站', '宋家庄站', '亦庄火车站']\n"
     ]
    }
   ],
   "source": [
    "print(search('北沙滩站','亦庄火车站',station_connection))"
   ]
  },
  {
   "cell_type": "markdown",
   "metadata": {},
   "source": [
    "##### 3. Build the search agent\n",
    "\n",
    "> Build the search agent based on the graph we build.\n",
    "\n",
    "for example, when you run: \n",
    "\n",
    "```python\n",
    ">>> search('奥体中心', '天安门') \n",
    "```\n",
    "you need get the result: \n",
    "\n",
    "奥体中心-> A -> B -> C -> ... -> 天安门\n",
    "\n"
   ]
  },
  {
   "cell_type": "markdown",
   "metadata": {},
   "source": [
    "## （Optional）Create different policies for transfer system.\n"
   ]
  },
  {
   "cell_type": "markdown",
   "metadata": {},
   "source": [
    "以下部门为可选部分，请酌情完成。 并不要求全部同学完成。"
   ]
  },
  {
   "cell_type": "markdown",
   "metadata": {},
   "source": [
    "As much as you can to use the already implemented search agent. You just need to define the **is_goal()**, **get_successor()**, **strategy()** three functions. \n",
    "\n",
    "> a.\tDefine different policies for transfer system. \n",
    "\n",
    "> b.\tSuch as Shortest Path Priority（路程最短优先）, Minimum Transfer Priority(最少换乘优先), Comprehensive Priority(综合优先)\n",
    "\n",
    "> c.\tImplement Continuous transfer. Based on the Agent you implemented, please add this feature: Besides the @param start and @param destination two stations, add some more stations, we called @param by_way, it means, our path should from the start and end, but also include the  @param by_way stations. \n",
    "\n",
    "e.g \n",
    "```\n",
    "1. Input:  start=A,  destination=B, by_way=[C] \n",
    "    Output: [A, … .., C, …. B]\n",
    "2. Input: start=A, destination=B, by_way=[C, D, E]\n",
    "    Output: [A … C … E … D … B]  \n",
    "    # based on your policy, the E station could be reached firstly. \n",
    "![image.png](attachment:image.png)\n",
    "```"
   ]
  },
  {
   "cell_type": "markdown",
   "metadata": {},
   "source": [
    "##### 5.\tTest your result with commercial applications. \n",
    "\n",
    "将你的结果和高德地图或者百度地图进行比较，如果有不同，请分析原因\n"
   ]
  },
  {
   "cell_type": "markdown",
   "metadata": {},
   "source": [
    "恭喜，完成本次课程，你对常用的人工智能方法以及有一定的了解了。基于规则的，基于概率模型的，基于搜索的，基于机器学习的。 可以说，我们现在通常见到的方法都能够归属到这几类方法中。 这就是**人工智能**，并没有很难是吧？ 继续加油！"
   ]
  },
  {
   "cell_type": "markdown",
   "metadata": {},
   "source": [
    "![](https://timgsa.baidu.com/timg?image&quality=80&size=b9999_10000&sec=1562415163815&di=4b29a2a863a8285212033760f288ed7a&imgtype=0&src=http%3A%2F%2F5b0988e595225.cdn.sohucs.com%2Fimages%2F20180710%2F8704194a1d7f46a383ddc29d40c9bca5.jpeg)"
   ]
  }
 ],
 "metadata": {
  "kernelspec": {
   "display_name": "Python 3",
   "language": "python",
   "name": "python3"
  },
  "language_info": {
   "codemirror_mode": {
    "name": "ipython",
    "version": 3
   },
   "file_extension": ".py",
   "mimetype": "text/x-python",
   "name": "python",
   "nbconvert_exporter": "python",
   "pygments_lexer": "ipython3",
   "version": "3.7.3"
  }
 },
 "nbformat": 4,
 "nbformat_minor": 2
}
