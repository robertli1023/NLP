{
 "cells": [
  {
   "cell_type": "markdown",
   "metadata": {},
   "source": [
    "## search Tree -> similar word"
   ]
  },
  {
   "cell_type": "code",
   "execution_count": 1,
   "metadata": {},
   "outputs": [],
   "source": [
    "csv_file = \"sqlResult_1558435.csv\""
   ]
  },
  {
   "cell_type": "code",
   "execution_count": 2,
   "metadata": {},
   "outputs": [],
   "source": [
    "import pandas as pd"
   ]
  },
  {
   "cell_type": "code",
   "execution_count": 3,
   "metadata": {},
   "outputs": [],
   "source": [
    "content = pd.read_csv(csv_file, encoding=\"gb18030\")"
   ]
  },
  {
   "cell_type": "code",
   "execution_count": 4,
   "metadata": {},
   "outputs": [],
   "source": [
    "content = content.fillna('')  #replace NAN with \"\""
   ]
  },
  {
   "cell_type": "code",
   "execution_count": 5,
   "metadata": {},
   "outputs": [],
   "source": [
    "news_content = content['content'].tolist()"
   ]
  },
  {
   "cell_type": "code",
   "execution_count": 6,
   "metadata": {},
   "outputs": [],
   "source": [
    "import jieba"
   ]
  },
  {
   "cell_type": "code",
   "execution_count": 7,
   "metadata": {},
   "outputs": [],
   "source": [
    "def cut(string): return ' '.join(jieba.cut(string))"
   ]
  },
  {
   "cell_type": "code",
   "execution_count": 17,
   "metadata": {},
   "outputs": [
    {
     "name": "stderr",
     "output_type": "stream",
     "text": [
      "Building prefix dict from the default dictionary ...\n",
      "Loading model from cache C:\\Users\\WATERD~1\\AppData\\Local\\Temp\\jieba.cache\n",
      "Loading model cost 1.182 seconds.\n",
      "Prefix dict has been built succesfully.\n"
     ]
    },
    {
     "data": {
      "text/plain": [
       "'这是 一个 测试'"
      ]
     },
     "execution_count": 17,
     "metadata": {},
     "output_type": "execute_result"
    }
   ],
   "source": [
    "cut('这是一个测试')"
   ]
  },
  {
   "cell_type": "code",
   "execution_count": 8,
   "metadata": {},
   "outputs": [],
   "source": [
    "import re"
   ]
  },
  {
   "cell_type": "code",
   "execution_count": 9,
   "metadata": {},
   "outputs": [],
   "source": [
    "def token(string):\n",
    "    return re.findall(r'[\\d|\\w]+', string)"
   ]
  },
  {
   "cell_type": "code",
   "execution_count": 10,
   "metadata": {},
   "outputs": [
    {
     "data": {
      "text/plain": [
       "['挺合适12', '3你好']"
      ]
     },
     "execution_count": 10,
     "metadata": {},
     "output_type": "execute_result"
    }
   ],
   "source": [
    "token('挺合适12\\n3你好\\n\\r\\t')"
   ]
  },
  {
   "cell_type": "code",
   "execution_count": 11,
   "metadata": {},
   "outputs": [],
   "source": [
    "news_content = [token(n) for n in news_content]"
   ]
  },
  {
   "cell_type": "code",
   "execution_count": 12,
   "metadata": {},
   "outputs": [],
   "source": [
    "news_content = [' '.join(n) for n in news_content]"
   ]
  },
  {
   "cell_type": "code",
   "execution_count": 13,
   "metadata": {},
   "outputs": [
    {
     "name": "stderr",
     "output_type": "stream",
     "text": [
      "Building prefix dict from the default dictionary ...\n",
      "Loading model from cache C:\\Users\\WATERD~1\\AppData\\Local\\Temp\\jieba.cache\n",
      "Loading model cost 1.734 seconds.\n",
      "Prefix dict has been built succesfully.\n"
     ]
    }
   ],
   "source": [
    "news_content = [cut(n) for n in news_content]"
   ]
  },
  {
   "cell_type": "code",
   "execution_count": 14,
   "metadata": {},
   "outputs": [
    {
     "data": {
      "text/plain": [
       "'骁龙 835 作为 唯一 通过 Windows   10 桌面 平台 认证 的 ARM 处理器   高通 强调   不会 因为 只 考虑 性能 而 去 屏蔽掉 小 核心   相反   他们 正 联手 微软   找到 一种 适合 桌面 平台 的   兼顾 性能 和 功耗 的 完美 方案   报道 称   微软 已经 拿到 了 一些 新 的 源码   以便 Windows   10 更好 地 理解 big   little 架构   资料 显示   骁龙 835 作为 一款 集成 了 CPU   GPU   基带   蓝牙   Wi   Fi 的 SoC   比 传统 的 Wintel 方案 可以 节省 至少 30   的 PCB 空间   按计划   今年 Q4   华硕   惠普   联想 将 首发 骁龙 835   Win10 电脑   预计 均 是 二合一 形态 的 产品   当然   高通 骁龙 只是 个 开始   未来 也许 还 能 见到 三星 Exynos   联发科   华为 麒麟   小米 澎湃 等 进入 Windows   10 桌面 平台'"
      ]
     },
     "execution_count": 14,
     "metadata": {},
     "output_type": "execute_result"
    }
   ],
   "source": [
    "news_content[1]"
   ]
  },
  {
   "cell_type": "code",
   "execution_count": 15,
   "metadata": {},
   "outputs": [],
   "source": [
    "with open('news-sentences-cut.txt','w') as f:\n",
    "    for n in news_content:\n",
    "        f.write(n + '\\n')"
   ]
  },
  {
   "cell_type": "code",
   "execution_count": 2,
   "metadata": {},
   "outputs": [
    {
     "name": "stderr",
     "output_type": "stream",
     "text": [
      "C:\\Users\\WATERDROP\\Anaconda3\\lib\\site-packages\\gensim\\utils.py:1197: UserWarning: detected Windows; aliasing chunkize to chunkize_serial\n",
      "  warnings.warn(\"detected Windows; aliasing chunkize to chunkize_serial\")\n",
      "2019-11-09 10:02:44,513:INFO:'pattern' package not found; tag filters are not available for English\n"
     ]
    }
   ],
   "source": [
    "from gensim.models import Word2Vec"
   ]
  },
  {
   "cell_type": "code",
   "execution_count": 3,
   "metadata": {},
   "outputs": [],
   "source": [
    "from gensim.models.word2vec import LineSentence"
   ]
  },
  {
   "cell_type": "code",
   "execution_count": 18,
   "metadata": {},
   "outputs": [],
   "source": [
    "LineSentence?"
   ]
  },
  {
   "cell_type": "code",
   "execution_count": 38,
   "metadata": {},
   "outputs": [],
   "source": [
    "news_word2ve = Word2Vec(LineSentence('news-sentences-cut.txt'), size=35, workers=8)"
   ]
  },
  {
   "cell_type": "code",
   "execution_count": 41,
   "metadata": {},
   "outputs": [],
   "source": [
    "news_word2ve.save('news_w2v.model')"
   ]
  },
  {
   "cell_type": "code",
   "execution_count": 4,
   "metadata": {},
   "outputs": [
    {
     "name": "stderr",
     "output_type": "stream",
     "text": [
      "2019-11-09 10:02:48,066:INFO:loading Word2Vec object from news_w2v.model\n",
      "C:\\Users\\WATERDROP\\Anaconda3\\lib\\site-packages\\smart_open\\smart_open_lib.py:398: UserWarning: This function is deprecated, use smart_open.open instead. See the migration notes for details: https://github.com/RaRe-Technologies/smart_open/blob/master/README.rst#migrating-to-the-new-open-function\n",
      "  'See the migration notes for details: %s' % _MIGRATION_NOTES_URL\n",
      "2019-11-09 10:02:48,648:INFO:loading wv recursively from news_w2v.model.wv.* with mmap=None\n",
      "2019-11-09 10:02:48,648:INFO:setting ignored attribute vectors_norm to None\n",
      "2019-11-09 10:02:48,648:INFO:loading vocabulary recursively from news_w2v.model.vocabulary.* with mmap=None\n",
      "2019-11-09 10:02:48,648:INFO:loading trainables recursively from news_w2v.model.trainables.* with mmap=None\n",
      "2019-11-09 10:02:48,648:INFO:setting ignored attribute cum_table to None\n",
      "2019-11-09 10:02:48,664:INFO:loaded news_w2v.model\n"
     ]
    }
   ],
   "source": [
    "import logging\n",
    "logging.basicConfig(format=\"%(asctime)s:%(levelname)s:%(message)s\",level=logging.INFO)\n",
    "model = Word2Vec.load('news_w2v.model')"
   ]
  },
  {
   "cell_type": "code",
   "execution_count": 5,
   "metadata": {},
   "outputs": [],
   "source": [
    "model_wv = model.wv"
   ]
  },
  {
   "cell_type": "code",
   "execution_count": 6,
   "metadata": {},
   "outputs": [
    {
     "name": "stderr",
     "output_type": "stream",
     "text": [
      "2019-11-09 10:02:53,494:INFO:precomputing L2-norms of word weight vectors\n"
     ]
    },
    {
     "data": {
      "text/plain": [
       "[('瑞士', 0.8288657069206238),\n",
       " ('葡萄牙', 0.8240597248077393),\n",
       " ('奥地利', 0.8215550184249878),\n",
       " ('法国', 0.7847974300384521),\n",
       " ('苏格兰', 0.7693568468093872),\n",
       " ('意大利', 0.7653310298919678),\n",
       " ('丹麦', 0.7613569498062134),\n",
       " ('比利时', 0.7561818361282349),\n",
       " ('德国', 0.7513166666030884),\n",
       " ('索', 0.7488058805465698),\n",
       " ('加拿大', 0.7437841892242432),\n",
       " ('乌克兰', 0.7390468716621399),\n",
       " ('乌拉圭', 0.737348198890686),\n",
       " ('秘鲁', 0.7346332669258118),\n",
       " ('瑞典', 0.7110278606414795),\n",
       " ('捷克', 0.7094723582267761),\n",
       " ('比什凯克', 0.7080559730529785),\n",
       " ('阿根廷', 0.7049964666366577),\n",
       " ('爱尔兰', 0.7005467414855957),\n",
       " ('墨西哥', 0.6978057622909546)]"
      ]
     },
     "execution_count": 6,
     "metadata": {},
     "output_type": "execute_result"
    }
   ],
   "source": [
    "model_wv.most_similar(\"西班牙\",topn=20)"
   ]
  },
  {
   "cell_type": "code",
   "execution_count": null,
   "metadata": {
    "scrolled": true
   },
   "outputs": [],
   "source": []
  },
  {
   "cell_type": "markdown",
   "metadata": {},
   "source": [
    "## More Data , Better Result"
   ]
  },
  {
   "cell_type": "code",
   "execution_count": 8,
   "metadata": {},
   "outputs": [],
   "source": [
    "from collections import defaultdict"
   ]
  },
  {
   "cell_type": "code",
   "execution_count": 9,
   "metadata": {},
   "outputs": [
    {
     "data": {
      "text/plain": [
       "[('表示', 0.898147463798523),\n",
       " ('认为', 0.8717833757400513),\n",
       " ('指出', 0.850090742111206),\n",
       " ('坦言', 0.8084564208984375),\n",
       " ('看来', 0.7897093296051025),\n",
       " ('告诉', 0.7845112085342407),\n",
       " ('介绍', 0.7789624929428101),\n",
       " ('称', 0.7621525526046753),\n",
       " ('明说', 0.7503238916397095),\n",
       " ('透露', 0.740638256072998)]"
      ]
     },
     "execution_count": 9,
     "metadata": {},
     "output_type": "execute_result"
    }
   ],
   "source": [
    "model_wv.most_similar('说', topn=10)"
   ]
  },
  {
   "cell_type": "code",
   "execution_count": 10,
   "metadata": {},
   "outputs": [],
   "source": [
    "def get_related_words(initial_words, model):\n",
    "    \"\"\"\n",
    "    @initial_words are initial words we already know. is a list input\n",
    "    @model is the word2vec model\n",
    "    \"\"\"\n",
    "    unseen = initial_words\n",
    "    \n",
    "    seen = defaultdict(int)\n",
    "    \n",
    "    max_size = 500  # could be greater\n",
    "    \n",
    "    while unseen and len(seen) < max_size:\n",
    "        #if len(seen) % 50 == 0: \n",
    "        #    print('seen length : {}'.format(len(seen)))\n",
    "            \n",
    "        #print(unseen)\n",
    "            \n",
    "        node = unseen.pop(0)#类似广度搜索\n",
    "        \n",
    "        new_expanding = [w for w, s in model.most_similar(node, topn=20)]\n",
    "        \n",
    "        unseen += new_expanding\n",
    "        \n",
    "        #if seen['说']== 2:\n",
    "        #    break\n",
    "        \n",
    "        seen[node] += 1\n",
    "        \n",
    "        # optimal: 1. score function could be revised\n",
    "        # optimal: 2. using dymanic programming to reduce computing time\n",
    "    \n",
    "    return seen"
   ]
  },
  {
   "cell_type": "code",
   "execution_count": 11,
   "metadata": {},
   "outputs": [],
   "source": [
    "related_words  = get_related_words(['说', '表示'], model_wv)"
   ]
  },
  {
   "cell_type": "code",
   "execution_count": 12,
   "metadata": {},
   "outputs": [],
   "source": [
    "result_sorted = sorted(related_words.items(), key=lambda x:x[1], reverse=True)"
   ]
  },
  {
   "cell_type": "code",
   "execution_count": 13,
   "metadata": {},
   "outputs": [
    {
     "data": {
      "text/plain": [
       "[('指出', 92),\n",
       " ('说', 86),\n",
       " ('认为', 83),\n",
       " ('表示', 82),\n",
       " ('坦言', 81),\n",
       " ('透露', 62),\n",
       " ('特别强调', 61),\n",
       " ('明说', 53),\n",
       " ('强调', 53),\n",
       " ('称', 50)]"
      ]
     },
     "execution_count": 13,
     "metadata": {},
     "output_type": "execute_result"
    }
   ],
   "source": [
    "result_sorted[:10]"
   ]
  },
  {
   "cell_type": "markdown",
   "metadata": {},
   "source": [
    "## TFIDF Key words"
   ]
  },
  {
   "cell_type": "markdown",
   "metadata": {},
   "source": [
    "Term Frequency: 单词在某个文本中出现的频率\n",
    "Inverse Document Frequency：单词中出现过的文本数量/所有文本数量"
   ]
  },
  {
   "cell_type": "code",
   "execution_count": 14,
   "metadata": {},
   "outputs": [],
   "source": [
    "token_list = []\n",
    "with open(\"news-sentences-cut.txt\", encoding='gbk') as f:\n",
    "    linestr = f.readline()\n",
    "    while linestr != '':\n",
    "        token_list.append(linestr.strip(\"\\n\").split())\n",
    "        linestr = f.readline()"
   ]
  },
  {
   "cell_type": "code",
   "execution_count": 15,
   "metadata": {},
   "outputs": [
    {
     "data": {
      "text/plain": [
       "['此外',\n",
       " '自',\n",
       " '本周',\n",
       " '6',\n",
       " '月',\n",
       " '12',\n",
       " '日',\n",
       " '起',\n",
       " '除',\n",
       " '小米',\n",
       " '手机',\n",
       " '6',\n",
       " '等',\n",
       " '15',\n",
       " '款',\n",
       " '机型',\n",
       " '外',\n",
       " '其余',\n",
       " '机型',\n",
       " '已',\n",
       " '暂停',\n",
       " '更新',\n",
       " '发布',\n",
       " '含',\n",
       " '开发',\n",
       " '版',\n",
       " '体验版',\n",
       " '内测',\n",
       " '稳定版',\n",
       " '暂不受',\n",
       " '影响',\n",
       " '以',\n",
       " '确保',\n",
       " '工程师',\n",
       " '可以',\n",
       " '集中',\n",
       " '全部',\n",
       " '精力',\n",
       " '进行',\n",
       " '系统优化',\n",
       " '工作',\n",
       " '有人',\n",
       " '猜测',\n",
       " '这',\n",
       " '也',\n",
       " '是',\n",
       " '将',\n",
       " '精力',\n",
       " '主要',\n",
       " '用到',\n",
       " 'MIUI',\n",
       " '9',\n",
       " '的',\n",
       " '研发',\n",
       " '之中',\n",
       " 'MIUI',\n",
       " '8',\n",
       " '去年',\n",
       " '5',\n",
       " '月',\n",
       " '发布',\n",
       " '距今已有',\n",
       " '一年',\n",
       " '有余',\n",
       " '也',\n",
       " '是',\n",
       " '时候',\n",
       " '更新换代',\n",
       " '了',\n",
       " '当然',\n",
       " '关于',\n",
       " 'MIUI',\n",
       " '9',\n",
       " '的',\n",
       " '确切',\n",
       " '信息',\n",
       " '我们',\n",
       " '还是',\n",
       " '等待',\n",
       " '官方消息']"
      ]
     },
     "execution_count": 15,
     "metadata": {},
     "output_type": "execute_result"
    }
   ],
   "source": [
    "token_list[0]"
   ]
  },
  {
   "cell_type": "code",
   "execution_count": 16,
   "metadata": {},
   "outputs": [],
   "source": [
    "def document_frequency(word):\n",
    "    # calculate \n",
    "    return sum(1 for linelist in token_list if word in linelist)"
   ]
  },
  {
   "cell_type": "code",
   "execution_count": 17,
   "metadata": {},
   "outputs": [
    {
     "data": {
      "text/plain": [
       "70302"
      ]
     },
     "execution_count": 17,
     "metadata": {},
     "output_type": "execute_result"
    }
   ],
   "source": [
    "document_frequency(\"的\")"
   ]
  },
  {
   "cell_type": "code",
   "execution_count": 18,
   "metadata": {},
   "outputs": [],
   "source": [
    "import math\n",
    "def idf(word):\n",
    "    return math.log10(len(token_list)/(document_frequency(word)+1))"
   ]
  },
  {
   "cell_type": "code",
   "execution_count": 19,
   "metadata": {},
   "outputs": [
    {
     "data": {
      "text/plain": [
       "0.10538746597539916"
      ]
     },
     "execution_count": 19,
     "metadata": {},
     "output_type": "execute_result"
    }
   ],
   "source": [
    "idf('的')"
   ]
  },
  {
   "cell_type": "code",
   "execution_count": 20,
   "metadata": {},
   "outputs": [],
   "source": [
    "def tf(word, document):\n",
    "    \n",
    "    return sum(1 for w in document if word ==w)"
   ]
  },
  {
   "cell_type": "code",
   "execution_count": 21,
   "metadata": {},
   "outputs": [
    {
     "data": {
      "text/plain": [
       "4"
      ]
     },
     "execution_count": 21,
     "metadata": {},
     "output_type": "execute_result"
    }
   ],
   "source": [
    "tf(\"的\",token_list[10])"
   ]
  },
  {
   "cell_type": "code",
   "execution_count": 22,
   "metadata": {},
   "outputs": [],
   "source": [
    "# get all words tf-idf value in a document\n",
    "def get_keywords_of_a_document(document):\n",
    "    words = set(document)\n",
    "    tfidf = [(word, tf(word,document) * idf(word)) for word in words]\n",
    "    tfidf = sorted(tfidf, key=lambda x:x[1], reverse=True)\n",
    "    \n",
    "    return tfidf"
   ]
  },
  {
   "cell_type": "code",
   "execution_count": 23,
   "metadata": {},
   "outputs": [
    {
     "data": {
      "text/plain": [
       "[('叙利亚', 28.329791466015845),\n",
       " ('军方', 10.955927553183711),\n",
       " ('俄罗斯', 9.166508898455875),\n",
       " ('美军', 8.705547970652418),\n",
       " ('袭机', 8.50678263891291),\n",
       " ('惹怒', 7.676835942971274),\n",
       " ('瞄准', 7.4170631425059685),\n",
       " ('备忘录', 7.217455980943028),\n",
       " ('IS', 6.894422690945135),\n",
       " ('暂停', 6.587175646639876)]"
      ]
     },
     "execution_count": 23,
     "metadata": {},
     "output_type": "execute_result"
    }
   ],
   "source": [
    "get_keywords_of_a_document(token_list[20])[:10]"
   ]
  },
  {
   "cell_type": "markdown",
   "metadata": {},
   "source": [
    "## Wordcloud"
   ]
  },
  {
   "cell_type": "code",
   "execution_count": 70,
   "metadata": {},
   "outputs": [],
   "source": [
    "from wordcloud import WordCloud\n",
    "import wordcloud"
   ]
  },
  {
   "cell_type": "code",
   "execution_count": 71,
   "metadata": {},
   "outputs": [
    {
     "name": "stdout",
     "output_type": "stream",
     "text": [
      "1.5.0\n"
     ]
    }
   ],
   "source": [
    "print(wordcloud.__version__)"
   ]
  },
  {
   "cell_type": "code",
   "execution_count": 72,
   "metadata": {},
   "outputs": [],
   "source": [
    "import matplotlib.pyplot as plt"
   ]
  },
  {
   "cell_type": "code",
   "execution_count": 73,
   "metadata": {},
   "outputs": [],
   "source": [
    "%matplotlib inline"
   ]
  },
  {
   "cell_type": "code",
   "execution_count": 74,
   "metadata": {},
   "outputs": [],
   "source": [
    "from PIL import Image\n",
    "import numpy as np"
   ]
  },
  {
   "cell_type": "markdown",
   "metadata": {},
   "source": [
    "## TFDEF Vectorized"
   ]
  },
  {
   "cell_type": "markdown",
   "metadata": {},
   "source": [
    "### use TfidfVectorizer to calculate TFIDF value"
   ]
  },
  {
   "cell_type": "code",
   "execution_count": 24,
   "metadata": {},
   "outputs": [],
   "source": [
    "from sklearn.feature_extraction.text import TfidfVectorizer"
   ]
  },
  {
   "cell_type": "code",
   "execution_count": 25,
   "metadata": {},
   "outputs": [],
   "source": [
    "vectorized = TfidfVectorizer(max_features=10000)"
   ]
  },
  {
   "cell_type": "code",
   "execution_count": 26,
   "metadata": {},
   "outputs": [],
   "source": [
    "sample_num =50000\n",
    "sub_samples = token_list[:sample_num]"
   ]
  },
  {
   "cell_type": "code",
   "execution_count": 27,
   "metadata": {},
   "outputs": [],
   "source": [
    "sub_samples = [' '.join(words) for words in sub_samples]"
   ]
  },
  {
   "cell_type": "code",
   "execution_count": 28,
   "metadata": {},
   "outputs": [
    {
     "data": {
      "text/plain": [
       "'新华社 北京 ５ 月 ４ 日电 题 安检 神器 膜法 净水 手机 智 造 科技 之光 闪耀 一带 一路 n 新华社 记者 n 建设 一带 一路 企业 要 发挥 主体作用 n 鼓励 本国 企业 参与 沿线 国家 基础设施 建设 和 产业 投资 积极 帮助 当地 发展 经济 增加 就业 改善 民生 推动 共建 丝绸之路 经济带 和 ２ １ 世纪 海上 丝绸之路 的 愿景 与 行动 明确指出 n 一带 一路 国际 合作 高峰论坛 召开 前夕 新华社 记者 深入 企业 采访 发现 伴随 某些 高新技术 领域 从 跟 跑 者 向 并 跑 者 甚至 领跑者 转变 越来越 多 的 企业 在 创新 驱动 下正 加快 走 出去 为 这条 互尊 互信 之 路 合作 共赢 之路 文明 互鉴 之路 不断 注入 新 动能 n 小标题 安检 神器 给 大家 一条 放心 的 安全带 n ４ 月底 的 北京 花红柳绿 n 密云 厂区 里 同方 威视 技术 股份 有限公司 的 装卸 师傅 正在 打包 一批 全新 的 安检 仪 一辆辆 近 ２ ０ 米长 的 大 货车 排着 队 准备 装载 各式各样 的 安检 神器 远行 n 这台 车载式 集装箱 检查 系统 马上 就要 运往 墨西哥 车间 内 调试 员 蔡志甫 正 调试 图像 语气 里 透 着 自豪 这辆 车 可 厉害 了 几分钟 内 便 可以 架起 一个 大 拱门 被 检 车辆 穿门而过 整台 车 的 安检 图像 就 显示 在 屏幕 上 我们 还 可以 用 切片 方式 观察 图像 就 像 用 鼠标 直接 打开 被 检 物品 n 记者 了解 到 目前 ２ 万多 套 各式 中国 造 安检 设备 正在 １ ５ ０ 多个 国家 和 地区 运行 为 当地 提供 安全 保障 在 英法 海底隧道 德国 汉堡 等 港口 都 能 看到 中国 神器 的 身影 在 亚美尼亚 泰国 等 国家 的 海关 不仅 装备 了 这些 中国 神器 还 配备 了 全方位 的 安检 解决方案 n 同方 威视 董事长 陈志强 说 密云 生产 基地 刚 建设 时 有人 认为 基地 太大 了 用 不了 而 现在 连 巴西 波兰 都 有 了 工厂 当地 生产 全球 销售 不仅 促进 了 所在国 就业 更 改善 了 当地 民生 小标题 膜法 净水 给 大家 提供 一台 好 的 净水器 n ２ ０ ０ １ 年 ７ 月 一家 叫 碧 水源 的 专注 于 水资源 处理 的 创新型 科技 企业 在 中关村 诞生 n 企业 展厅 内 摆放着 一台 小型 污水处理 系统 系统 内 一根 根 白色 条状 过滤 膜 竖立 像 挂面 一样 格外 醒目 污水池 里 的 污水 经过 这些 过滤 膜过滤 变成 了 清水 可 达到 地表水 Ⅱ 类 标准 n 碧 水源 常务 副总裁 何愿平 说 这些 过滤 膜 表面 细孔 的 孔径 仅为 ０ １ 微米 甚至 １ 纳米 可 对 目标 分离 物 进行 选择性 过滤 n 近年来 伴随 一带 一路 建设 提速 这家 高新 企业 走进 了 巴基斯坦 斯里兰卡 等 国家 n 巴基斯坦 环境 相对 恶劣 我们 希望 未来 能 用 膜技术 取代 传统 供水 方式 以 保障 当地 水源 净化 的 效率 和 质量 何愿平 说 n 在 阿曼 碧 水源 预计 将 投资 １ ５ 亿美元 处理 水污染 当地 油井 出来 的 水 用 膜技术 处理 后 可 达到 灌溉水 要求 n 一带 一路 让 中国 企业 更加 国际化 提供 了 更 多 为 全球 作贡献 的 机会 何愿平 说 过去 我们 更 多 是 把 产品 卖 到 国外 今后 我们 将 更 多 借助 一带 一路 通过 投资 等 形式 与 各国 展开 深度 合作 实现 借船 下海 n 小标题 手机 智 造 助 大家 驶上 网络 快车道 n 手机操作系统 Ｍ Ｉ Ｕ Ｉ 米 柚 是 小米 公司 基于 安卓所 开发 的 手机操作系统 ５ 年 来 尤其 是 一带 一路 建设 ３ 年 多来 安装 有 这 一 系统 的 小米 手机 加速 走进 海外 市场 遍布 １ ５ ６ 个 国家 和 地区 其中 一带 一路 沿线 国家 有 ３ ０ 多个 n 米 柚 官方论坛 上 已有 俄罗斯 泰国 等 ３ ０ 多个 国家 的 粉丝 站点 各国 用户 在 母语 环境 下 就 小米 设备 使用 问题 进行 讨论 n 粉丝 们 来自 俄罗斯 不同 地区 每日 浏览量 约 ７ 万人次 叶夫 根尼 是 小米 设备 的 忠实 发烧友 也 是 小米 Ｍ Ｉ Ｕ Ｉ 俄罗斯 粉丝 论坛 的 创始人 在 他 看来 如果说 许多 中国 制造 过去 被 定义 为 便宜货 那么 现在 至少 在 智能手机 领域 超 高性价比 已 成为 新 标签 受到 不少 国家 人们 的 欢迎 n 来自 印度尼西亚 的 关利花 ２ ０ １ ５ 年 成为 小米 正式 员工 她 的 工作 内容 之一 就是 和 印尼 等 地 的 小米 使用者 进行 网上 互动 工作 起初 涉及 大量 翻译 工作 很多 印尼 的 网友 主动 帮 我们 翻译 还会 给 我们 建议 关利花 说 n 从 ２ ０ １ ７ 年 起 小米 在 印尼 销售 的 手机 产品 将 实现 １ ０ ０ 本地化 从 单纯 商品 贸易 工程 承包 到 转为 投资 印尼 人员培训 与 合作 生产 小米 印尼 制造 将 在 更 高层次 上 实现 互利 共赢 n 一带 一路 播撒 合作 共 赢 的 理念 引导 企业 往 全球 分工 体系 里 最 有 潜力 的 市场 走 落地生根 开花结果 实现 共同 发展 中国人民大学 教授 王义 桅 说 小米 手机 发展 这么 快 其中 一个 重要 原因 就是 走进 去 越来越 多地 欧洲 生产 欧洲 消费 非洲 生产 非洲 消费 抓住 了 一带 一路 机遇 的 要旨 n 科技 创新 是 驱动 发展 的 重要 动力 在 一带 一路 建设 中 具有 先导 作用 中关村 一带 一路 产业 促进会 理事长 张晓东 说 一带 一路 上 的 创新 故事 体现 了 创新 创业者 们 的 担当 展示 了 正在 裂变 的 中国 高科技 企业 为 一带 一路 沿线 国家 所 创造 的 价值 更是 国与国 共建 共赢 共享 的 缩影 n 如今 像 同方 威视 碧 水源 小米 一样 越来越 多 高科技 企业 正 走向世界 成为 一张 张新 的 中国 名片 而 伴随 更 多 中国 智慧 融入 一带 一路 沿线 国家 百姓生活 科技 之光 在 一带 一路 上 正 不断 发出 耀眼 的 光芒 记者 李斌 盖博铭 关桂峰 阳娜 金悦磊 完'"
      ]
     },
     "execution_count": 28,
     "metadata": {},
     "output_type": "execute_result"
    }
   ],
   "source": [
    "sub_samples[49999]"
   ]
  },
  {
   "cell_type": "code",
   "execution_count": 29,
   "metadata": {},
   "outputs": [],
   "source": [
    "X = vectorized.fit_transform(sub_samples)"
   ]
  },
  {
   "cell_type": "markdown",
   "metadata": {},
   "source": [
    "fit:就是求得训练集X的均值，方差，最大值，最小值,这些训练集X固有的属性。\n",
    "transform:在fit的基础上，进行标准化，降维，归一化等操作"
   ]
  },
  {
   "cell_type": "code",
   "execution_count": 30,
   "metadata": {},
   "outputs": [
    {
     "data": {
      "text/plain": [
       "10000"
      ]
     },
     "execution_count": 30,
     "metadata": {},
     "output_type": "execute_result"
    }
   ],
   "source": [
    "len(vectorized.get_feature_names())"
   ]
  },
  {
   "cell_type": "code",
   "execution_count": 31,
   "metadata": {},
   "outputs": [
    {
     "data": {
      "text/plain": [
       "(50000, 10000)"
      ]
     },
     "execution_count": 31,
     "metadata": {},
     "output_type": "execute_result"
    }
   ],
   "source": [
    "X.shape"
   ]
  },
  {
   "cell_type": "code",
   "execution_count": 32,
   "metadata": {},
   "outputs": [
    {
     "data": {
      "text/plain": [
       "array([0.1089218 , 0.11230955, 0.14280663, 0.1082255 , 0.18905831,\n",
       "       0.12707419, 0.13283808, 0.13102822, 0.19464211, 0.12276629,\n",
       "       0.23501678, 0.10547917, 0.24067244, 0.10090281, 0.20284004,\n",
       "       0.14248619, 0.17206486, 0.1170401 , 0.10521072, 0.15756729,\n",
       "       0.14608465, 0.18915149, 0.19431067, 0.15715853, 0.19464211,\n",
       "       0.12786643, 0.21740685, 0.1531887 , 0.14530811, 0.17750239,\n",
       "       0.43301117, 0.12662109, 0.0833864 , 0.14489247])"
      ]
     },
     "execution_count": 32,
     "metadata": {},
     "output_type": "execute_result"
    }
   ],
   "source": [
    "X[0].toarray()[0,[  35,   46,  302,  912,  933, 1546, 1743, 1819, 1844, 2558, 2635,\n",
    "        2734, 3974, 4113, 4132, 4405, 4505, 4525, 4802, 4878, 5628, 5738,\n",
    "        5760, 5808, 5892, 6195, 6880, 7319, 7338, 7607, 7662, 9082, 9141,\n",
    "        9631]]"
   ]
  },
  {
   "cell_type": "code",
   "execution_count": 33,
   "metadata": {},
   "outputs": [],
   "source": [
    "import numpy as np"
   ]
  },
  {
   "cell_type": "code",
   "execution_count": 34,
   "metadata": {},
   "outputs": [
    {
     "data": {
      "text/plain": [
       "(array([0, 0, 0, 0, 0, 0, 0, 0, 0, 0, 0, 0, 0, 0, 0, 0, 0, 0, 0, 0, 0, 0,\n",
       "        0, 0, 0, 0, 0, 0, 0, 0, 0, 0, 0, 0], dtype=int64),\n",
       " array([  35,   46,  302,  912,  933, 1546, 1743, 1819, 1844, 2558, 2635,\n",
       "        2734, 3974, 4113, 4132, 4405, 4505, 4525, 4802, 4878, 5628, 5738,\n",
       "        5760, 5808, 5892, 6195, 6880, 7319, 7338, 7607, 7662, 9082, 9141,\n",
       "        9631], dtype=int64))"
      ]
     },
     "execution_count": 34,
     "metadata": {},
     "output_type": "execute_result"
    }
   ],
   "source": [
    "np.where(X[0].toarray())  #get the positions which values are not zero"
   ]
  },
  {
   "cell_type": "code",
   "execution_count": null,
   "metadata": {},
   "outputs": [],
   "source": []
  },
  {
   "cell_type": "code",
   "execution_count": 36,
   "metadata": {},
   "outputs": [
    {
     "data": {
      "text/plain": [
       "{'此外': 6195,\n",
       " '本周': 5892,\n",
       " '12': 35,\n",
       " '小米': 3974,\n",
       " '手机': 4878,\n",
       " '15': 46,\n",
       " '其余': 1844,\n",
       " '暂停': 5738,\n",
       " '更新': 5760,\n",
       " '发布': 2635,\n",
       " '开发': 4405,\n",
       " '影响': 4525,\n",
       " '确保': 7338,\n",
       " '工程师': 4132,\n",
       " '可以': 2734,\n",
       " '集中': 9631,\n",
       " '全部': 1743,\n",
       " '精力': 7662,\n",
       " '进行': 9141,\n",
       " '工作': 4113,\n",
       " '有人': 5808,\n",
       " '猜测': 6880,\n",
       " '主要': 912,\n",
       " '研发': 7319,\n",
       " '之中': 933,\n",
       " '去年': 2558,\n",
       " '一年': 302,\n",
       " '时候': 5628,\n",
       " '当然': 4505,\n",
       " '关于': 1819,\n",
       " '信息': 1546,\n",
       " '我们': 4802,\n",
       " '还是': 9082,\n",
       " '等待': 7607,\n",
       " '作为': 1440,\n",
       " '唯一': 2966,\n",
       " '通过': 9249,\n",
       " '10': 12,\n",
       " '平台': 4255,\n",
       " '认证': 8554,\n",
       " '处理器': 3331,\n",
       " '强调': 4481,\n",
       " '不会': 551,\n",
       " '因为': 3045,\n",
       " '考虑': 7980,\n",
       " '性能': 4642,\n",
       " '核心': 6069,\n",
       " '相反': 7212,\n",
       " '他们': 1242,\n",
       " '联手': 8020,\n",
       " '微软': 4579,\n",
       " '找到': 4949,\n",
       " '一种': 344,\n",
       " '适合': 9193,\n",
       " '兼顾': 1864,\n",
       " '完美': 3783,\n",
       " '方案': 5537,\n",
       " '报道': 5026,\n",
       " '已经': 4156,\n",
       " '拿到': 5092,\n",
       " '一些': 253,\n",
       " '以便': 1259,\n",
       " '更好': 5757,\n",
       " '理解': 6966,\n",
       " '架构': 6022,\n",
       " '资料': 8791,\n",
       " '显示': 5703,\n",
       " '一款': 332,\n",
       " '集成': 9638,\n",
       " '传统': 1355,\n",
       " '节省': 8201,\n",
       " '至少': 8132,\n",
       " '30': 103,\n",
       " '空间': 7498,\n",
       " '按计划': 5124,\n",
       " '今年': 1217,\n",
       " '联想': 8019,\n",
       " '首发': 9825,\n",
       " '电脑': 7067,\n",
       " '预计': 9745,\n",
       " '形态': 4513,\n",
       " '产品': 1135,\n",
       " '只是': 2728,\n",
       " '开始': 4412,\n",
       " '未来': 5886,\n",
       " '也许': 982,\n",
       " '见到': 8475,\n",
       " '三星': 443,\n",
       " '华为': 2417,\n",
       " '澎湃': 6699,\n",
       " '进入': 9123,\n",
       " '此前': 6193,\n",
       " '搭载': 5252,\n",
       " '电池': 7063,\n",
       " '规格': 8495,\n",
       " '至于': 8129,\n",
       " '可能': 2741,\n",
       " '所说': 4870,\n",
       " '设定': 8585,\n",
       " '有关': 5810,\n",
       " '按照': 5122,\n",
       " '目前': 7188,\n",
       " '掌握': 5160,\n",
       " '拥有': 5083,\n",
       " '摄像头': 5256,\n",
       " '惊喜': 4717,\n",
       " '根据': 6078,\n",
       " '京东': 1144,\n",
       " '泄露': 6406,\n",
       " '售价': 2964,\n",
       " '应该': 4344,\n",
       " '某个': 6025,\n",
       " '这是': 9105,\n",
       " '18': 53,\n",
       " '葡萄牙': 8322,\n",
       " '中部': 858,\n",
       " '地区': 3168,\n",
       " '拍摄': 5064,\n",
       " '森林': 6119,\n",
       " '大火': 3485,\n",
       " '汽车': 6355,\n",
       " '新华社': 5489,\n",
       " '记者': 8569,\n",
       " '标题': 6055,\n",
       " '44': 125,\n",
       " '女子': 3625,\n",
       " '深圳': 6576,\n",
       " '网友': 7888,\n",
       " '暴雨': 5748,\n",
       " '交警': 1120,\n",
       " '昨日': 5694,\n",
       " '清晨': 6604,\n",
       " '发现': 2647,\n",
       " '行走': 8392,\n",
       " '快速': 4622,\n",
       " '期间': 5881,\n",
       " '赶紧': 8852,\n",
       " '一路': 365,\n",
       " '那么': 9299,\n",
       " '事发': 1024,\n",
       " '到底': 2154,\n",
       " '发生': 2649,\n",
       " '什么': 1208,\n",
       " '一起': 364,\n",
       " '还原': 9081,\n",
       " '现场': 6927,\n",
       " '大队': 3517,\n",
       " '中队': 863,\n",
       " '女生': 3631,\n",
       " '一位': 259,\n",
       " '高大': 9919,\n",
       " '说话': 8668,\n",
       " '90': 184,\n",
       " '青年': 9672,\n",
       " '介绍': 1224,\n",
       " '16': 49,\n",
       " '早上': 5617,\n",
       " '36': 113,\n",
       " '正在': 6180,\n",
       " '附近': 9550,\n",
       " '接到': 5177,\n",
       " '机动车': 5928,\n",
       " '危险': 2511,\n",
       " '随后': 9602,\n",
       " '寻找': 3932,\n",
       " '大概': 3476,\n",
       " '大道': 3511,\n",
       " '出口': 1998,\n",
       " '方向': 5535,\n",
       " '身上': 8929,\n",
       " '另外': 2722,\n",
       " '一名': 276,\n",
       " '情绪': 4714,\n",
       " '尝试': 3996,\n",
       " '交流': 1115,\n",
       " '离开': 7403,\n",
       " '愿意': 4764,\n",
       " '接受': 5179,\n",
       " '继续': 7832,\n",
       " '缓慢': 7862,\n",
       " '此时': 6197,\n",
       " '路边': 8918,\n",
       " '聚集': 8034,\n",
       " '市民': 4192,\n",
       " '围观': 3065,\n",
       " '为了': 874,\n",
       " '刺激': 2179,\n",
       " '一边': 370,\n",
       " '群众': 7950,\n",
       " '警方': 8538,\n",
       " '提供': 5215,\n",
       " '一份': 257,\n",
       " '视频': 8509,\n",
       " '了解': 1007,\n",
       " '25': 95,\n",
       " '出现': 2021,\n",
       " '监控': 7165,\n",
       " '穿着': 7502,\n",
       " '白色': 7140,\n",
       " '沿着': 6403,\n",
       " '当时': 4502,\n",
       " '正值': 6179,\n",
       " '上班': 495,\n",
       " '高峰期': 9927,\n",
       " '路上': 8911,\n",
       " '纷纷': 7737,\n",
       " '驻足': 9885,\n",
       " '观望': 8485,\n",
       " '不少': 576,\n",
       " '车辆': 8955,\n",
       " '速度': 9253,\n",
       " '脚步': 8077,\n",
       " '依然': 1483,\n",
       " '行进': 8393,\n",
       " '中间': 861,\n",
       " '一辆': 368,\n",
       " '货车': 8755,\n",
       " '镜头': 9454,\n",
       " '但是': 1379,\n",
       " '全身': 1740,\n",
       " '朝着': 5865,\n",
       " '周围': 2907,\n",
       " '没有': 6373,\n",
       " '或者': 4811,\n",
       " '上前': 462,\n",
       " '看到': 7244,\n",
       " '这样': 9107,\n",
       " '情况': 4708,\n",
       " '恐怕': 4678,\n",
       " '大家': 3459,\n",
       " '办法': 2232,\n",
       " '面对': 9693,\n",
       " '这一': 9085,\n",
       " '表示': 8421,\n",
       " '根本': 6079,\n",
       " '不敢': 588,\n",
       " '心里': 4603,\n",
       " '感觉': 4760,\n",
       " '尴尬': 4014,\n",
       " '跟随': 8905,\n",
       " '作出': 1441,\n",
       " '举动': 919,\n",
       " '突然': 7511,\n",
       " '靠近': 9687,\n",
       " '上面': 510,\n",
       " '控制': 5190,\n",
       " '远离': 9146,\n",
       " '衣服': 8404,\n",
       " '只能': 2730,\n",
       " '紧紧': 7691,\n",
       " '一只': 272,\n",
       " '后面': 2867,\n",
       " '耐心': 7989,\n",
       " '安慰': 3766,\n",
       " '听到': 2879,\n",
       " '不断': 589,\n",
       " '重复': 9364,\n",
       " '一句': 271,\n",
       " '要是': 8468,\n",
       " '遭遇': 9288,\n",
       " '不时': 593,\n",
       " '试图': 8626,\n",
       " '大暴雨': 3472,\n",
       " '眼睛': 7270,\n",
       " '瞬间': 7288,\n",
       " '帮助': 4224,\n",
       " '大雨': 3519,\n",
       " '来说': 5995,\n",
       " '回家': 3029,\n",
       " '然后': 6774,\n",
       " '照片': 6781,\n",
       " '旁边': 5546,\n",
       " '场景': 3196,\n",
       " '下来': 525,\n",
       " '带到': 4212,\n",
       " '派出所': 6470,\n",
       " '姑娘': 3669,\n",
       " '什么样': 1209,\n",
       " '事情': 1029,\n",
       " '透露': 9219,\n",
       " '湖北': 6645,\n",
       " '家属': 3883,\n",
       " '反映': 2615,\n",
       " '三天': 437,\n",
       " '陈某': 9557,\n",
       " '老家': 7963,\n",
       " '导致': 3939,\n",
       " '异常': 4441,\n",
       " '产生': 1139,\n",
       " '送往': 9191,\n",
       " '医院': 2382,\n",
       " '治疗': 6400,\n",
       " '大大': 3452,\n",
       " '希望': 4207,\n",
       " '康复': 4363,\n",
       " '其实': 1846,\n",
       " '到来': 2156,\n",
       " '存在': 3707,\n",
       " '年龄': 4296,\n",
       " '限制': 9577,\n",
       " '你们': 1451,\n",
       " '原因': 2542,\n",
       " '这个': 9086,\n",
       " '哥哥': 2953,\n",
       " '一辈子': 369,\n",
       " '自己': 8099,\n",
       " '家人': 3878,\n",
       " '同时': 2831,\n",
       " '感谢': 4761,\n",
       " '聆听': 7996,\n",
       " '心灵': 4598,\n",
       " '点赞': 6745,\n",
       " '警察': 8534,\n",
       " '就是': 4005,\n",
       " '男子': 7080,\n",
       " '20': 64,\n",
       " '50': 132,\n",
       " '上午': 464,\n",
       " '公安局': 1771,\n",
       " '一个': 247,\n",
       " '报警': 5025,\n",
       " '电话': 7072,\n",
       " '声称': 3321,\n",
       " '遭到': 9286,\n",
       " '侵害': 1492,\n",
       " '几个': 1975,\n",
       " '关键词': 1834,\n",
       " '民警': 6287,\n",
       " '紧张': 7688,\n",
       " '起来': 8855,\n",
       " '受到': 2677,\n",
       " 'a股': 198,\n",
       " '纳入': 7730,\n",
       " 'msci': 219,\n",
       " '指数': 5115,\n",
       " '利好': 2136,\n",
       " '消息': 6544,\n",
       " '市场': 4178,\n",
       " '周三': 2901,\n",
       " '再度': 1884,\n",
       " '上演': 494,\n",
       " '行情': 8383,\n",
       " '周四': 2906,\n",
       " '金融股': 9409,\n",
       " '白马股': 7143,\n",
       " '表现': 8420,\n",
       " '尾盘': 4030,\n",
       " '跳水': 8922,\n",
       " '之后': 940,\n",
       " '金融': 9400,\n",
       " '板块': 6001,\n",
       " '状态': 6865,\n",
       " '分析': 2060,\n",
       " '人士': 1172,\n",
       " '认为': 8548,\n",
       " '受益': 2685,\n",
       " '估值': 1374,\n",
       " '资金': 8803,\n",
       " '青睐': 9679,\n",
       " '存量': 3711,\n",
       " '博弈': 2476,\n",
       " '格局': 6082,\n",
       " '风格': 9784,\n",
       " '震荡': 9662,\n",
       " '延续': 4373,\n",
       " '流动性': 6477,\n",
       " '改善': 5333,\n",
       " '经济': 7779,\n",
       " '预期': 9738,\n",
       " '有助于': 5814,\n",
       " '支撑': 5301,\n",
       " '大盘': 3490,\n",
       " '逐步': 9222,\n",
       " '再现': 1887,\n",
       " '未能': 5889,\n",
       " '上行': 501,\n",
       " '态势': 4629,\n",
       " '两市': 710,\n",
       " '成交': 4777,\n",
       " '小幅': 3964,\n",
       " '放量': 5367,\n",
       " '29': 102,\n",
       " '中信': 757,\n",
       " '一级': 352,\n",
       " '行业': 8375,\n",
       " '收盘': 5320,\n",
       " '银行': 9434,\n",
       " '两个': 688,\n",
       " '分别': 2045,\n",
       " '上涨': 490,\n",
       " '80': 171,\n",
       " '二级': 1048,\n",
       " '来看': 5991,\n",
       " '股份制': 8046,\n",
       " '涨幅': 6563,\n",
       " '最高': 5797,\n",
       " '达到': 9021,\n",
       " '22': 91,\n",
       " '82': 175,\n",
       " '信托': 1552,\n",
       " '及其': 2586,\n",
       " '64': 152,\n",
       " '保险': 1536,\n",
       " '34': 109,\n",
       " '证券': 8598,\n",
       " '06': 8,\n",
       " '成分股': 4783,\n",
       " '共有': 1814,\n",
       " '21': 90,\n",
       " '其中': 1841,\n",
       " '最大': 5785,\n",
       " '66': 154,\n",
       " '贵阳': 8783,\n",
       " '65': 153,\n",
       " '超过': 8873,\n",
       " '17': 51,\n",
       " '个股': 749,\n",
       " '中国': 771,\n",
       " '居前': 4042,\n",
       " '两名': 696,\n",
       " '57': 141,\n",
       " '04': 6,\n",
       " '新华': 5488,\n",
       " '券商': 2178,\n",
       " '下跌': 537,\n",
       " '近期': 9073,\n",
       " '宣布': 3868,\n",
       " '2018': 84,\n",
       " '新兴': 5483,\n",
       " '群体': 7951,\n",
       " '团队': 3055,\n",
       " '指出': 5104,\n",
       " '最新': 5790,\n",
       " '包含': 2322,\n",
       " '222': 92,\n",
       " '市值': 4175,\n",
       " '互联互通': 1065,\n",
       " '交易': 1106,\n",
       " '股票': 8051,\n",
       " '以及': 1264,\n",
       " '停牌': 1611,\n",
       " '标的': 6051,\n",
       " '由于': 7033,\n",
       " '很多': 4546,\n",
       " '权重': 5947,\n",
       " '上升': 463,\n",
       " '73': 163,\n",
       " '40': 119,\n",
       " '11': 24,\n",
       " '消费': 6547,\n",
       " '24': 94,\n",
       " '26': 98,\n",
       " '涵盖': 6564,\n",
       " '大部分': 3513,\n",
       " '动态': 2278,\n",
       " '加入': 2243,\n",
       " '增加': 3294,\n",
       " '其他': 1842,\n",
       " '尽管': 4028,\n",
       " '事件': 1018,\n",
       " '短期': 7300,\n",
       " '有所': 5820,\n",
       " '提振': 5224,\n",
       " '中长期': 860,\n",
       " '海外': 6515,\n",
       " '增量': 3308,\n",
       " '升温': 2402,\n",
       " '短期内': 7301,\n",
       " '不能': 606,\n",
       " '有效': 5821,\n",
       " '放大': 5356,\n",
       " '情景': 4713,\n",
       " '难以': 9617,\n",
       " '持续': 5097,\n",
       " '改变': 5332,\n",
       " '并未': 4302,\n",
       " '引起': 4448,\n",
       " '热情': 6755,\n",
       " '成交量': 4778,\n",
       " '较为': 8992,\n",
       " '较大': 8994,\n",
       " '变化': 2693,\n",
       " '成长': 4800,\n",
       " '全天': 1722,\n",
       " '低迷': 1391,\n",
       " '表明': 8417,\n",
       " '很少': 4549,\n",
       " '不同': 567,\n",
       " '之间': 955,\n",
       " '使得': 1457,\n",
       " '突破': 7512,\n",
       " '中期': 831,\n",
       " '依旧': 1479,\n",
       " '维持': 7840,\n",
       " '虽然': 8354,\n",
       " '至今': 8130,\n",
       " '夏普': 3351,\n",
       " '智能手机': 5737,\n",
       " '无法': 5568,\n",
       " '完全': 3776,\n",
       " '2013': 79,\n",
       " '退出': 9186,\n",
       " '月份': 5800,\n",
       " '官方': 3791,\n",
       " '回归': 3031,\n",
       " '预示': 9741,\n",
       " '很快': 4551,\n",
       " '登场': 7127,\n",
       " '登陆': 7132,\n",
       " '怎么样': 4633,\n",
       " '近日': 9072,\n",
       " '型号': 3221,\n",
       " '神秘': 7378,\n",
       " '悄然': 4695,\n",
       " '相关': 7211,\n",
       " '并非': 4305,\n",
       " '定位': 3798,\n",
       " '配备': 9333,\n",
       " '最受': 5782,\n",
       " '芯片': 8212,\n",
       " '之一': 930,\n",
       " '采用': 9343,\n",
       " '14': 43,\n",
       " '工艺': 4135,\n",
       " '设计': 8591,\n",
       " '当前': 4492,\n",
       " '只有': 2729,\n",
       " '上市': 474,\n",
       " '销售': 9440,\n",
       " '改进': 5340,\n",
       " '明显': 5665,\n",
       " '所以': 4859,\n",
       " '放在': 5355,\n",
       " '变成': 2697,\n",
       " '高端': 9945,\n",
       " '不过': 615,\n",
       " '签署': 7621,\n",
       " '协议': 2434,\n",
       " '时间': 5649,\n",
       " '既然': 5582,\n",
       " '测试': 6490,\n",
       " '说明': 8666,\n",
       " '只要': 2731,\n",
       " '时期': 5636,\n",
       " '新品': 5494,\n",
       " '之前': 938,\n",
       " '曝光': 5750,\n",
       " '竞争': 7528,\n",
       " '优势': 1316,\n",
       " '全面': 1746,\n",
       " '推出': 5197,\n",
       " '全球': 1732,\n",
       " '多达': 3421,\n",
       " '28': 101,\n",
       " '媒体': 3694,\n",
       " '沟通': 6369,\n",
       " '会上': 1330,\n",
       " '各位': 2777,\n",
       " '时代': 5626,\n",
       " '成为': 4776,\n",
       " '沙漠': 6365,\n",
       " '有利': 5811,\n",
       " '消化': 6542,\n",
       " '开盘': 4428,\n",
       " '上证': 502,\n",
       " '蓝筹': 8339,\n",
       " '带动': 4213,\n",
       " '一度': 304,\n",
       " '站上': 7526,\n",
       " '60': 145,\n",
       " '120': 36,\n",
       " '均线': 3201,\n",
       " '万达': 420,\n",
       " '电影': 7059,\n",
       " '暴跌': 5747,\n",
       " '拖累': 5070,\n",
       " '绝大多数': 7820,\n",
       " '大幅': 3467,\n",
       " '各大': 2781,\n",
       " '全线': 1737,\n",
       " '不见': 611,\n",
       " '不可': 564,\n",
       " '短线': 7304,\n",
       " '策略': 7612,\n",
       " '题材': 9771,\n",
       " '为主': 873,\n",
       " '区域': 2365,\n",
       " '概念股': 6130,\n",
       " '调整': 8685,\n",
       " '压力': 2531,\n",
       " '仍然': 1225,\n",
       " '突出': 7506,\n",
       " '再次': 1886,\n",
       " '大跌': 3507,\n",
       " '处于': 3323,\n",
       " '底部': 4348,\n",
       " '低位': 1386,\n",
       " '反复': 2606,\n",
       " '夯实': 3563,\n",
       " '蓝筹股': 8340,\n",
       " '承压': 4953,\n",
       " '后期': 2862,\n",
       " '需要': 9658,\n",
       " '接力': 5178,\n",
       " '走向': 8835,\n",
       " '今日': 1221,\n",
       " '要闻': 8471,\n",
       " '央行': 3561,\n",
       " '上海': 486,\n",
       " '总部': 4671,\n",
       " '债券': 1582,\n",
       " '北向': 2345,\n",
       " '境外': 3287,\n",
       " '投资者': 4994,\n",
       " '准入': 1957,\n",
       " '备案': 3339,\n",
       " '业务': 661,\n",
       " '指引': 5110,\n",
       " '我国': 4804,\n",
       " '信用': 1553,\n",
       " '法规': 6428,\n",
       " '标准': 6042,\n",
       " '研究': 7320,\n",
       " '加快': 2252,\n",
       " '推进': 5207,\n",
       " '房地产': 4851,\n",
       " '研究院': 7326,\n",
       " '房贷利率': 4856,\n",
       " '楼市': 6126,\n",
       " '报告': 5018,\n",
       " '许多': 8578,\n",
       " '城市': 3231,\n",
       " '个人': 739,\n",
       " '住房贷款': 1395,\n",
       " '利率': 2143,\n",
       " '程度': 7468,\n",
       " '水污染': 6316,\n",
       " '修正案': 1562,\n",
       " '草案': 8260,\n",
       " '二审': 1038,\n",
       " '更大': 5756,\n",
       " '力度': 2222,\n",
       " '保护': 1524,\n",
       " '环境': 6909,\n",
       " '结算': 7813,\n",
       " '开展': 4415,\n",
       " '一人': 254,\n",
       " '多户': 3404,\n",
       " '通知': 9238,\n",
       " '启动': 2883,\n",
       " '同一': 2821,\n",
       " '以上': 1256,\n",
       " '账户': 8749,\n",
       " '文件': 5442,\n",
       " '要求': 8469,\n",
       " '23': 93,\n",
       " '日后': 5589,\n",
       " '交易日': 1111,\n",
       " '确认': 7343,\n",
       " '十三': 2383,\n",
       " '金融市场': 9404,\n",
       " '交易额': 1113,\n",
       " '2000': 66,\n",
       " '万亿': 393,\n",
       " '宏观': 3785,\n",
       " '稳定': 7479,\n",
       " '双重': 2604,\n",
       " '因素': 3049,\n",
       " '鼓舞': 9994,\n",
       " '国际': 3117,\n",
       " '基金': 3266,\n",
       " '经理': 7789,\n",
       " '2017': 83,\n",
       " '下半年': 516,\n",
       " '股市': 8047,\n",
       " '有望': 5824,\n",
       " '十年': 2392,\n",
       " '增长': 3309,\n",
       " '创新': 2115,\n",
       " '驱动': 9879,\n",
       " '回顾': 3043,\n",
       " '早盘': 5625,\n",
       " '冲高': 1944,\n",
       " '回落': 3039,\n",
       " '走势': 8834,\n",
       " '盘面': 7177,\n",
       " '300': 104,\n",
       " '盘中': 7175,\n",
       " '新高': 5531,\n",
       " '分化': 2047,\n",
       " '相当': 7218,\n",
       " '45': 126,\n",
       " '较前': 8993,\n",
       " '76': 166,\n",
       " '跌幅': 8893,\n",
       " '101': 15,\n",
       " '97': 192,\n",
       " '98': 193,\n",
       " '创业板': 2105,\n",
       " '38': 116,\n",
       " '400': 120,\n",
       " '品种': 2939,\n",
       " '计算': 8545,\n",
       " 'st': 237,\n",
       " '涨停': 6562,\n",
       " '不足': 614,\n",
       " '亿元': 1202,\n",
       " '800': 172,\n",
       " '数据': 5424,\n",
       " '主力': 888,\n",
       " '流出': 6475,\n",
       " '一日': 317,\n",
       " '96': 191,\n",
       " '95': 190,\n",
       " '27': 99,\n",
       " '61': 148,\n",
       " '抛售': 5002,\n",
       " '13': 40,\n",
       " '介入': 1223,\n",
       " '医药': 2381,\n",
       " '制造': 2173,\n",
       " '雄安': 9625,\n",
       " '新区': 5487,\n",
       " '更是': 5761,\n",
       " '高达': 9954,\n",
       " '41': 122,\n",
       " '69': 157,\n",
       " '技术': 4963,\n",
       " '临近': 870,\n",
       " '半个': 2409,\n",
       " '小时': 3969,\n",
       " '高位': 9910,\n",
       " '留下': 7094,\n",
       " '以来': 1268,\n",
       " '每次': 6241,\n",
       " '回调': 3040,\n",
       " '相对': 7216,\n",
       " '位置': 1383,\n",
       " '即使': 2512,\n",
       " '乏力': 962,\n",
       " '总体': 4647,\n",
       " '打破': 4906,\n",
       " '攻克': 5345,\n",
       " '当日': 4501,\n",
       " '上方': 479,\n",
       " '触及': 8526,\n",
       " '无疑': 5570,\n",
       " '心理': 4599,\n",
       " '负面影响': 8729,\n",
       " '分钟': 2077,\n",
       " '级别': 7718,\n",
       " '形成': 4514,\n",
       " '一旦': 318,\n",
       " '跌破': 8894,\n",
       " '意味着': 4737,\n",
       " '如此': 3660,\n",
       " '引发': 4443,\n",
       " '综合': 7845,\n",
       " '处在': 3326,\n",
       " '区间': 2367,\n",
       " '脆弱': 8076,\n",
       " '心态': 4595,\n",
       " '碎片': 7345,\n",
       " '主线': 908,\n",
       " '模糊': 6142,\n",
       " '热点': 6760,\n",
       " '赚钱': 8810,\n",
       " '效应': 5389,\n",
       " '以下': 1257,\n",
       " '首先': 9824,\n",
       " '长期': 9468,\n",
       " '人气': 1193,\n",
       " '最近': 5795,\n",
       " '一段时间': 335,\n",
       " '整体': 5433,\n",
       " '走高': 8847,\n",
       " '基础': 3260,\n",
       " '弹性': 4466,\n",
       " '制约': 2169,\n",
       " '绝对': 7822,\n",
       " '大面积': 3521,\n",
       " '与此同时': 621,\n",
       " '现在': 6926,\n",
       " '非常': 9683,\n",
       " '频繁': 9767,\n",
       " '今天': 1216,\n",
       " '明天': 5661,\n",
       " '就要': 4009,\n",
       " '打击': 4896,\n",
       " '积极性': 7452,\n",
       " '其次': 1847,\n",
       " '反弹': 2612,\n",
       " '重要': 9378,\n",
       " '拉升': 5047,\n",
       " '这种': 9111,\n",
       " '大涨': 3482,\n",
       " '似乎': 1378,\n",
       " '一直': 343,\n",
       " '吸引': 2888,\n",
       " '加码': 2264,\n",
       " '中小': 808,\n",
       " '面临': 9688,\n",
       " '强大': 4475,\n",
       " '午后': 2407,\n",
       " '复星': 3344,\n",
       " '收复': 5315,\n",
       " '投资': 4992,\n",
       " '建议': 4393,\n",
       " '始终': 3666,\n",
       " '缺乏': 7880,\n",
       " '支持': 5297,\n",
       " '背景': 8060,\n",
       " '后续': 2865,\n",
       " '跟上': 8901,\n",
       " '活跃': 6467,\n",
       " '降低': 9564,\n",
       " '配置': 9335,\n",
       " '加大': 2246,\n",
       " '纠缠': 7701,\n",
       " '促使': 1505,\n",
       " '能否': 8071,\n",
       " '真正': 7262,\n",
       " '观察': 8482,\n",
       " '基于': 3244,\n",
       " '组合': 7751,\n",
       " '因此': 3047,\n",
       " '股指': 8048,\n",
       " '下方': 523,\n",
       " '获得': 8282,\n",
       " '操作': 5288,\n",
       " '粤港澳': 7659,\n",
       " '大湾': 3483,\n",
       " '论坛': 8580,\n",
       " '腾讯': 8088,\n",
       " '人工智能': 1178,\n",
       " '百度': 7150,\n",
       " '举办': 918,\n",
       " 'ai': 196,\n",
       " '开发者': 4408,\n",
       " '大会': 3430,\n",
       " '亚马逊': 1093,\n",
       " '代表': 1251,\n",
       " '互联网': 1066,\n",
       " '巨头': 4144,\n",
       " '一致': 358,\n",
       " '看好': 7245,\n",
       " '发展': 2629,\n",
       " '产业': 1126,\n",
       " '叠加': 2704,\n",
       " '政策': 5378,\n",
       " '扶持': 4942,\n",
       " '景气': 5726,\n",
       " '一个月': 249,\n",
       " '三次': 448,\n",
       " '加之': 2239,\n",
       " '下周': 520,\n",
       " '月末': 5804,\n",
       " '值得': 1588,\n",
       " '做好': 1603,\n",
       " '应对': 4339,\n",
       " '月初': 5801,\n",
       " '为首': 881,\n",
       " '模式': 6139,\n",
       " '保持': 1527,\n",
       " '随着': 9606,\n",
       " '带来': 4218,\n",
       " '刷新': 2177,\n",
       " '高点': 9942,\n",
       " '降温': 9568,\n",
       " '加剧': 2245,\n",
       " '现象': 6936,\n",
       " '必须': 4607,\n",
       " '重视': 9381,\n",
       " '红利': 7702,\n",
       " '军工': 1896,\n",
       " '上周': 468,\n",
       " '王者': 6898,\n",
       " '荣耀': 8263,\n",
       " '类似': 7655,\n",
       " '来自': 5992,\n",
       " '比较': 6259,\n",
       " '敏感': 5395,\n",
       " '半年': 2414,\n",
       " '容易': 3894,\n",
       " '实际上': 3835,\n",
       " '美联储': 7944,\n",
       " '加息': 2253,\n",
       " '缩表': 7875,\n",
       " '行为': 8377,\n",
       " '货币政策': 8751,\n",
       " '开启': 4409,\n",
       " '流行': 6482,\n",
       " '很难': 4553,\n",
       " '中性': 821,\n",
       " '偏紧': 1600,\n",
       " '常态': 4237,\n",
       " '基本面': 3257,\n",
       " '阶段': 9522,\n",
       " '一段': 334,\n",
       " '高速': 9956,\n",
       " '增速': 3307,\n",
       " '下滑': 530,\n",
       " '而是': 7987,\n",
       " '周期': 2910,\n",
       " '适度': 9196,\n",
       " '供给': 1475,\n",
       " '结构性': 7809,\n",
       " '改革': 5342,\n",
       " '决定': 1946,\n",
       " '运行': 9062,\n",
       " '之下': 932,\n",
       " '前期': 2194,\n",
       " '单纯': 2448,\n",
       " '依托': 1477,\n",
       " '能够': 8072,\n",
       " '担忧': 5043,\n",
       " '尤其': 3998,\n",
       " '越来越': 8876,\n",
       " '甚至': 6986,\n",
       " '排除': 5168,\n",
       " '选择': 9210,\n",
       " '伴随': 1377,\n",
       " '谨慎': 8709,\n",
       " '气氛': 6296,\n",
       " '对于': 3910,\n",
       " '梳理': 6104,\n",
       " '警惕': 8536,\n",
       " '兑现': 1681,\n",
       " '利润': 2140,\n",
       " '重新': 9372,\n",
       " '机会': 5924,\n",
       " '阻力': 9524,\n",
       " '密集': 3905,\n",
       " '及时': 2587,\n",
       " '减仓': 1964,\n",
       " '毕竟': 6265,\n",
       " '通道': 9250,\n",
       " '扭转': 4938,\n",
       " '暂时': 5740,\n",
       " '持有': 5095,\n",
       " '主板': 903,\n",
       " '终于': 7769,\n",
       " '遗憾': 9283,\n",
       " '之际': 956,\n",
       " '周五': 2903,\n",
       " '怎样': 4634,\n",
       " '登记': 7131,\n",
       " '托管': 4914,\n",
       " '实施细则': 3825,\n",
       " '实施': 3823,\n",
       " '发改委': 2642,\n",
       " '抓紧': 4976,\n",
       " '制定': 2162,\n",
       " '出台': 1999,\n",
       " '价格': 1279,\n",
       " '监管': 7171,\n",
       " '规则': 8492,\n",
       " '社部': 7369,\n",
       " '月底': 5802,\n",
       " '基本': 3254,\n",
       " '实现': 3828,\n",
       " '跨省': 8909,\n",
       " '异地': 4440,\n",
       " '就医': 4004,\n",
       " '直接': 7200,\n",
       " '成品油': 4788,\n",
       " '年内': 4277,\n",
       " '下调': 536,\n",
       " '降幅': 9566,\n",
       " '国防': 3114,\n",
       " '科工': 7421,\n",
       " '混改': 6594,\n",
       " '资产': 8789,\n",
       " '证券化': 8599,\n",
       " '进程': 9139,\n",
       " '广电总局': 4327,\n",
       " '新浪': 5512,\n",
       " '微博': 4576,\n",
       " '网站': 7894,\n",
       " '关停': 1820,\n",
       " '视听': 8503,\n",
       " '节目': 8200,\n",
       " '欧美': 6172,\n",
       " '稳健': 7478,\n",
       " '国内': 3075,\n",
       " '形式': 4512,\n",
       " '整理': 5437,\n",
       " '1800': 55,\n",
       " '相比': 7222,\n",
       " '显得': 5699,\n",
       " '弱势': 4465,\n",
       " '转换': 8971,\n",
       " '随时': 9604,\n",
       " '第一': 7548,\n",
       " '第二': 7576,\n",
       " '实质性': 3832,\n",
       " '低开': 1387,\n",
       " '可能性': 2742,\n",
       " '防止': 9511,\n",
       " '极为': 6002,\n",
       " ...}"
      ]
     },
     "execution_count": 36,
     "metadata": {},
     "output_type": "execute_result"
    }
   ],
   "source": [
    "vectorized.vocabulary_"
   ]
  },
  {
   "cell_type": "markdown",
   "metadata": {},
   "source": [
    "### use tfidf value to calculate document similarities"
   ]
  },
  {
   "cell_type": "markdown",
   "metadata": {},
   "source": [
    "$$ 1 - \\frac{u \\cdot v}\n",
    "              {||u||_2 ||v||_2} $$"
   ]
  },
  {
   "cell_type": "code",
   "execution_count": 37,
   "metadata": {},
   "outputs": [],
   "source": [
    "from scipy.spatial.distance import cosine"
   ]
  },
  {
   "cell_type": "code",
   "execution_count": 38,
   "metadata": {},
   "outputs": [],
   "source": [
    "def distance(v1, v2): return cosine(v1, v2)"
   ]
  },
  {
   "cell_type": "code",
   "execution_count": 39,
   "metadata": {},
   "outputs": [
    {
     "data": {
      "text/plain": [
       "1.0"
      ]
     },
     "execution_count": 39,
     "metadata": {},
     "output_type": "execute_result"
    }
   ],
   "source": [
    "distance([1,0],[0,1])"
   ]
  },
  {
   "cell_type": "code",
   "execution_count": 40,
   "metadata": {},
   "outputs": [],
   "source": [
    "cosine?"
   ]
  },
  {
   "cell_type": "code",
   "execution_count": 41,
   "metadata": {},
   "outputs": [],
   "source": [
    "import random"
   ]
  },
  {
   "cell_type": "code",
   "execution_count": 212,
   "metadata": {},
   "outputs": [
    {
     "data": {
      "text/plain": [
       "5"
      ]
     },
     "execution_count": 212,
     "metadata": {},
     "output_type": "execute_result"
    }
   ],
   "source": [
    "random_choose = random.randint(0,1000)\n",
    "random_choose"
   ]
  },
  {
   "cell_type": "code",
   "execution_count": null,
   "metadata": {},
   "outputs": [],
   "source": []
  },
  {
   "cell_type": "code",
   "execution_count": 213,
   "metadata": {
    "scrolled": true
   },
   "outputs": [
    {
     "name": "stderr",
     "output_type": "stream",
     "text": [
      "C:\\Users\\WATERDROP\\Anaconda3\\lib\\site-packages\\scipy\\spatial\\distance.py:702: RuntimeWarning: invalid value encountered in double_scalars\n",
      "  dist = 1.0 - uv / np.sqrt(uu * vv)\n"
     ]
    }
   ],
   "source": [
    "document_similarity = sorted(list(range(10000)),key=lambda i:distance(X[random_choose].toarray()[0], X[i].toarray()[0]))"
   ]
  },
  {
   "cell_type": "code",
   "execution_count": 214,
   "metadata": {},
   "outputs": [
    {
     "data": {
      "text/plain": [
       "[5,\n",
       " 4372,\n",
       " 9,\n",
       " 2867,\n",
       " 3478,\n",
       " 4515,\n",
       " 14,\n",
       " 4491,\n",
       " 4257,\n",
       " 4494,\n",
       " 4518,\n",
       " 4507,\n",
       " 4558,\n",
       " 2991,\n",
       " 270,\n",
       " 4502,\n",
       " 4529,\n",
       " 4186,\n",
       " 11,\n",
       " 4178,\n",
       " 4488,\n",
       " 2714,\n",
       " 4498,\n",
       " 4813,\n",
       " 637,\n",
       " 4195,\n",
       " 7,\n",
       " 4538,\n",
       " 13,\n",
       " 4525,\n",
       " 23,\n",
       " 117,\n",
       " 290,\n",
       " 282,\n",
       " 264,\n",
       " 4546,\n",
       " 262,\n",
       " 15,\n",
       " 4483,\n",
       " 605,\n",
       " 4182,\n",
       " 112,\n",
       " 4521,\n",
       " 4512,\n",
       " 265,\n",
       " 4533,\n",
       " 266,\n",
       " 4189,\n",
       " 2904,\n",
       " 4543,\n",
       " 4174,\n",
       " 3113,\n",
       " 279,\n",
       " 4192,\n",
       " 268,\n",
       " 21,\n",
       " 4664,\n",
       " 4739,\n",
       " 632,\n",
       " 4550,\n",
       " 169,\n",
       " 3124,\n",
       " 2937,\n",
       " 2897,\n",
       " 3080,\n",
       " 296,\n",
       " 2943,\n",
       " 18,\n",
       " 3110,\n",
       " 4977,\n",
       " 3152,\n",
       " 3085,\n",
       " 488,\n",
       " 3045,\n",
       " 2998,\n",
       " 3121,\n",
       " 3190,\n",
       " 2951,\n",
       " 456,\n",
       " 3054,\n",
       " 2946,\n",
       " 2583,\n",
       " 2958,\n",
       " 2883,\n",
       " 4486,\n",
       " 2882,\n",
       " 343,\n",
       " 10,\n",
       " 522,\n",
       " 4985,\n",
       " 2899,\n",
       " 2980,\n",
       " 3172,\n",
       " 2939,\n",
       " 4743,\n",
       " 3127,\n",
       " 2578,\n",
       " 630,\n",
       " 293,\n",
       " 4968,\n",
       " 2587,\n",
       " 2590,\n",
       " 2948,\n",
       " 4695,\n",
       " 19,\n",
       " 3161,\n",
       " 2910,\n",
       " 3002,\n",
       " 4981,\n",
       " 4643,\n",
       " 3164,\n",
       " 274,\n",
       " 2954,\n",
       " 4689,\n",
       " 3133,\n",
       " 101,\n",
       " 4826,\n",
       " 159,\n",
       " 3118,\n",
       " 2934,\n",
       " 4516,\n",
       " 88,\n",
       " 3059,\n",
       " 4166,\n",
       " 3104,\n",
       " 182,\n",
       " 2961,\n",
       " 3042,\n",
       " 4179,\n",
       " 2889,\n",
       " 3144,\n",
       " 3142,\n",
       " 4554,\n",
       " 4975,\n",
       " 4735,\n",
       " 3063,\n",
       " 3107,\n",
       " 616,\n",
       " 4677,\n",
       " 150,\n",
       " 4668,\n",
       " 2560,\n",
       " 3035,\n",
       " 260,\n",
       " 4834,\n",
       " 46,\n",
       " 3048,\n",
       " 3051,\n",
       " 3131,\n",
       " 3176,\n",
       " 3166,\n",
       " 2893,\n",
       " 4964,\n",
       " 3183,\n",
       " 3191,\n",
       " 4712,\n",
       " 3189,\n",
       " 3067,\n",
       " 96,\n",
       " 273,\n",
       " 3186,\n",
       " 2987,\n",
       " 284,\n",
       " 413,\n",
       " 4978,\n",
       " 2915,\n",
       " 4170,\n",
       " 3150,\n",
       " 3197,\n",
       " 183,\n",
       " 4685,\n",
       " 3146,\n",
       " 3179,\n",
       " 3026,\n",
       " 420,\n",
       " 4173,\n",
       " 104,\n",
       " 3004,\n",
       " 3195,\n",
       " 2956,\n",
       " 2900,\n",
       " 2913,\n",
       " 3101,\n",
       " 2566,\n",
       " 2930,\n",
       " 476,\n",
       " 3192,\n",
       " 3039,\n",
       " 4971,\n",
       " 202,\n",
       " 3099,\n",
       " 364,\n",
       " 4681,\n",
       " 2957,\n",
       " 108,\n",
       " 333,\n",
       " 286,\n",
       " 2577,\n",
       " 467,\n",
       " 2576,\n",
       " 2931,\n",
       " 2570,\n",
       " 425,\n",
       " 4828,\n",
       " 4168,\n",
       " 3132,\n",
       " 509,\n",
       " 4691,\n",
       " 4726,\n",
       " 2579,\n",
       " 2984,\n",
       " 195,\n",
       " 3196,\n",
       " 120,\n",
       " 2597,\n",
       " 4751,\n",
       " 3088,\n",
       " 2992,\n",
       " 4819,\n",
       " 4990,\n",
       " 2594,\n",
       " 3046,\n",
       " 98,\n",
       " 4804,\n",
       " 374,\n",
       " 4986,\n",
       " 3001,\n",
       " 2960,\n",
       " 62,\n",
       " 91,\n",
       " 2571,\n",
       " 322,\n",
       " 191,\n",
       " 4655,\n",
       " 4800,\n",
       " 65,\n",
       " 181,\n",
       " 4534,\n",
       " 2563,\n",
       " 504,\n",
       " 130,\n",
       " 4162,\n",
       " 3136,\n",
       " 276,\n",
       " 586,\n",
       " 2564,\n",
       " 383,\n",
       " 2923,\n",
       " 2907,\n",
       " 319,\n",
       " 64,\n",
       " 107,\n",
       " 2599,\n",
       " 89,\n",
       " 3074,\n",
       " 3185,\n",
       " 389,\n",
       " 59,\n",
       " 2581,\n",
       " 77,\n",
       " 205,\n",
       " 528,\n",
       " 4960,\n",
       " 119,\n",
       " 2902,\n",
       " 3151,\n",
       " 4552,\n",
       " 369,\n",
       " 4965,\n",
       " 4995,\n",
       " 3125,\n",
       " 166,\n",
       " 38,\n",
       " 3128,\n",
       " 3184,\n",
       " 4693,\n",
       " 157,\n",
       " 4646,\n",
       " 4801,\n",
       " 4994,\n",
       " 352,\n",
       " 29,\n",
       " 2888,\n",
       " 532,\n",
       " 94,\n",
       " 4542,\n",
       " 511,\n",
       " 4999,\n",
       " 471,\n",
       " 299,\n",
       " 4659,\n",
       " 3130,\n",
       " 609,\n",
       " 442,\n",
       " 3012,\n",
       " 4640,\n",
       " 4645,\n",
       " 381,\n",
       " 139,\n",
       " 4199,\n",
       " 4832,\n",
       " 188,\n",
       " 553,\n",
       " 2977,\n",
       " 4513,\n",
       " 4759,\n",
       " 141,\n",
       " 2596,\n",
       " 3180,\n",
       " 4802,\n",
       " 489,\n",
       " 210,\n",
       " 4731,\n",
       " 90,\n",
       " 4541,\n",
       " 4831,\n",
       " 4528,\n",
       " 306,\n",
       " 575,\n",
       " 6,\n",
       " 507,\n",
       " 4721,\n",
       " 3134,\n",
       " 4500,\n",
       " 4962,\n",
       " 2979,\n",
       " 2933,\n",
       " 246,\n",
       " 349,\n",
       " 4662,\n",
       " 3115,\n",
       " 4648,\n",
       " 531,\n",
       " 2572,\n",
       " 2950,\n",
       " 280,\n",
       " 3169,\n",
       " 8,\n",
       " 180,\n",
       " 63,\n",
       " 83,\n",
       " 354,\n",
       " 4667,\n",
       " 447,\n",
       " 2983,\n",
       " 590,\n",
       " 4705,\n",
       " 4807,\n",
       " 153,\n",
       " 3056,\n",
       " 3076,\n",
       " 538,\n",
       " 544,\n",
       " 172,\n",
       " 4556,\n",
       " 600,\n",
       " 3053,\n",
       " 588,\n",
       " 2574,\n",
       " 4992,\n",
       " 3093,\n",
       " 208,\n",
       " 72,\n",
       " 2936,\n",
       " 3157,\n",
       " 554,\n",
       " 247,\n",
       " 3079,\n",
       " 500,\n",
       " 3103,\n",
       " 52,\n",
       " 618,\n",
       " 4982,\n",
       " 3100,\n",
       " 132,\n",
       " 31,\n",
       " 4730,\n",
       " 171,\n",
       " 170,\n",
       " 4551,\n",
       " 145,\n",
       " 547,\n",
       " 222,\n",
       " 610,\n",
       " 2582,\n",
       " 2891,\n",
       " 95,\n",
       " 4805,\n",
       " 50,\n",
       " 2924,\n",
       " 4738,\n",
       " 99,\n",
       " 3155,\n",
       " 458,\n",
       " 4961,\n",
       " 4190,\n",
       " 4704,\n",
       " 4821,\n",
       " 503,\n",
       " 2928,\n",
       " 84,\n",
       " 218,\n",
       " 3068,\n",
       " 570,\n",
       " 581,\n",
       " 4537,\n",
       " 4973,\n",
       " 4703,\n",
       " 4720,\n",
       " 3143,\n",
       " 2918,\n",
       " 2586,\n",
       " 4708,\n",
       " 2880,\n",
       " 444,\n",
       " 4747,\n",
       " 4485,\n",
       " 175,\n",
       " 455,\n",
       " 412,\n",
       " 461,\n",
       " 4650,\n",
       " 3139,\n",
       " 3092,\n",
       " 3073,\n",
       " 2914,\n",
       " 4559,\n",
       " 255,\n",
       " 465,\n",
       " 3174,\n",
       " 212,\n",
       " 323,\n",
       " 261,\n",
       " 3167,\n",
       " 638,\n",
       " 263,\n",
       " 2996,\n",
       " 4740,\n",
       " 2973,\n",
       " 345,\n",
       " 2568,\n",
       " 388,\n",
       " 30,\n",
       " 2988,\n",
       " 4817,\n",
       " 240,\n",
       " 4164,\n",
       " 3148,\n",
       " 559,\n",
       " 4733,\n",
       " 372,\n",
       " 3069,\n",
       " 3129,\n",
       " 27,\n",
       " 2592,\n",
       " 245,\n",
       " 3160,\n",
       " 4830,\n",
       " 4723,\n",
       " 614,\n",
       " 3158,\n",
       " 3087,\n",
       " 123,\n",
       " 2895,\n",
       " 3114,\n",
       " 224,\n",
       " 4532,\n",
       " 4673,\n",
       " 405,\n",
       " 3044,\n",
       " 2903,\n",
       " 3126,\n",
       " 4644,\n",
       " 2562,\n",
       " 530,\n",
       " 582,\n",
       " 362,\n",
       " 410,\n",
       " 2976,\n",
       " 2565,\n",
       " 301,\n",
       " 4185,\n",
       " 4649,\n",
       " 257,\n",
       " 494,\n",
       " 4161,\n",
       " 237,\n",
       " 4672,\n",
       " 60,\n",
       " 4510,\n",
       " 4829,\n",
       " 3140,\n",
       " 302,\n",
       " 4165,\n",
       " 317,\n",
       " 4998,\n",
       " 143,\n",
       " 481,\n",
       " 4752,\n",
       " 573,\n",
       " 583,\n",
       " 448,\n",
       " 3040,\n",
       " 4647,\n",
       " 292,\n",
       " 4966,\n",
       " 2971,\n",
       " 376,\n",
       " 80,\n",
       " 558,\n",
       " 2982,\n",
       " 429,\n",
       " 446,\n",
       " 3072,\n",
       " 3057,\n",
       " 127,\n",
       " 184,\n",
       " 122,\n",
       " 179,\n",
       " 568,\n",
       " 441,\n",
       " 4750,\n",
       " 68,\n",
       " 178,\n",
       " 34,\n",
       " 243,\n",
       " 198,\n",
       " 259,\n",
       " 331,\n",
       " 335,\n",
       " 269,\n",
       " 470,\n",
       " 4530,\n",
       " 536,\n",
       " 4725,\n",
       " 417,\n",
       " 419,\n",
       " 190,\n",
       " 491,\n",
       " 137,\n",
       " 560,\n",
       " 3066,\n",
       " 4716,\n",
       " 4734,\n",
       " 492,\n",
       " 490,\n",
       " 3082,\n",
       " 398,\n",
       " 3077,\n",
       " 4755,\n",
       " 86,\n",
       " 608,\n",
       " 4524,\n",
       " 4972,\n",
       " 385,\n",
       " 287,\n",
       " 233,\n",
       " 55,\n",
       " 4979,\n",
       " 4514,\n",
       " 114,\n",
       " 97,\n",
       " 4836,\n",
       " 3083,\n",
       " 459,\n",
       " 564,\n",
       " 2942,\n",
       " 196,\n",
       " 2966,\n",
       " 341,\n",
       " 4,\n",
       " 375,\n",
       " 534,\n",
       " 4698,\n",
       " 339,\n",
       " 4823,\n",
       " 2569,\n",
       " 48,\n",
       " 597,\n",
       " 4811,\n",
       " 4810,\n",
       " 3108,\n",
       " 2964,\n",
       " 2945,\n",
       " 281,\n",
       " 2892,\n",
       " 584,\n",
       " 93,\n",
       " 71,\n",
       " 4820,\n",
       " 382,\n",
       " 4967,\n",
       " 285,\n",
       " 3187,\n",
       " 3096,\n",
       " 238,\n",
       " 105,\n",
       " 611,\n",
       " 138,\n",
       " 231,\n",
       " 20,\n",
       " 569,\n",
       " 579,\n",
       " 4991,\n",
       " 4487,\n",
       " 548,\n",
       " 278,\n",
       " 4197,\n",
       " 384,\n",
       " 4814,\n",
       " 329,\n",
       " 526,\n",
       " 252,\n",
       " 367,\n",
       " 185,\n",
       " 2580,\n",
       " 3112,\n",
       " 4822,\n",
       " 400,\n",
       " 3058,\n",
       " 502,\n",
       " 3181,\n",
       " 85,\n",
       " 387,\n",
       " 483,\n",
       " 550,\n",
       " 44,\n",
       " 629,\n",
       " 633,\n",
       " 3198,\n",
       " 4680,\n",
       " 256,\n",
       " 4661,\n",
       " 4489,\n",
       " 3090,\n",
       " 106,\n",
       " 520,\n",
       " 365,\n",
       " 193,\n",
       " 207,\n",
       " 499,\n",
       " 4984,\n",
       " 527,\n",
       " 332,\n",
       " 47,\n",
       " 2968,\n",
       " 254,\n",
       " 4997,\n",
       " 613,\n",
       " 81,\n",
       " 498,\n",
       " 371,\n",
       " 3123,\n",
       " 28,\n",
       " 4527,\n",
       " 4809,\n",
       " 533,\n",
       " 4669,\n",
       " 3199,\n",
       " 4553,\n",
       " 26,\n",
       " 234,\n",
       " 297,\n",
       " 3000,\n",
       " 53,\n",
       " 594,\n",
       " 377,\n",
       " 155,\n",
       " 2589,\n",
       " 22,\n",
       " 585,\n",
       " 2901,\n",
       " 162,\n",
       " 267,\n",
       " 3084,\n",
       " 391,\n",
       " 4692,\n",
       " 4696,\n",
       " 2911,\n",
       " 2927,\n",
       " 4198,\n",
       " 404,\n",
       " 4193,\n",
       " 348,\n",
       " 147,\n",
       " 592,\n",
       " 242,\n",
       " 418,\n",
       " 4688,\n",
       " 596,\n",
       " 36,\n",
       " 506,\n",
       " 2573,\n",
       " 462,\n",
       " 43,\n",
       " 4974,\n",
       " 2963,\n",
       " 228,\n",
       " 529,\n",
       " 395,\n",
       " 3050,\n",
       " 612,\n",
       " 368,\n",
       " 468,\n",
       " 133,\n",
       " 2925,\n",
       " 4651,\n",
       " 623,\n",
       " 2974,\n",
       " 4700,\n",
       " 4706,\n",
       " 294,\n",
       " 2591,\n",
       " 342,\n",
       " 4727,\n",
       " 2588,\n",
       " 485,\n",
       " 4744,\n",
       " 4749,\n",
       " 4188,\n",
       " 2567,\n",
       " 295,\n",
       " 2989,\n",
       " 4753,\n",
       " 484,\n",
       " 75,\n",
       " 199,\n",
       " 109,\n",
       " 161,\n",
       " 4548,\n",
       " 3065,\n",
       " 366,\n",
       " 473,\n",
       " 2585,\n",
       " 4653,\n",
       " 173,\n",
       " 57,\n",
       " 70,\n",
       " 4701,\n",
       " 115,\n",
       " 346,\n",
       " 4504,\n",
       " 4540,\n",
       " 163,\n",
       " 477,\n",
       " 4812,\n",
       " 408,\n",
       " 411,\n",
       " 423,\n",
       " 325,\n",
       " 525,\n",
       " 102,\n",
       " 4709,\n",
       " 4480,\n",
       " 92,\n",
       " 4963,\n",
       " 2922,\n",
       " 3137,\n",
       " 2944,\n",
       " 308,\n",
       " 197,\n",
       " 66,\n",
       " 4641,\n",
       " 3086,\n",
       " 4684,\n",
       " 424,\n",
       " 167,\n",
       " 321,\n",
       " 248,\n",
       " 129,\n",
       " 4717,\n",
       " 2941,\n",
       " 403,\n",
       " 227,\n",
       " 3162,\n",
       " 4499,\n",
       " 4728,\n",
       " 3116,\n",
       " 635,\n",
       " 4825,\n",
       " 176,\n",
       " 326,\n",
       " 76,\n",
       " 2952,\n",
       " 4737,\n",
       " 4710,\n",
       " 4714,\n",
       " 4666,\n",
       " 3156,\n",
       " 437,\n",
       " 443,\n",
       " 2993,\n",
       " 2917,\n",
       " 2595,\n",
       " 361,\n",
       " 430,\n",
       " 2887,\n",
       " 606,\n",
       " 621,\n",
       " 300,\n",
       " 3106,\n",
       " 617,\n",
       " 126,\n",
       " 271,\n",
       " 25,\n",
       " 513,\n",
       " 566,\n",
       " 289,\n",
       " 598,\n",
       " 17,\n",
       " 636,\n",
       " 111,\n",
       " 152,\n",
       " 2949,\n",
       " 4746,\n",
       " 3141,\n",
       " 2994,\n",
       " 4724,\n",
       " 4729,\n",
       " 2959,\n",
       " 204,\n",
       " 148,\n",
       " 474,\n",
       " 4742,\n",
       " 2986,\n",
       " 3078,\n",
       " 4519,\n",
       " 33,\n",
       " 4694,\n",
       " 433,\n",
       " 552,\n",
       " 567,\n",
       " 116,\n",
       " 449,\n",
       " 340,\n",
       " 4741,\n",
       " 3147,\n",
       " 200,\n",
       " 253,\n",
       " 144,\n",
       " 58,\n",
       " 241,\n",
       " 74,\n",
       " 434,\n",
       " 624,\n",
       " 220,\n",
       " 140,\n",
       " 3062,\n",
       " 61,\n",
       " 427,\n",
       " 4506,\n",
       " 3111,\n",
       " 310,\n",
       " 4833,\n",
       " 12,\n",
       " 2972,\n",
       " 121,\n",
       " 3145,\n",
       " 305,\n",
       " 142,\n",
       " 3154,\n",
       " 421,\n",
       " 556,\n",
       " 4545,\n",
       " 221,\n",
       " 4536,\n",
       " 3159,\n",
       " 4481,\n",
       " 67,\n",
       " 3177,\n",
       " 2908,\n",
       " 580,\n",
       " 4969,\n",
       " 4657,\n",
       " 4663,\n",
       " 312,\n",
       " 4172,\n",
       " 3091,\n",
       " 3170,\n",
       " 232,\n",
       " 3094,\n",
       " 316,\n",
       " 3138,\n",
       " 472,\n",
       " 4531,\n",
       " 165,\n",
       " 599,\n",
       " 378,\n",
       " 158,\n",
       " 3194,\n",
       " 4808,\n",
       " 4547,\n",
       " 428,\n",
       " 514,\n",
       " 187,\n",
       " 251,\n",
       " 535,\n",
       " 347,\n",
       " 2881,\n",
       " 4676,\n",
       " 454,\n",
       " 40,\n",
       " 517,\n",
       " 2995,\n",
       " 469,\n",
       " 438,\n",
       " 3089,\n",
       " 16,\n",
       " 4181,\n",
       " 69,\n",
       " 543,\n",
       " 3064,\n",
       " 512,\n",
       " 2938,\n",
       " 49,\n",
       " 2575,\n",
       " 3149,\n",
       " 4715,\n",
       " 561,\n",
       " 154,\n",
       " 110,\n",
       " 3153,\n",
       " 4745,\n",
       " 168,\n",
       " 3171,\n",
       " 4690,\n",
       " 4555,\n",
       " 4699,\n",
       " 4496,\n",
       " 4758,\n",
       " 4988,\n",
       " 3095,\n",
       " 303,\n",
       " 453,\n",
       " 452,\n",
       " 328,\n",
       " 450,\n",
       " 445,\n",
       " 549,\n",
       " 174,\n",
       " 574,\n",
       " 436,\n",
       " 524,\n",
       " 35,\n",
       " 431,\n",
       " 4818,\n",
       " 2997,\n",
       " 42,\n",
       " 4757,\n",
       " 416,\n",
       " 2965,\n",
       " 4838,\n",
       " 4682,\n",
       " 54,\n",
       " 4970,\n",
       " 4697,\n",
       " 540,\n",
       " 82,\n",
       " 1,\n",
       " 2885,\n",
       " 2896,\n",
       " 631,\n",
       " 320,\n",
       " 3109,\n",
       " 350,\n",
       " 551,\n",
       " 186,\n",
       " 4196,\n",
       " 4167,\n",
       " 4509,\n",
       " 422,\n",
       " 625,\n",
       " 557,\n",
       " 3188,\n",
       " 2970,\n",
       " 495,\n",
       " 2985,\n",
       " 164,\n",
       " 501,\n",
       " 555,\n",
       " 3135,\n",
       " 478,\n",
       " 463,\n",
       " 373,\n",
       " 156,\n",
       " 464,\n",
       " 24,\n",
       " 4171,\n",
       " 414,\n",
       " 607,\n",
       " 128,\n",
       " 432,\n",
       " 4686,\n",
       " 487,\n",
       " 135,\n",
       " 4722,\n",
       " 604,\n",
       " 593,\n",
       " 2953,\n",
       " 4835,\n",
       " ...]"
      ]
     },
     "execution_count": 214,
     "metadata": {},
     "output_type": "execute_result"
    }
   ],
   "source": [
    "document_similarity"
   ]
  },
  {
   "cell_type": "code",
   "execution_count": 216,
   "metadata": {},
   "outputs": [
    {
     "data": {
      "text/plain": [
       "'受到A股被纳入MSCI指数的利好消息刺激A股市场从周三开始再度上演龙马行情周四上午金融股和白马股表现喜人但是尾盘跳水之后仅金融板块仍维系红盘状态分析人士认为金融股受益于MSCI纳入A股和低估值而重获资金青睐但是存量资金博弈格局下风格交替的震荡格局料延续流动性改善经济悲观预期修正等有助于支撑板块继而大盘指数逐步向好一九再现周四A股市场未能延续周三的上行态势两市成交小幅放量29个中信一级行业中收盘仅银行和非银行金融两个行业指数收红分别上涨180和020从二级行业来看股份制与城商行的涨幅最高达到222国有银行上涨082信托及其他上涨064保险板块上涨034证券板块上涨006银行板块25只成分股中共有21只收红其中招商银行涨幅最大上涨666贵阳银行上涨365上海银行华夏银行浦发银行和兴业银行的涨幅均超过150非银行金融板块44只成分股中共17只个股上涨其中安信信托中国太保涨幅居前两名分别上涨457和304西水股份华安证券中国人寿和新华保险的涨幅也均超过2相对而言券商股多小幅下跌近期对A股市场消息面影响最大的就是MSCI宣布从2018年6月开始将A股纳入MSCI新兴市场指数而其中金融股是占比最大的一个群体国金证券李立峰团队指出最新方案中包含的222只成分股中剔除了中等市值非互联互通可交易的股票以及有停牌限制的标的由于纳入了很多大市值AH股A股在MSCIEM中的权重由05上升到了073其中金融板块占比最高达到4011泛消费次之占比为2426两个板块涵盖了大部分权重股动态来看由于加入了很多是指占比高的金融公司金融板块的权重增加了近一半其他大部分行业权重都受到了稀释尽管A股被纳入MSCI这一利好事件对短期市场情绪有所提振对中长期海外增量资金预期升温但短期内市场量能尚不能有效放大金融股独乐乐情景也就难以持续存量博弈格局下风格交替指数震荡格局难改变光大证券指出利好并未引起市场太大的热情两市指数和成交量均较为平淡但市场风格出现了较大变化白马股金融股上涨的同时成长股题材股全天低迷这表明市场增量资金依然很少存量资金在不同板块之间腾挪这样的跷跷板格局使得指数难有突破市场中期依旧偏空短期依旧可能维持震荡格局'"
      ]
     },
     "execution_count": 216,
     "metadata": {},
     "output_type": "execute_result"
    }
   ],
   "source": [
    "''.join(token_list[5])"
   ]
  },
  {
   "cell_type": "code",
   "execution_count": 217,
   "metadata": {},
   "outputs": [
    {
     "data": {
      "text/plain": [
       "'中国经济网北京6月21日讯今日两市早盘受A股冲关MSCI成功的消息影响而双双高开随后翻绿短暂冲高后呈现震荡横盘态势尾盘在上证50等权重股的带动下两市股指强势走强值得关注的是上证50指数以及中小板指数表现强势截至收盘沪指报315621点涨幅052深成指报1036717点涨幅076中小板指报681840点涨幅111创业板指报182469点涨幅020盘面上板块多数上涨家用电器领涨食品饮料汽车非银金融涨幅居前采掘领跌有色金属传媒轻工制造跌幅居前概念板块上涨跌互现白马股指数领涨京津冀一体化海绵城市水利水电建设指数涨幅居前小程序指数领跌粤港澳大湾区粤港澳自贸区网络安全指数跌幅居前消息面1环保部21日召开例行新闻发布会介绍土壤污染防治有关情况环保部土壤环境管理司司长邱启文在会上表示环保部在首批启动14个试点项目的基础上将指导各地新启动一批土壤污染治理与修复技术应用试点项目此外还将指导地方编制完成6个土壤污染综合防治先行区建设方案2受万科董事长王石从董事会卸任郁亮接棒消息影响万科企业在香港盘中大涨涨近3万科A盘中涨近23中央军民融合发展委员会第一次全体会议强调加强集中统一领导加快形成全要素多领域高效益的军民融合深度发展格局机构热议国信证券002736股吧明晟公司昨晚宣布将A股纳入MSCI新兴市场指数MSCI计划初始纳入中国A股的222只大盘股这些A股约占MSCI新兴市场指数073的权重上述消息发布后德银XTrackers嘉实沪深300160706基金吧中国A股ETF从下跌04转涨至2左右纳入MSCI指数虽然短期对市场影响有限但有助于提升本国资本市场的国际地位此外也能够倒逼股市改革提升监管水平随着资本市场的逐步开放和加入世界指数海外投资者将改变当地投资者的投资结构引导价值投资行为中金公司被纳入MSCIA股国际化的重要一步对市场情绪可能有一定的提振作用考虑到初期纳入标的数量不多初始纳入比例不高短期资金流入规模也不大我们初步估算流入资金量大约在150亿美元左右且相应个股年初至今已经累计了一定涨幅MSCI纳入A股短期对市场可能产生正面影响更重要的影响将在长期从长期来看海外投资者对A股参与度会进一步提升对A股的认知度和覆盖度上升市场机构化的趋势有望加速A股的投资风格逐步理性化在机制和制度上将逐渐走向完善对行业龙头影响偏积极尽管此次纳入短期对整体市场的有限正面作用但考虑到这样的结果可能一定程度上超出市场预期相关的权重较高增长与估值匹配度较好的行业龙头有望从中受益华泰证券601688股吧MSCI宣布A股纳入纳入后金融成分股将占最高比例MSCI决定纳入能通过沪股通或深股通交易且不因停牌而被排除在外的所有大盘A股初始纳入MSCI新兴市场指数的A股数目为222只MSCI采用多项筛选标准其中市值占权重比例较大大市值金融股成为MSCI偏爱测算金融股占纳入市值比例近225为市值占比最高板块首次纳入将引流约850亿人民币境外资金投资A股其中近250亿人民币配置到金融股目前MSCI跟踪资金约11万亿美元其中直接跟踪MSCI新兴市场指数资金约16万亿美元基于5的纳入因子在明年8月的评审完成后这些加入的A股将约占MSCI新兴市场指数073的权重A股将迎来约850亿人民币的增量资金其中金融股体量大流动性强估值低等特点符合境外资金偏好板块有望迎来超过权重的资金比例预计金融股增量资金约250亿人民币重点推荐银行农行光大招行北京保险太保新华平安国寿证券国君广发长江国元兴业'"
      ]
     },
     "execution_count": 217,
     "metadata": {},
     "output_type": "execute_result"
    }
   ],
   "source": [
    "''.join(token_list[4372])"
   ]
  },
  {
   "cell_type": "code",
   "execution_count": 218,
   "metadata": {},
   "outputs": [
    {
     "data": {
      "text/plain": [
       "'6月21日A股纳入MSCI指数尘埃落定但当天被寄予厚望的券商股并未扛起反弹大旗22日在222只纳入MSCI指数的A股股票中银行股全线飘红其中招商银行领涨涨幅达666保险股和券商股的表现也可圈可点在这222只股票中金融板块的股票数量和总市值占比均位居首位分析人士指出银行股股息率高估值低收益稳定对于资金量较大投资期限较长的资金存在相当大的吸引力从国际经验来看纳入MSCI指数后相关股市的投资者风格将更加稳健更加偏好业绩稳定流动性好风险低的优质蓝筹股银行股具估值优势6月22日A股金融股表现强势板块涨幅达119据平安证券统计在222只纳入MSCI指数的A股股票中金融板块市值占比达4132其中银行证券和保险子板块的市值占比分别为2730775和624多家券商研究报告认为银行等金融股受到纳入MSCI指数的提振未来更多境外资金将进入金融股华泰证券表示在纳入MSCI指数之后A股将迎来约850亿元人民币的增量资金其中考虑到222只股票中金融股市值占比约42并且金融股体量大流动性强估值低符合境外资金偏好有望迎来超过权重的资金比例预计金融股有望吸引增量资金约350亿元人民币新富资本证券投资中心研究总监廖云龙认为银行股脱颖而出的主要原因是低估值市场预期银行股基本面改善同时市场整体风格偏保守偏爱低估值22日银行股的大涨是市场风格的延续是投资者对龙头股和对低估值的防御性选择东方财富choice统计的一季度末QFII重仓股数据显示银行股是QFII关注的重点之一在前五十大重仓股中北京银行南京银行宁波银行上海银行榜上有名'"
      ]
     },
     "execution_count": 218,
     "metadata": {},
     "output_type": "execute_result"
    }
   ],
   "source": [
    "''.join(token_list[9])"
   ]
  },
  {
   "cell_type": "code",
   "execution_count": null,
   "metadata": {},
   "outputs": [],
   "source": []
  },
  {
   "cell_type": "markdown",
   "metadata": {},
   "source": [
    "## build binary search"
   ]
  },
  {
   "cell_type": "markdown",
   "metadata": {},
   "source": [
    "根据输入的words输出最接近的document"
   ]
  },
  {
   "cell_type": "markdown",
   "metadata": {},
   "source": [
    "### find the document which contain this word"
   ]
  },
  {
   "cell_type": "code",
   "execution_count": 42,
   "metadata": {},
   "outputs": [
    {
     "data": {
      "text/plain": [
       "(50000, 10000)"
      ]
     },
     "execution_count": 42,
     "metadata": {},
     "output_type": "execute_result"
    }
   ],
   "source": [
    "X.shape"
   ]
  },
  {
   "cell_type": "code",
   "execution_count": 43,
   "metadata": {},
   "outputs": [],
   "source": [
    "X.transpose?"
   ]
  },
  {
   "cell_type": "code",
   "execution_count": 44,
   "metadata": {},
   "outputs": [],
   "source": [
    "transposed_x = X.transpose().toarray()"
   ]
  },
  {
   "cell_type": "code",
   "execution_count": 45,
   "metadata": {},
   "outputs": [
    {
     "data": {
      "text/plain": [
       "(10000, 50000)"
      ]
     },
     "execution_count": 45,
     "metadata": {},
     "output_type": "execute_result"
    }
   ],
   "source": [
    "transposed_x.shape"
   ]
  },
  {
   "cell_type": "code",
   "execution_count": 46,
   "metadata": {},
   "outputs": [],
   "source": [
    "from sklearn.feature_extraction.text import TfidfVectorizer\n",
    "corpus = [\n",
    "    'This is the first document.',\n",
    "    'This document is the second document.',\n",
    "    'And this is the third one.',\n",
    "    'Is this the first document?',\n",
    "]\n",
    "vectorizer_test = TfidfVectorizer()\n",
    "T = vectorizer_test.fit_transform(corpus)"
   ]
  },
  {
   "cell_type": "code",
   "execution_count": 47,
   "metadata": {},
   "outputs": [
    {
     "data": {
      "text/plain": [
       "{'this': 8,\n",
       " 'is': 3,\n",
       " 'the': 6,\n",
       " 'first': 2,\n",
       " 'document': 1,\n",
       " 'second': 5,\n",
       " 'and': 0,\n",
       " 'third': 7,\n",
       " 'one': 4}"
      ]
     },
     "execution_count": 47,
     "metadata": {},
     "output_type": "execute_result"
    }
   ],
   "source": [
    "vectorizer_test.vocabulary_"
   ]
  },
  {
   "cell_type": "code",
   "execution_count": 48,
   "metadata": {},
   "outputs": [],
   "source": [
    "word_2_id = vectorized.vocabulary_"
   ]
  },
  {
   "cell_type": "code",
   "execution_count": 49,
   "metadata": {},
   "outputs": [
    {
     "data": {
      "text/plain": [
       "1216"
      ]
     },
     "execution_count": 49,
     "metadata": {},
     "output_type": "execute_result"
    }
   ],
   "source": [
    "word_2_id['今天']"
   ]
  },
  {
   "cell_type": "code",
   "execution_count": 50,
   "metadata": {},
   "outputs": [
    {
     "data": {
      "text/plain": [
       "dict"
      ]
     },
     "execution_count": 50,
     "metadata": {},
     "output_type": "execute_result"
    }
   ],
   "source": [
    "type(word_2_id)"
   ]
  },
  {
   "cell_type": "code",
   "execution_count": 51,
   "metadata": {},
   "outputs": [],
   "source": [
    "id_2_word ={d:w for w, d in word_2_id.items()}"
   ]
  },
  {
   "cell_type": "code",
   "execution_count": 52,
   "metadata": {},
   "outputs": [
    {
     "data": {
      "text/plain": [
       "'上网'"
      ]
     },
     "execution_count": 52,
     "metadata": {},
     "output_type": "execute_result"
    }
   ],
   "source": [
    "id_2_word[500]"
   ]
  },
  {
   "cell_type": "code",
   "execution_count": 53,
   "metadata": {},
   "outputs": [],
   "source": [
    "from functools import reduce\n",
    "from operator import and_"
   ]
  },
  {
   "cell_type": "code",
   "execution_count": 54,
   "metadata": {},
   "outputs": [],
   "source": [
    "d1, d2, d3 = {1,2,3}, {4,5,6,3,2}, {1,3,5}"
   ]
  },
  {
   "cell_type": "code",
   "execution_count": 55,
   "metadata": {},
   "outputs": [
    {
     "data": {
      "text/plain": [
       "{3}"
      ]
     },
     "execution_count": 55,
     "metadata": {},
     "output_type": "execute_result"
    }
   ],
   "source": [
    "reduce(and_,[d1,d2,d3])"
   ]
  },
  {
   "cell_type": "code",
   "execution_count": 75,
   "metadata": {},
   "outputs": [],
   "source": [
    "vectorized?"
   ]
  },
  {
   "cell_type": "markdown",
   "metadata": {},
   "source": [
    "输入词组，返回文章排序\n",
    "1. 获取query词组TFIDF向量\n",
    "2. 找出query词的位置\n",
    "3. 找出所有存在query的词的文章的索引号\n",
    "4. 找出同时存在query中所有词的文章的索引号\n",
    "5. 计算满足条件文章与query词的相似度并且排序\n",
    "6. 返回排序后的文章id列表"
   ]
  },
  {
   "cell_type": "code",
   "execution_count": 56,
   "metadata": {},
   "outputs": [],
   "source": [
    "def search_engine(query):\n",
    "    \"\"\"\n",
    "    @query is the words to be searched, splited by space\n",
    "    @return is the related documents which ranked by tfidf similarity\n",
    "    \"\"\"\n",
    "    words = query.split()\n",
    "    \n",
    "    query_vec = vectorized.transform([' '.join(words)]).toarray()[0] #获取输入query词的TFIDF向量\n",
    "    \n",
    "    candidates_ids = [word_2_id[w] for w in words] #找出TFIDF向量中代表query词的位置\n",
    "    \n",
    "    #找出所有存在query的词的文章的索引号\n",
    "    documents_ids = [ \n",
    "         set(np.where(transposed_x[_id])[0]) for _id in candidates_ids\n",
    "    ]\n",
    "    \n",
    "    #找出同时存在query中所有词的 文章的索引号\n",
    "    merged_documents = reduce(and_, documents_ids)\n",
    "    \n",
    "    # we could know the documents which contain these words\n",
    "    # 计算 包含所有query的词的文章TFIDF值和 query的TFIDF的值的相似度\n",
    "    sorted_docuemtns_id = sorted(merged_documents, key=lambda i: distance(query_vec, X[i].toarray()))\n",
    "\n",
    "    return sorted_docuemtns_id"
   ]
  },
  {
   "cell_type": "markdown",
   "metadata": {},
   "source": [
    "### 找到document里面的words并加粗显示"
   ]
  },
  {
   "cell_type": "code",
   "execution_count": 57,
   "metadata": {},
   "outputs": [],
   "source": [
    "query = '美联储 加息 次数'\n",
    "#search_engine(query)"
   ]
  },
  {
   "cell_type": "code",
   "execution_count": 59,
   "metadata": {},
   "outputs": [
    {
     "data": {
      "text/plain": [
       "[2189]"
      ]
     },
     "execution_count": 59,
     "metadata": {},
     "output_type": "execute_result"
    }
   ],
   "source": [
    "search_engine(query)"
   ]
  },
  {
   "cell_type": "code",
   "execution_count": 60,
   "metadata": {},
   "outputs": [],
   "source": [
    "import re"
   ]
  },
  {
   "cell_type": "code",
   "execution_count": 65,
   "metadata": {},
   "outputs": [],
   "source": [
    "re.compile??"
   ]
  },
  {
   "cell_type": "code",
   "execution_count": 61,
   "metadata": {},
   "outputs": [
    {
     "data": {
      "text/plain": [
       "'美国有线电视**新闻**网援**新闻****官员**引美国军方**官员**的话说'"
      ]
     },
     "execution_count": 61,
     "metadata": {},
     "output_type": "execute_result"
    }
   ],
   "source": [
    "text = \"\"\"美国有线电视新闻网援新闻官员引美国军方官员的话说\"\"\"\n",
    "pat = r'(新闻|官员)'\n",
    "re.compile(pat).sub(repl=\"**\\g<1>**\", string=text) # \\g<1> 代表前面pattern里面第一个分组在这里就是(新闻|官员)"
   ]
  },
  {
   "cell_type": "code",
   "execution_count": 62,
   "metadata": {},
   "outputs": [],
   "source": [
    "def get_query_pat(query):\n",
    "    return re.compile('({})'.format('|'.join(query.split())))"
   ]
  },
  {
   "cell_type": "code",
   "execution_count": 63,
   "metadata": {},
   "outputs": [
    {
     "data": {
      "text/plain": [
       "re.compile(r'(美联储|加息|次数)', re.UNICODE)"
      ]
     },
     "execution_count": 63,
     "metadata": {},
     "output_type": "execute_result"
    }
   ],
   "source": [
    "query = '美联储 加息 次数'\n",
    "get_query_pat(query)"
   ]
  },
  {
   "cell_type": "code",
   "execution_count": 66,
   "metadata": {},
   "outputs": [],
   "source": [
    "#对文中的pat中所compile得元素进行加粗处理，即文字前后加 **\n",
    "def highlight_keywords(pat, document):\n",
    "    return pat.sub(repl=\"**\\g<1>**\", string=document) "
   ]
  },
  {
   "cell_type": "code",
   "execution_count": 67,
   "metadata": {},
   "outputs": [
    {
     "data": {
      "text/plain": [
       "'新华社北京４月１０日电新闻分析卡尔文森号**航母**缘何成西太平洋军情新主角n新华社记者刘莉莉n美国海军第三舰队下属的卡尔文森号**航母**打击群即将抵达西太平洋朝鲜半岛附近水域分析人士认为美方此次急调**航母**打击群北上向朝鲜施压意图明显很可能会加剧朝鲜半岛紧张局势n小标题侧重对地攻击n据第三舰队网站主页发布的消息**美军**太平洋**司令**部**司令**哈里哈里斯指示卡尔文森号**航母**打击群从新加坡向北航行这一打击群还包括海军第二航空队两艘阿利伯克级导弹驱逐舰和一艘泰孔德罗加级导弹巡洋舰n卡尔文森号是尼米兹级核动力**航母**母港位于美国加利福尼亚州的圣迭戈今年１月初卡尔文森号曾前往西太平洋地区执行任务并参与美日韩三国军事演习尼米兹级**航母**是核动力多用途**航母**也是美国海军远洋作战群的核心力量n卡尔文森**航母**打击群中阿利伯克级导弹驱逐舰和泰孔德罗加级导弹巡洋舰也不可小视阿利伯克级导弹驱逐舰是世界上最先配备四面相控阵雷达的驱逐舰舰队防空是其主要作战任务泰孔德罗加级导弹巡洋舰的武器配备也比较全面涵盖了反潜反舰防空和对地４个种类n据军事专业人士介绍**航母**打击群与**航母**战斗群其实是两个概念战斗群侧重于夺取制海权例如海战而**航母**打击群更侧重于对地攻击作战一般而言打击群的舰艇数量要远少于战斗群n小标题配角跻身主角n第三舰队是美国海军太平洋舰队两大舰队之一拥有４个**航母**打击群分别是以卡尔文森号为核心的第一**航母**打击群以约翰斯坦尼斯号为核心的第三**航母**打击群以西奥多罗斯福号为核心的第九**航母**打击群和以尼米兹号为核心的第十一**航母**打击群n资深军事评论员石宏说在美国海军力量中第三舰队原本地位一般因为其所管辖的国际日期变更线以东的东太平洋比较安稳所以更多扮演战略预备队的配角角色只有在负责执行前沿部署和应急反应任务的第七舰队有需要时第三舰队才会奉令前去换班或增援但自２０１５年下半年以来太平洋舰队打破了延续数十年的惯例大幅提升第三舰队的活跃度令其开始更多涉足西太平洋地区n实际上这是**美军**根据新的全球一体化军事战略而做的调整目的是优化资源改变本土与前沿的兵力平衡缓解目前美国海军兵力不足与战线过长资源下滑与保持战备之间的尖锐矛盾石宏说n正因如此卡尔文森号**航母**开始忙碌起来自从今年１月离开母港后卡尔文森号边走边练特别是在夏威夷和关岛水域与当地驻扎部队进行了多轮演训２月１８日卡尔文森号**航母**进入南海水域进行所谓巡航３月１５日卡尔文森号抵达韩国釜山随后在２０日参加了美韩关键决断联合军演４月４日卡尔文森号抵达新加坡原本计划南下前往澳大利亚但随后接到再度北上命令赶往朝鲜半岛附近海域n小标题或在火上浇油n一名不愿公开姓名的五角大楼官员告诉美国有线电视新闻网卡尔文森号**航母**打击群驶向西太平洋的朝鲜半岛水域旨在对近期朝鲜的挑衅行为作出回应n包括卡尔文森号在内的美国海军新近动向引起各方关注不少人担心这一行动将给半岛紧张局势火上浇油俄罗斯议会上院防务和安全委员会主席维克托奥泽罗夫警告说美国动作可能会刺激朝鲜方面作出急躁反应n石宏认为美国急调卡尔文森号**航母**打击群赶赴半岛附近水域是想通过军事施压迫使朝鲜放弃进行新一轮核试验的打算但从以往经验看美国用不断加码的军事威慑不仅不会让半岛局势降温反而会刺激朝鲜越发强硬完'"
      ]
     },
     "execution_count": 67,
     "metadata": {},
     "output_type": "execute_result"
    }
   ],
   "source": [
    "highlight_keywords(get_query_pat('美军 司令 航母'), ''.join(token_list[22987]))"
   ]
  },
  {
   "cell_type": "code",
   "execution_count": 68,
   "metadata": {},
   "outputs": [],
   "source": [
    "from IPython.display import display, Markdown"
   ]
  },
  {
   "cell_type": "code",
   "execution_count": 69,
   "metadata": {},
   "outputs": [],
   "source": [
    "#找到与query词相似的文章，并在文章中加粗query中所含的单词\n",
    "def search_engine_with_pretty_print(query):\n",
    "    candidates_ids = search_engine(query)\n",
    "    for i, _id in enumerate(candidates_ids):\n",
    "        title = '## Search Result {}'.format(i)\n",
    "        c = ''.join(token_list[_id])  #c = content['content'][_id] 因为这里没导入content文件，直接用token合并进行处理\n",
    "        #print(c)\n",
    "        c = highlight_keywords(get_query_pat(query), c)    \n",
    "        \n",
    "        display(Markdown(title + '\\n' + c))"
   ]
  },
  {
   "cell_type": "code",
   "execution_count": 70,
   "metadata": {},
   "outputs": [
    {
     "data": {
      "text/markdown": [
       "美国有线电视**新闻**网援**新闻****官员**引美国军方**官员**的话说"
      ],
      "text/plain": [
       "<IPython.core.display.Markdown object>"
      ]
     },
     "execution_count": 70,
     "metadata": {},
     "output_type": "execute_result"
    }
   ],
   "source": [
    "Markdown('美国有线电视**新闻**网援**新闻****官员**引美国军方**官员**的话说') #连在一起会出现这个问题"
   ]
  },
  {
   "cell_type": "code",
   "execution_count": 71,
   "metadata": {},
   "outputs": [
    {
     "data": {
      "text/markdown": [
       "## Search Result 0\n",
       "最近不少人在朋友圈等个人社交媒体上吐槽打车难人们发现不仅在早晚高峰甚至是传统的非高峰时段都出现了路上扬招成功率越来越低打车软件不加价或是加价少难以吸引司机接单的情况而类似的情况在上海北京武汉等地都或多或少地存在对此一些城市迅游车的驾驶员们表示历年**春节**前都会遇到活多车少的情况对司机而言能加价赚到钱何乐而不为呢21日晚8点滴滴高级产品总监罗文在知乎上发文回应称根据后台数据显示今年司机回家早运力下降在其晒出有关滴滴在线司机数据和北京订单需求的两张手绘图表中虽然隐去了具体数值但可以明显看出前一张图表近期呈现了直线下降趋势标注数据显示下降超过25而出行订单数量则同期上涨了3成不过在线司机变少的情况仅仅是因为临近**假期**专车司机纷纷提早回家过年造成的吗相关数据显示自去年国庆之后地方版网约车新政陆续出台后市场上的网约车供给量就呈现出大幅减少的趋势以上海为例网约车新政之后上海合规的网约车数量只有1万辆左右市场供给大幅减少打车难开始悄然回潮与此同时网约车市场过度集中部分平台一家独大也让消费者瞬间难以从补贴优惠的温情脉脉中回过神来瞬间跌入了加价才能叫到车的冰冷现实中一位Uber中国早期员工指出滴滴打车软件自动设置了加价选项即便第一次加价没被接单还可以再次加价叫车司机知道用户可以多次选择加价就有意不接那些不加价的单子他知道你叫不到车就会提高小费就故意等着于是这个潜规则的结果就是乘客反复加价才能叫到车既浪费了时间也付了更多的钱对于近日有消费者称打车难打车贵的问题23日下午滴滴出行官方微博发布致广大用户的一封信表示将从即日起在全国范围内阶段性取消出租车建议调度费功能以减少因为春运期间本身供不应求和价格因素带来的体验问题滴滴方面表示此举将有可能给部分乘客带来呼叫等待时间的增加以及打车成功率降低的影响不过为了鼓励在**春节**期间坚持出车的司机师傅仍会保留用户主动给予调度费的功能**春节**过后会根据用户的反馈再做决策并强调所有调度费滴滴分文不取"
      ],
      "text/plain": [
       "<IPython.core.display.Markdown object>"
      ]
     },
     "metadata": {},
     "output_type": "display_data"
    },
    {
     "data": {
      "text/markdown": [
       "## Search Result 1\n",
       "n新华社上海4月4日新媒体专电题中国人愿意为旅游投入更多时间和金钱n新华社记者陈爱平许晓青n28岁的上海白领林夏今年清明节没有留在家乡而是提前请了年假赴印度洋上的岛国斯里兰卡自助游n一个人全部花费不超过1万元人民币约等于一个月的工资完全可以负担得起她说n对于不少中国人来说旅游已经成为一种生活必需品nn图为在上海市徐汇区的一家旅行社门店一位市民询问欧洲游情况新华社记者陈爱平摄nn除了扫墓祭祖踏青赏花中国的清明节**假期**也成为出游旺季国内游出境游人数都不可小觑n前不久记者来到上海市黄浦区出入境办证中心大厅工作人员说今年以来前来办理出入境证件的居民络绎不绝尤其是祖孙三代一起来办理证件的全家出行者增多除了**春节**七天长假还有清明五一端午等三天左右的小长假这些**假期**到来前的一个月突击办理出入境证件的居民往往会扎堆n中国2016年国民经济和社会发展统计公报显示2016年全国国内游客44亿人次比上年增长112国内居民出境13513万人次增长57n旅游消费旺盛的趋势在2017年开年后仍然延续根据中国国家旅游局数据中心综合测算2017年**春节**期间全国共接待游客344亿人次同比增长138实现旅游总收入4233亿元同比增长159nn斯里兰卡的狮子岩景区由林夏提供nn远在北欧的瑞典当地的旅游主管部门也感受到了中国人越来越高涨的出游热情n统计显示2017年1月中国游客在瑞典全国的间夜量衡量酒店在一定时间内出租率的计算单位同比增长742同期瑞典首都斯德哥尔摩总间夜量增长超过10其中中国游客增长幅度最为显著高达82n瑞典旅游局中国区首席代表李春梅表示瑞典冬季旅游市场在中国发展迅速得益于中国游客对于新鲜目的地和独特旅游体验的旺盛需求n在线旅行社携程旅行网近日发布的2017中国旅游者意愿调查报告研判中国人愿意为旅游投入更多的时间和金钱n报告称2017年98的受访者有出游意愿其中计划出行频次13次的受访者占比72计划出行46次的受访者占比19n作为一种必需品旅游正成为中国人消费的重要支出同是携程这份根据25亿会员进行的随机抽样调查及大数据分析报告显示57的受访者预计全年旅游花费占年收入的10以上19的受访者甚至愿意将20的年收入用于旅游从具体金额来看73的受访者表示全年旅游人均花费将超过1万元nn超过5成受访者预计全年旅游花费占年收入的１０以上由携程旅行网提供nn林夏在接受采访时也证实自己花费在旅游上的年均消费大约为2万元n专家分析随着中国居民收入提升在旅游方面的支出提升成为居民消费升级的例证多花一点钱可以多体验一点旅行的幸福感这成为大部分游客的一项共识n也正是基于上述原因多家在线旅行社大数据显示越来越多的中国居民愿意选择更舒适的酒店体验美食和享受服务旅游产品亦更加多样化定制游自由行等选择空间更大亲子游中老年游等满足社会多层次需求的旅游产品在2017年将持续火爆n从出行时间看携程报告显示随着带薪休假制度的落实以及中国居民出行观念的改变利用年假周末出游的受访者分别占比527及19n清明节**假期**仅4月2日当天上海顾村公园就刷新了接待游客纪录迎来1829万人驴妈妈旅游网分析今年国内赏樱游人次预计同比增长近7成n驴妈妈旅游网介绍赏花亦是近期出境旅游的热词之一清明节前后赴日赏樱游预订人次较去年同期增加了近3成nn无锡十八湾风景区赏花游人络绎不绝由驴妈妈旅游网提供nn上海财经大学旅游管理系主任何建民分析旅游成为中国居民的必需品亦成为中国国民经济的必需品见证着中国正在推进的供给侧改革n中国国家旅游局数据显示全国旅游直接投资在2016年达到12997亿元同比增长2905而据联合国世界旅游组织测算2016年中国旅游业对国民经济综合贡献率达11对社会就业综合贡献超过1026n此前中国发布的十三五旅游业发展规划提出十三五时期旅游业对国民经济的综合贡献度达到12对餐饮住宿民航铁路客运业的综合贡献率达到85以上年均新增旅游就业人数100万人以上n今年3月初公布的十三五全国旅游公共服务规划重点部署了未来旅游公共服务发展的16项重点工程专家认为这将为中国居民出游提供更好保障n我计划每年至少到境外旅游一次这样在下一次更换护照的时候又会收集到更多各国特色的出入境签证及印章加上国内游短途游今后还会花更多钱和时间去享受旅行林夏说n"
      ],
      "text/plain": [
       "<IPython.core.display.Markdown object>"
      ]
     },
     "metadata": {},
     "output_type": "display_data"
    },
    {
     "data": {
      "text/markdown": [
       "## Search Result 2\n",
       "新华社北京3月31日电记者魏梦佳钟雅记者31日从北京市公园管理中心获悉今年清明假日期间北京市属11家公园及中国园林博物馆将举办25项假日游园活动其中各大公园内总面积近1000公顷的主题赏花景区将掀起市民游客游园赏花热潮n目前北京各大公园内一片春意盎然各类春花正热闹绽放北京市公园管理中心表示今年春季市属11家公园的春花观赏面积达到了园内绿地面积的70除了常年定植的四季花木各园还采用了花期调控精品盆栽室内花展等多种技术手段和展示方式使今春花卉布置总面积增加近10n今年清明**假期**各园近千公顷的赏花景区将成为市民游客度假的首选玉渊潭公园的樱花节陶然亭公园的海棠春花节中山公园的郁金香展北京植物园的桃花节等**春节**赏花活动都已展开各色春花依山傍水争相吐艳本周末还将迎来新一轮盛花期其中陶然亭公园栽植和展出的海棠达45个品种3000多株n除赏花外清明诗会民俗展示文化展演主题纪念等多种展示清明文化的活动也将在陶然亭公园玉渊潭公园中国园林博物馆等上演香山公园双清别墅中山公园孙中山像等13处北京公园爱国主义教育基地也将迎来大批前来缅怀祭扫的游客市民清明期间各公园内的祭扫纪念景区将市民及团体提供讲解举行纪念仪式牌示导览等服务完n"
      ],
      "text/plain": [
       "<IPython.core.display.Markdown object>"
      ]
     },
     "metadata": {},
     "output_type": "display_data"
    },
    {
     "data": {
      "text/markdown": [
       "## Search Result 3\n",
       "即将进入7月对于城市学生而言美好的暑假又如期而至了而对于另一群人留守儿童而言迎接他们的却是一个冷清的**假期**离开了学校没有了老师和同学的陪伴也没有父母的守护他们的**假期**是孤单而乏味的记者从清远相关部门获悉清远农村留守儿童约239万名数量在全省排名第四留守儿童长期缺乏亲情关爱和有效保护处境堪忧为做好农村留守儿童关爱保护工作促进农村留守儿童健康成长近年来清远不断完善制度方案为留守儿童撑起保护伞就在今年4月份清远市政府常务会议审议了清远市关于加强农村留守儿童关爱保护工作的实施方案稿提出建立考核机制强化激励问责对成效明显的按照国家有关规定予以激励对工作不力措施不实造成不良影响的按规定追究相关人员的党纪政纪责任造成严重后果的将对有关领导进行问责清远市心理学会会长张万英认为不能让留守儿童成为缺爱儿童不能经常和孩子在一起生活的父母要争取多与孩子保持常态联系不要让留守儿童成为无助儿童政府要完善社区中留守儿童服务的功能关注学生成长中遇到的生理心理问题采写整理魏金锋半年难见爹和娘的无奈每年七八月间都是清远最热的时段而往日喧闹的校园一到这时便进入**假期**一片沉寂留守儿童真凄凉半年难见爹和娘放学回家忙家务夜里梦中唤爹娘是农村留守儿童的真实写照在粤北山区的清远市农村半年难见爹和娘的儿童实在是太普遍了为了给家人更好的生活环境许多青壮年选择了背井离乡他们像候鸟一样每年**春节**刚过便飞向沿海各个城市打工直到下一个**春节**的到来半年甚至几年不回家也是常有的事对于很多父母在外务工的农村留守儿童而言无论是留在家里还是到父母身边团聚怎样度过长达两个月的暑假都是个难题一位经常在清远参加各种公益活动的志愿者刘小姐说很多次当他们乘坐的车子进入到村头时就像突然注入了活力一般孩子们三三两两飞奔过来小村瞬间变得生动起来孩子们好奇地围着大巴转因为他们盼望父母会从车上走下来可惜不是目前清远农村留守儿童数量在全省排名第四留守儿童因为家庭环境的特殊性在性格方面容易出现孤僻偏激冲动攻击性比较强等缺陷而亲情的缺乏和监管的缺失让他们更容易受到外界因素的伤害笔者走访了解到喜的是由于父母不在身边不少留守儿童在艰难的环境中早早学会了生存的技能变得顽强独立忧的是个别留守儿童因为缺乏大人监管安全隐患重重留守儿童也牵动着政府的心近年来清远各地通过政府购买服务等形式探索和创新解决留守儿童问题的方式和途径取得一定成效但依旧任重道远还需不断健全关爱留守儿童的法律和政策体系强化父母法定监护责任等途径缓解留守儿童问题亲情缺失监管缺乏的隐患由于外出打工的父母长年累月难得有机会回一趟家留守儿童缺乏父母的监护和保护往往容易遭受伤害比如溺水烧伤车祸甚至是性侵等等其实我们也知道父母长期不在家对孩子的身心健康和学习会带来负面影响但这是痛苦无奈的选择家住清远阳山的何先生夫妇感慨良多他家有一双儿女由于家里田地少经济窘困在小女儿断奶后就把孩子留给年迈的父母抚养夫妇俩到了佛山打工一干就是9年多每半年夫妻俩才轮流回家一两天9年过去了夫妻俩好不容易挣了一些钱去年回家盖起了新楼并添置了一批家用电器可谁知由于他俩长年不在家两个孩子对父母的感情似乎都很生疏大儿子经常逃学小小年纪学会了抽烟饮酒让这何先生夫妇非常伤心业内人士指出留守儿童之所以容易出问题主要还是思想道德教育得不到足够的重视由于学校师资力量及父母不在身边教育的原因留守儿童思想道德教育被严重忽视隔代监护人大多忙于务农无暇教育儿童而且隔代监护人由于自身素质限制教育水平不高手段不当不少留守儿童隔代监护人采取暴力手段教育儿童错误的教育方式导致错误的教育成果此外由于农村师资力量水平的限制留守儿童在音乐美术舞蹈等艺术类学习上机会非常少甚至是基本空白乡村小学对体育课心理健康教育课的师资投入极少留守儿童长期得不到心理生理健康教育上的辅导导致容易出现沉迷网络电视及抽烟喝酒等不良习惯让留守儿童的暑假不再孤单张万英认为留守儿童因为家庭环境的特殊性在性格方面容易出现孤僻偏激冲动攻击性比较强等缺陷人格上容易出现精神问题如抑郁症焦虑恐惧人际交往障碍等在学习方面容易出现学习落后缺乏动力等跟家庭关系也会相对紧张容易跟家里人产生冲突难以和谐相处农村留守儿童问题需要家庭学校和社会的共同努力一是加快新农村建设和小城镇建设吸引外出农民工返乡就业创业使留守儿童能够与父母团聚二是学校要加强对留守儿童的关爱和照顾可通过及时家访定时为孩子做心理疏导等方式多方位关爱留守儿童的身心健康三是政府要健全关爱留守儿童的法律和政策体系完善监护制度和国家救助体系强化父母法定监护责任张万英认为不要让留守儿童成为缺爱儿童不能经常和孩子在一起生活的父母要争取多与孩子保持常态联系经常打电话关心孩子了解他们的心理需要给予更多的心理关爱如发现自己孩子出现异常行为要及时和孩子沟通避免孩子走上极端的道路业内人士指出相对于父母在身边的孩子不同留守儿童的暑假一般只有三个选择而这三个选择都潜伏着很大的安全隐患一是乘车前往父母所在地与父母一起度过**假期**旅途比较危险尤其是独自前往二是在家帮助爷爷奶奶干活小小年纪很容易出现安全事故三是自由安排这是最危险的没有大人看护孩子极有可能出事该业内人士建议要给孩子制定好科学作息时间有大人在家的应该严厉监督别让孩子养成坏习惯在制定作息时间时父母们应该以少量平均的安排学习任务避免孩子荒废学业有大人家督可以很好地防止孩子到处乱跑引发安全事故因为暑假不像平时在学校孩子有同学朋友相伴长时间的呆在家里孩子很容易孤单这需要父母的关怀来开解不然很容易让孩子的叛逆情绪增长起来甚至让孩子逐渐自闭此外不妨借用智能设备掌握孩子行踪避免孩子靠近危险地带或出入禁止未成年人进入的场所把影响孩子成长的一切不安因素拒之千里聚焦超6个月不履行职责或撤销监护资格清远市关于加强农村留守儿童关爱保护工作的实施方案指出建立农村留守儿童摸底排查机制按照属地管理分级负责的原则建立县镇村居委会关爱农村留守儿童三级工作服务网络建立农村留守儿童发现报告机制民政部门要会同财政教育卫计公安住建团委等部门和单位建立社会参与面广覆盖面大渠道顺畅和相应快速的留守儿童报告网络制定留守儿童信息报告激励办法鼓励社会各界积极参与留守儿童关爱保护工作对实施家庭暴力虐待或遗弃农村家庭留守儿童的父母或受委托监护人公安机关应当给予批评教育必要时给予治安管理处罚情节恶劣构成犯罪的依法立案侦查对于监护人将农村留守儿童置于无人监管和照看状态导致其面临危险且经教育不改的或者拒不履行监护职责6个月以上导致农村留守儿童生活无着的或者实施家庭暴力虐待或遗弃农村留守儿童导致其身心健康严重受损的其近亲属村居委会县民政部门等有关人员或单位要依法向人民法院申请撤销监护人资格另行指定监护人方案指出父母要依法履行对未成年子女的监护职责和抚养义务外出务工人员要尽量携带未成年子女共同生活或父母一方留家照料暂不具备条件的应当委托有监护能力的亲属或其他成年人代为监护不得让未满16周岁的儿童脱离监护单独居住生活外出务工时父母要向当地村居委会报告外出务工及留守儿童委托监护人的情况父母或其他监护人不依法履行监护职责村居委会公安机关和有关部门要及时上门予以劝诫制止情节严重或造成严重后果的公安机关等要依法追究其责任强化家庭监护主体责任加大教育部门和学校关爱保护力度各县级政府要完善控辍保学部门协调机制督促监护人送适龄儿童少年入学并完成义务教育教育部门要负责落实免费义务教育和教育资助政策确保农村留守儿童不因贫困而失学改善留守儿童教育条件加强留守儿童教育基础设施建设优化农村义务教育学校布局关注如何防止留守儿童溺亡悲剧清远是依山傍水的城市每到夏季游泳是不少人的至爱尤其在学生放**假期**间江河边戏水似乎成了一种不可或缺的乐趣可惜几乎每年都有学生溺水身亡的事故发生留守儿童的安全一直是个大问题在上学时有学校的约束还好可是一旦放假后父母又不在身边家里老人又看不住孩子孩子的身边就像埋藏了无数颗炸弹而且儿童自救能力较差不少去玩水的儿童都不会游泳但在同伴邀约下冒险下水嬉戏溺水后由于同伴大多年纪小能力有限一旦遇险惊慌失措难以互救极易发生群体溺亡事故笔者从清远市教育部门获悉近年来清远全市因溺水事故死亡学生每年都有10人左右占所有非正常死亡学生数的大约一半为此今年5月份召开的清远全市防溺水视频工作会议强调各地各部门要把预防学生溺水工作纳入当前重要议事日程抓好辖区内中小学幼儿园安全管理加强安全宣传教育强化周边水域排查加强隐患整改对因制度不健全管理不到位责任不落实导致安全责任事故的将按照有关规定严肃追究相关人员的责任学校还要会同村委会社区居委会做好校园及其周边溺水安全隐患的排查一方面要在校内水池河道沟渠等易发生溺水的地方设置警示标志加强防护设施另一方面要通过教师学生家长或社区居委会村委会摸清学校周边各类江河池塘溪流等水域的安全隐患在校内提前对学生进行安全警示据悉清远市政府将组织相关人员成立督查组对各地及相关部门的防溺水工作落实情况进行督查对发生安全事故的要按照四不放过原则加强责任追究对因制度不健全管理不到位责任不落实导致安全责任事故的要按照有关规定严肃追究相关人员的责任"
      ],
      "text/plain": [
       "<IPython.core.display.Markdown object>"
      ]
     },
     "metadata": {},
     "output_type": "display_data"
    },
    {
     "data": {
      "text/markdown": [
       "## Search Result 4\n",
       "中国新闻nn公鉴关于新华全媒新闻服务平台上线的公告nn脱贫攻坚6云南禄劝苗寨村民易地搬迁过上新生活nn新华社摄影部今日重要稿件预告nn图片故事10挠挠所长履职记nn新华视点图片版2港珠澳大桥岛隧工程海底隧道的最终接头对接完成nn法治8中意警方在沪联合巡逻nn时代先锋图文互动5仰望最亮星勿忘造星人记航天科技集团五院通信卫星创新团队nn文化8民族翰骨潘天寿诞辰120周年纪念大展在京开幕nn文化2校园里的朗读者nn图文互动5台籍青年教师黄志伟我在武汉找到了舞台新华旺中台胞在大陆联合采访报道之二nn一带一路5一带一路好日子元旦nn一带一路5一带一路好日子**春节**nn一带一路5一带一路好日子泼水节nn一带一路4一带一路好日子洒红节nn一带一路4一带一路好日子诺鲁孜节nn社会2铁路青年工地约会觅良缘nn经济河北宣化发展现代农业助农增收nn经济2河北宣化打造高端装备制造产业集群nn服务3西安高速公路收费站开通手机支付业务nn文化3东京审判为了世界和平一书国内首发nn社会2校园倡清风nn社会3重温入团誓词传承五四精神nn体育2排球朱婷回乡与媒体球迷互动nn社会4扎根农村干事业村官摸索致富路nn体育1自行车第五届环巴松措国际山地自行车赛落幕nn社会4高铁微客服受旅客欢迎nn时政张高丽会见阿联酋外交与国际合作部长阿卜杜拉nn新华全媒头条图文互动10港珠澳大桥全线贯通在即粤港澳大湾区加速起航nn社会2辽宁海警开展清查整治三无船舶专项行动nn环境乌鲁木齐遭遇短时雨雪冰雹天气nn社会5港珠澳大桥工程上的大国重器nn体育2足球足协杯杭州绿城胜辽宁开新nn经济3三峡船闸累计货运量突破10亿吨nn社会3内蒙古大兴安岭北部火场外线合围明火被扑灭nn环境3湖北宣恩鸽子花悄然开放nn社会4山西永济鹳雀楼前旗袍秀nn图片故事7苗乡90后草根乐队寻梦记nnn国际新闻nnXHDW2奥地利外长访问利比亚nn国际5德国一快速列车在多特蒙德中央火车站发生出轨事故nn国际5非洲火人节收官nn新华视界10在纽约寄兴园体验中国园林之美nn国际10在纽约寄兴园体验中国园林之美nnXHDW重庆芭蕾舞团参加阿尔及利亚国际现代舞艺术节nn国际10美国各地民众举行劳动节游行nn国际3圣彼得堡举行五一劳动节游行nn国际哈马斯发布新政策文件接受划界建国nn一带一路好项目7蒙内铁路肯尼亚的铁路中国造nnXHDW3第48届休斯敦国际海洋油气技术大会及设备展开幕nn国际图文互动专访中国的发展将对欧洲未来发展产生重大影响访匈牙利外交与对外经济部长西亚尔托nn国际图文互动3走进挪威峡湾深处的书镇nn国际中国海军远航访问编队结束访问离开菲律宾nnXHDW5昂山素季访问欧盟nn国际6科学家丁肇中的日常生活nn国际9韩国举行最后一次总统候选人电视辩论nn国际4以色列庆祝独立日nn新华视界5以色列庆祝独立日nn一带一路好项目11中国企业承建特拉维夫轻轨项目nn国际5德国一快速列车在多特蒙德中央火车站发生出轨事故nn国际5非洲火人节收官nn国际10在纽约寄兴园体验中国园林之美nn国际10美国各地民众举行劳动节游行nn国际3圣彼得堡举行五一劳动节游行nn国际哈马斯发布新政策文件接受划界建国nn一带一路好项目7蒙内铁路肯尼亚的铁路中国造nn国际图文互动专访中国的发展将对欧洲未来发展产生重大影响访匈牙利外交与对外经济部长西亚尔托nn新华社摄影部2017年05月02日白班发稿目录国际对内nn国际图文互动3走进挪威峡湾深处的书镇nn国际中国海军远航访问编队结束访问离开菲律宾nn国际6科学家丁肇中的日常生活nn国际9韩国举行最后一次总统候选人电视辩论nn国际4以色列庆祝独立日nn一带一路好项目11中国企业承建特拉维夫轻轨项目nnn体育专线nn一发专线稿件n体育8斯诺克塞尔比夺得世锦赛冠军n体育6足球英超联赛利物浦客场告捷n体育6篮球NBA季后赛火箭胜马刺n体育7篮球NBA季后赛骑士胜猛龙n体育5排球朱婷回乡与媒体球迷互动n体育2自行车第五届环巴松措国际山地自行车赛落幕n体育5足球在葡萄牙托里什人队训练的中国小球员n体育8足球足协杯呼和浩特小草胜长春亚泰n体育5足球足协杯杭州绿城胜辽宁开新n体育7足球足协杯山东鲁能胜吉林百嘉nn二发对外稿件nXHDW体育10篮球香港甲一男子篮球联赛赛况nnn图表专线nn公鉴关于新华全媒新闻服务平台上线的公告nn图表财经股市纽约股市涨跌互现nn图表财经金价纽约金价1日大幅下跌nn图表财经油价纽约油价1日下跌nn图表突发事件哥伦比亚一军用飞机坠毁nn图表科技科普冥想有助集中精力nn新华社摄影部2017年05月02日白天发稿目录图表专线nn图表关注五一五一**假期**全国铁路发送旅客近4900万人次nn图表漫画财经聚焦美化nn图表漫画财经聚焦突击增长nn图表漫画科技成功破译nn图表科技月掩恒星轩辕十四罕见天象5月4日上演nn图表经济美财长说美国经济有望实现3增长目标nn图表漫画新华视点签约nn图表漫画解读经济开局季民生工程精神敬老nn图表受权发布国务院关于修改大中型水利水电工程建设征地补偿和移民安置条例的决定nn图表漫画解读经济开局季民生工程精神孤独nn图表财经动态深圳新房均价出现七连跌4月成交量环比大涨146nn图表经济财政部物流企业大宗商品仓储用地土地使用税享50优惠nnn外代图片一线nn外代一线9德国一快速列车在多特蒙德中央火车站发生出轨事故nn外代一线10美国得州一大学校园发生持刀扎人事件nn外代一线5阿联酋与德国讨论地区安全形势nn外代一线12马杜罗宣布将启动制宪大会重新制定宪法nn外代一线2奥地利外长表示将继续支持利比亚民族团结政府nn外代一线6哈马斯发布新政策文件接受划界建国nn外代一线7加拿大多伦多金融区传出爆炸声nn新华社摄影部2017年05月02日白班发稿目录外代图片一线nn外代一线9摩苏尔战事nn外代一线18特朗普说愿在合适情况下与金正恩会面nn外代一线2朴槿惠案首次预审在首尔举行辩方律师否认全部指控nn外代一线5昂山素季访问欧盟nn外代一线4韩国举行最后一次总统候选人电视辩论nn外代一线13以色列庆祝独立日nnn外代图片二线nn外代二线印度传统婚嫁日nn1外代二线城市里的农民nn2外代二线城市里的农民nn3外代二线城市里的农民nn4外代二线城市里的农民nn5外代二线城市里的农民nn6外代二线城市里的农民nn7外代二线城市里的农民nn8外代二线城市里的农民nn9外代二线城市里的农民nn6外代二线戈马舞蹈节nn1外代二线彩色烟雾nn2外代二线彩色烟雾nn3外代二线彩色烟雾nn4外代二线彩色烟雾nn5外代二线彩色烟雾nn6外代二线彩色烟雾nn7外代二线彩色烟雾nn6外代二线墨西哥航空航天展闭幕表演nn7外代二线墨西哥航空航天展闭幕表演nn8外代二线墨西哥航空航天展闭幕表演nn1外代二线墨西哥航空航天展闭幕表演nn2外代二线墨西哥航空航天展闭幕表演nn3外代二线墨西哥航空航天展闭幕表演nn4外代二线墨西哥航空航天展闭幕表演nn5外代二线墨西哥航空航天展闭幕表演nn10外代二线戈马舞蹈节nn3外代二线福塔莱萨海滨风光nn4外代二线福塔莱萨海滨风光nn1外代二线福塔莱萨海滨风光nn2外代二线福塔莱萨海滨风光nn1外代二线俄罗斯摩托车节表演nn2外代二线俄罗斯摩托车节表演nn3外代二线俄罗斯摩托车节表演nn4外代二线俄罗斯摩托车节表演nn5外代二线俄罗斯摩托车节表演nn6外代二线俄罗斯摩托车节表演nn7外代二线俄罗斯摩托车节表演nn1外代二线波兰举行第24届蒸汽机车游行nn2外代二线波兰举行第24届蒸汽机车游行nn3外代二线波兰举行第24届蒸汽机车游行nn4外代二线波兰举行第24届蒸汽机车游行nn5外代二线波兰举行第24届蒸汽机车游行nn6外代二线波兰举行第24届蒸汽机车游行nn7外代二线波兰举行第24届蒸汽机车游行nn8外代二线波兰举行第24届蒸汽机车游行nn9外代二线波兰举行第24届蒸汽机车游行nn10外代二线波兰举行第24届蒸汽机车游行nn11外代二线波兰举行第24届蒸汽机车游行nn12外代二线波兰举行第24届蒸汽机车游行nn13外代二线波兰举行第24届蒸汽机车游行nn14外代二线波兰举行第24届蒸汽机车游行nn15外代二线波兰举行第24届蒸汽机车游行nn16外代二线波兰举行第24届蒸汽机车游行nn17外代二线波兰举行第24届蒸汽机车游行nn18外代二线波兰举行第24届蒸汽机车游行nn19外代二线波兰举行第24届蒸汽机车游行nn20外代二线波兰举行第24届蒸汽机车游行nn21外代二线波兰举行第24届蒸汽机车游行nn22外代二线波兰举行第24届蒸汽机车游行nn公鉴关于新华全媒新闻服务平台上线的公告nn2外代二线多彩花环nn3外代二线多彩花环nn4外代二线多彩花环nnnn新华社摄影部"
      ],
      "text/plain": [
       "<IPython.core.display.Markdown object>"
      ]
     },
     "metadata": {},
     "output_type": "display_data"
    }
   ],
   "source": [
    "query = '春节 假期'\n",
    "search_engine_with_pretty_print(query)"
   ]
  },
  {
   "cell_type": "markdown",
   "metadata": {},
   "source": [
    "## PageRank"
   ]
  },
  {
   "cell_type": "code",
   "execution_count": 73,
   "metadata": {},
   "outputs": [],
   "source": [
    "import networkx as nx"
   ]
  },
  {
   "cell_type": "code",
   "execution_count": 74,
   "metadata": {},
   "outputs": [],
   "source": [
    "import random"
   ]
  },
  {
   "cell_type": "code",
   "execution_count": 75,
   "metadata": {},
   "outputs": [],
   "source": [
    "from string import ascii_uppercase"
   ]
  },
  {
   "cell_type": "code",
   "execution_count": 76,
   "metadata": {},
   "outputs": [
    {
     "data": {
      "text/plain": [
       "'ABCDEFGHIJKLMNOPQRSTUVWXYZ'"
      ]
     },
     "execution_count": 76,
     "metadata": {},
     "output_type": "execute_result"
    }
   ],
   "source": [
    "ascii_uppercasepercase"
   ]
  },
  {
   "cell_type": "code",
   "execution_count": 77,
   "metadata": {},
   "outputs": [],
   "source": [
    "def generate_random_website():\n",
    "    return \"\".join([random.choice(ascii_uppercase) for _ in range(random.randint(3, 5))])+'.'+random.choice(['com','cn','net'])"
   ]
  },
  {
   "cell_type": "code",
   "execution_count": 78,
   "metadata": {},
   "outputs": [
    {
     "data": {
      "text/plain": [
       "'FKR.com'"
      ]
     },
     "execution_count": 78,
     "metadata": {},
     "output_type": "execute_result"
    }
   ],
   "source": [
    "generate_random_website()"
   ]
  },
  {
   "cell_type": "code",
   "execution_count": 79,
   "metadata": {},
   "outputs": [],
   "source": [
    "websites = [generate_random_website() for i in range(25)]"
   ]
  },
  {
   "cell_type": "code",
   "execution_count": 80,
   "metadata": {},
   "outputs": [
    {
     "data": {
      "text/plain": [
       "['NQM.cn',\n",
       " 'XPRS.com',\n",
       " 'EMAA.net',\n",
       " 'CPKTP.com',\n",
       " 'CFZPS.net',\n",
       " 'KHNV.net',\n",
       " 'OXQMC.cn',\n",
       " 'END.com',\n",
       " 'ZSOQN.com',\n",
       " 'LURCJ.com']"
      ]
     },
     "execution_count": 80,
     "metadata": {},
     "output_type": "execute_result"
    }
   ],
   "source": [
    "random.sample(websites, 10)"
   ]
  },
  {
   "cell_type": "code",
   "execution_count": 81,
   "metadata": {},
   "outputs": [],
   "source": [
    "website_connection = {\n",
    "    websites[0]: random.sample(websites, 10),\n",
    "    websites[1]: random.sample(websites, 5),\n",
    "    websites[2]: random.sample(websites, 7),\n",
    "    websites[4]: random.sample(websites, 2),\n",
    "    websites[5]: random.sample(websites, 1),\n",
    "}"
   ]
  },
  {
   "cell_type": "code",
   "execution_count": 82,
   "metadata": {},
   "outputs": [],
   "source": [
    "website_network = nx.graph.Graph(website_connection)"
   ]
  },
  {
   "cell_type": "code",
   "execution_count": 84,
   "metadata": {},
   "outputs": [],
   "source": [
    "import matplotlib.pyplot as plt"
   ]
  },
  {
   "cell_type": "code",
   "execution_count": 85,
   "metadata": {
    "scrolled": true
   },
   "outputs": [
    {
     "name": "stderr",
     "output_type": "stream",
     "text": [
      "C:\\Users\\WATERDROP\\Anaconda3\\lib\\site-packages\\networkx\\drawing\\nx_pylab.py:611: MatplotlibDeprecationWarning: isinstance(..., numbers.Number)\n",
      "  if cb.is_numlike(alpha):\n"
     ]
    },
    {
     "data": {
      "image/png": "[encoded data removed]",
      "text/plain": [
       "<Figure size 864x864 with 1 Axes>"
      ]
     },
     "metadata": {
      "needs_background": "light"
     },
     "output_type": "display_data"
    }
   ],
   "source": [
    "plt.figure(3, figsize=(12,12))\n",
    "nx.draw_networkx(website_network, font_size=10)"
   ]
  },
  {
   "cell_type": "code",
   "execution_count": 86,
   "metadata": {},
   "outputs": [
    {
     "data": {
      "text/plain": [
       "[('OXQMC.cn', 0.20518281840082545),\n",
       " ('FPO.cn', 0.1348680805278719),\n",
       " ('RBY.com', 0.09416726106820161),\n",
       " ('XZJEW.cn', 0.059956652748089145),\n",
       " ('BOVC.com', 0.05816011314717065),\n",
       " ('XPRS.com', 0.04297453484355794),\n",
       " ('LURCJ.com', 0.04297453484355794),\n",
       " ('VDEF.com', 0.04276170521182125),\n",
       " ('LPW.cn', 0.04215133290379691),\n",
       " ('END.com', 0.04178298919790549),\n",
       " ('ZSOQN.com', 0.04071923752597223),\n",
       " ('KHNV.net', 0.04071923752597223),\n",
       " ('NGJZ.cn', 0.025774208954531752),\n",
       " ('XDX.cn', 0.025774208954531752),\n",
       " ('CFZPS.net', 0.025774208954531752),\n",
       " ('SPNJG.net', 0.025774208954531752),\n",
       " ('CPKTP.com', 0.025774208954531752),\n",
       " ('LLS.net', 0.024710457282598495)]"
      ]
     },
     "execution_count": 86,
     "metadata": {},
     "output_type": "execute_result"
    }
   ],
   "source": [
    "sorted(nx.pagerank(website_network).items(), key=lambda x:x[1], reverse=True)"
   ]
  },
  {
   "cell_type": "code",
   "execution_count": null,
   "metadata": {},
   "outputs": [],
   "source": []
  }
 ],
 "metadata": {
  "kernelspec": {
   "display_name": "Python 3",
   "language": "python",
   "name": "python3"
  },
  "language_info": {
   "codemirror_mode": {
    "name": "ipython",
    "version": 3
   },
   "file_extension": ".py",
   "mimetype": "text/x-python",
   "name": "python",
   "nbconvert_exporter": "python",
   "pygments_lexer": "ipython3",
   "version": "3.7.3"
  },
  "toc": {
   "base_numbering": 1,
   "nav_menu": {},
   "number_sections": true,
   "sideBar": true,
   "skip_h1_title": false,
   "title_cell": "Table of Contents",
   "title_sidebar": "Contents",
   "toc_cell": false,
   "toc_position": {},
   "toc_section_display": true,
   "toc_window_display": false
  }
 },
 "nbformat": 4,
 "nbformat_minor": 2
}
